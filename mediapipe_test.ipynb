{
 "cells": [
  {
   "cell_type": "code",
   "execution_count": 7,
   "metadata": {},
   "outputs": [],
   "source": [
    "import cv2\n",
    "import mediapipe as mp\n",
    "\n",
    "# Initialize MediaPipe Pose and drawing utilities\n",
    "mp_pose = mp.solutions.pose\n",
    "mp_drawing = mp.solutions.drawing_utils\n",
    "\n",
    "# Initialize video capture\n",
    "video_path = 'Final Clips/PKClips00000979R.mp4'  # Replace with your video file path\n",
    "\n",
    "cap = cv2.VideoCapture(video_path)\n",
    "\n",
    "# Set up the Pose estimation model\n",
    "with mp_pose.Pose(min_detection_confidence=0.5, min_tracking_confidence=0.5) as pose:\n",
    "    while cap.isOpened():\n",
    "        ret, frame = cap.read()\n",
    "        if not ret:\n",
    "            break\n",
    "\n",
    "        # Convert the frame to RGB, as MediaPipe works with RGB images\n",
    "        rgb_frame = cv2.cvtColor(frame, cv2.COLOR_BGR2RGB)\n",
    "\n",
    "        # Process the frame for pose estimation\n",
    "        results = pose.process(rgb_frame)\n",
    "        print(len(results.pose_landmarks))\n",
    "\n",
    "        # Draw pose landmarks on the frame\n",
    "        if results.pose_landmarks:\n",
    "            mp_drawing.draw_landmarks(\n",
    "                frame, results.pose_landmarks, mp_pose.POSE_CONNECTIONS,\n",
    "                mp_drawing.DrawingSpec(color=(0, 255, 0), thickness=2, circle_radius=2),\n",
    "                mp_drawing.DrawingSpec(color=(0, 0, 255), thickness=2, circle_radius=2)\n",
    "            )\n",
    "\n",
    "        # Display the frame with pose landmarks\n",
    "        cv2.imshow('Pose Estimation', frame)\n",
    "\n",
    "        if cv2.waitKey(10) & 0xFF == ord('q'):\n",
    "            break\n",
    "\n",
    "\n",
    "# Release video capture and close windows\n",
    "cap.release()\n",
    "cv2.destroyAllWindows()\n"
   ]
  },
  {
   "cell_type": "code",
   "execution_count": null,
   "metadata": {},
   "outputs": [],
   "source": [
    "len(results.pose_landmarks)"
   ]
  },
  {
   "cell_type": "code",
   "execution_count": 9,
   "metadata": {},
   "outputs": [
    {
     "name": "stdout",
     "output_type": "stream",
     "text": [
      "Landmarks array shape: (0,)\n"
     ]
    }
   ],
   "source": [
    "import cv2\n",
    "import mediapipe as mp\n",
    "import numpy as np\n",
    "\n",
    "# Initialize MediaPipe Pose\n",
    "mp_pose = mp.solutions.pose\n",
    "\n",
    "# Initialize video capture\n",
    "video_path = 'Final Clips/PKClips00000979R.mp4'  # Replace with your video file path\n",
    "cap = cv2.VideoCapture(video_path)\n",
    "\n",
    "# Initialize list to store all frame landmarks\n",
    "landmarks_all_frames = []\n",
    "\n",
    "# Set up the Pose estimation model\n",
    "with mp_pose.Pose(min_detection_confidence=0.5, min_tracking_confidence=0.5) as pose:\n",
    "    while cap.isOpened():\n",
    "        ret, frame = cap.read()\n",
    "        if not ret:\n",
    "            break\n",
    "\n",
    "        # Convert the frame to RGB, as MediaPipe works with RGB images\n",
    "        rgb_frame = cv2.cvtColor(frame, cv2.COLOR_BGR2RGB)\n",
    "\n",
    "        # Process the frame for pose estimation\n",
    "        results = pose.process(rgb_frame)\n",
    "\n",
    "        # If pose landmarks are detected\n",
    "        if results.pose_landmarks:\n",
    "            # Initialize list for the current frame's landmarks\n",
    "            landmarks_frame = []\n",
    "\n",
    "            # Extract each landmark and append it to the list as [x, y, z]\n",
    "            for landmark in results.pose_landmarks.landmark:\n",
    "                print(landmark.x)\n",
    "                landmarks_frame.append([landmark.x, landmark.y, landmark.z])\n",
    "\n",
    "            # Append the landmarks for the current frame to the overall list\n",
    "            landmarks_all_frames.append(landmarks_frame)\n",
    "\n",
    "# Release video capture\n",
    "cap.release()\n",
    "\n",
    "# Convert the list of landmarks for all frames to a NumPy array\n",
    "# Shape will be (num_frames, num_landmarks, 3)\n",
    "landmarks_np = np.array(landmarks_all_frames)\n",
    "\n",
    "print(f\"Landmarks array shape: {landmarks_np.shape}\")\n"
   ]
  },
  {
   "cell_type": "code",
   "execution_count": 8,
   "metadata": {},
   "outputs": [
    {
     "data": {
      "text/plain": [
       "array([], dtype=float64)"
      ]
     },
     "execution_count": 8,
     "metadata": {},
     "output_type": "execute_result"
    }
   ],
   "source": [
    "landmarks_np"
   ]
  }
 ],
 "metadata": {
  "kernelspec": {
   "display_name": ".venv",
   "language": "python",
   "name": "python3"
  },
  "language_info": {
   "codemirror_mode": {
    "name": "ipython",
    "version": 3
   },
   "file_extension": ".py",
   "mimetype": "text/x-python",
   "name": "python",
   "nbconvert_exporter": "python",
   "pygments_lexer": "ipython3",
   "version": "3.10.0"
  }
 },
 "nbformat": 4,
 "nbformat_minor": 2
}
