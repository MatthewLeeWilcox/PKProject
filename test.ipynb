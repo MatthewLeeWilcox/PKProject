{
 "cells": [
  {
   "cell_type": "code",
   "execution_count": 2,
   "metadata": {},
   "outputs": [],
   "source": [
    "import numpy as np \n",
    "import pandas as pd\n"
   ]
  },
  {
   "cell_type": "code",
   "execution_count": 16,
   "metadata": {},
   "outputs": [],
   "source": [
    "test = pd.read_csv(\"pose2.csv\")\n",
    "test2 = pd.read_csv(\"pose.csv\")"
   ]
  },
  {
   "cell_type": "code",
   "execution_count": null,
   "metadata": {},
   "outputs": [
    {
     "name": "stdout",
     "output_type": "stream",
     "text": [
      "00000129\n",
      "L\n"
     ]
    }
   ],
   "source": [
    "\n",
    "# filename = filename.split('/')[1]\n",
    "import re\n",
    "def get_label(string):\n",
    "    match = re.search(r'PKClips(\\d+)([A-Za-z])', string)\n",
    "\n",
    "    if match:\n",
    "        number = match.group(1)  # Extract '00000129'\n",
    "        label = match.group(2)   # Extract 'L'\n",
    "        return number, label\n",
    "print(number)  # Output: 00000129\n",
    "print(label)   # Output: L\n",
    "\n",
    "    \n",
    "\n"
   ]
  },
  {
   "cell_type": "code",
   "execution_count": null,
   "metadata": {},
   "outputs": [],
   "source": [
    "filename = 'PKClips00000129L.mp4'\n",
    "filename.split('PKClips')"
   ]
  },
  {
   "cell_type": "code",
   "execution_count": 23,
   "metadata": {},
   "outputs": [
    {
     "name": "stdout",
     "output_type": "stream",
     "text": [
      "Pattern not found.\n"
     ]
    }
   ],
   "source": [
    "get_label(filename)\n"
   ]
  },
  {
   "cell_type": "code",
   "execution_count": 14,
   "metadata": {},
   "outputs": [
    {
     "data": {
      "text/plain": [
       "'PKClips00000129L.mp4'"
      ]
     },
     "execution_count": 14,
     "metadata": {},
     "output_type": "execute_result"
    }
   ],
   "source": [
    "filename"
   ]
  },
  {
   "cell_type": "code",
   "execution_count": 18,
   "metadata": {},
   "outputs": [
    {
     "data": {
      "text/html": [
       "<div>\n",
       "<style scoped>\n",
       "    .dataframe tbody tr th:only-of-type {\n",
       "        vertical-align: middle;\n",
       "    }\n",
       "\n",
       "    .dataframe tbody tr th {\n",
       "        vertical-align: top;\n",
       "    }\n",
       "\n",
       "    .dataframe thead th {\n",
       "        text-align: right;\n",
       "    }\n",
       "</style>\n",
       "<table border=\"1\" class=\"dataframe\">\n",
       "  <thead>\n",
       "    <tr style=\"text-align: right;\">\n",
       "      <th></th>\n",
       "      <th>frame</th>\n",
       "      <th>landmark</th>\n",
       "      <th>x</th>\n",
       "      <th>y</th>\n",
       "      <th>z</th>\n",
       "      <th>visibility</th>\n",
       "    </tr>\n",
       "  </thead>\n",
       "  <tbody>\n",
       "    <tr>\n",
       "      <th>0</th>\n",
       "      <td>11</td>\n",
       "      <td>0</td>\n",
       "      <td>0.392349</td>\n",
       "      <td>0.265571</td>\n",
       "      <td>-0.051732</td>\n",
       "      <td>0.989667</td>\n",
       "    </tr>\n",
       "    <tr>\n",
       "      <th>1</th>\n",
       "      <td>11</td>\n",
       "      <td>1</td>\n",
       "      <td>0.389919</td>\n",
       "      <td>0.257827</td>\n",
       "      <td>-0.070278</td>\n",
       "      <td>0.985627</td>\n",
       "    </tr>\n",
       "    <tr>\n",
       "      <th>2</th>\n",
       "      <td>11</td>\n",
       "      <td>2</td>\n",
       "      <td>0.387846</td>\n",
       "      <td>0.257425</td>\n",
       "      <td>-0.070307</td>\n",
       "      <td>0.986082</td>\n",
       "    </tr>\n",
       "    <tr>\n",
       "      <th>3</th>\n",
       "      <td>11</td>\n",
       "      <td>3</td>\n",
       "      <td>0.385575</td>\n",
       "      <td>0.257110</td>\n",
       "      <td>-0.070343</td>\n",
       "      <td>0.985521</td>\n",
       "    </tr>\n",
       "    <tr>\n",
       "      <th>4</th>\n",
       "      <td>11</td>\n",
       "      <td>4</td>\n",
       "      <td>0.394868</td>\n",
       "      <td>0.258338</td>\n",
       "      <td>-0.067694</td>\n",
       "      <td>0.981661</td>\n",
       "    </tr>\n",
       "    <tr>\n",
       "      <th>...</th>\n",
       "      <td>...</td>\n",
       "      <td>...</td>\n",
       "      <td>...</td>\n",
       "      <td>...</td>\n",
       "      <td>...</td>\n",
       "      <td>...</td>\n",
       "    </tr>\n",
       "    <tr>\n",
       "      <th>5737</th>\n",
       "      <td>184</td>\n",
       "      <td>28</td>\n",
       "      <td>0.568462</td>\n",
       "      <td>0.414661</td>\n",
       "      <td>0.136148</td>\n",
       "      <td>0.784759</td>\n",
       "    </tr>\n",
       "    <tr>\n",
       "      <th>5738</th>\n",
       "      <td>184</td>\n",
       "      <td>29</td>\n",
       "      <td>0.589891</td>\n",
       "      <td>0.433734</td>\n",
       "      <td>0.113782</td>\n",
       "      <td>0.709103</td>\n",
       "    </tr>\n",
       "    <tr>\n",
       "      <th>5739</th>\n",
       "      <td>184</td>\n",
       "      <td>30</td>\n",
       "      <td>0.567275</td>\n",
       "      <td>0.409778</td>\n",
       "      <td>0.157226</td>\n",
       "      <td>0.697606</td>\n",
       "    </tr>\n",
       "    <tr>\n",
       "      <th>5740</th>\n",
       "      <td>184</td>\n",
       "      <td>31</td>\n",
       "      <td>0.596518</td>\n",
       "      <td>0.462562</td>\n",
       "      <td>0.081406</td>\n",
       "      <td>0.756822</td>\n",
       "    </tr>\n",
       "    <tr>\n",
       "      <th>5741</th>\n",
       "      <td>184</td>\n",
       "      <td>32</td>\n",
       "      <td>0.575094</td>\n",
       "      <td>0.445374</td>\n",
       "      <td>0.133712</td>\n",
       "      <td>0.755528</td>\n",
       "    </tr>\n",
       "  </tbody>\n",
       "</table>\n",
       "<p>5742 rows × 6 columns</p>\n",
       "</div>"
      ],
      "text/plain": [
       "      frame  landmark         x         y         z  visibility\n",
       "0        11         0  0.392349  0.265571 -0.051732    0.989667\n",
       "1        11         1  0.389919  0.257827 -0.070278    0.985627\n",
       "2        11         2  0.387846  0.257425 -0.070307    0.986082\n",
       "3        11         3  0.385575  0.257110 -0.070343    0.985521\n",
       "4        11         4  0.394868  0.258338 -0.067694    0.981661\n",
       "...     ...       ...       ...       ...       ...         ...\n",
       "5737    184        28  0.568462  0.414661  0.136148    0.784759\n",
       "5738    184        29  0.589891  0.433734  0.113782    0.709103\n",
       "5739    184        30  0.567275  0.409778  0.157226    0.697606\n",
       "5740    184        31  0.596518  0.462562  0.081406    0.756822\n",
       "5741    184        32  0.575094  0.445374  0.133712    0.755528\n",
       "\n",
       "[5742 rows x 6 columns]"
      ]
     },
     "execution_count": 18,
     "metadata": {},
     "output_type": "execute_result"
    }
   ],
   "source": [
    "test"
   ]
  },
  {
   "cell_type": "code",
   "execution_count": 5,
   "metadata": {},
   "outputs": [
    {
     "data": {
      "text/plain": [
       "array([ 0,  1,  2,  3,  4,  5,  6,  7,  8,  9, 10, 11, 12, 13, 14, 15, 16,\n",
       "       17, 18, 19, 20, 21, 22, 23, 24, 25, 26, 27, 28, 29, 30, 31, 32],\n",
       "      dtype=int64)"
      ]
     },
     "execution_count": 5,
     "metadata": {},
     "output_type": "execute_result"
    }
   ],
   "source": [
    "np.unique(test['landmark'])"
   ]
  },
  {
   "cell_type": "code",
   "execution_count": 6,
   "metadata": {},
   "outputs": [
    {
     "data": {
      "text/html": [
       "<div>\n",
       "<style scoped>\n",
       "    .dataframe tbody tr th:only-of-type {\n",
       "        vertical-align: middle;\n",
       "    }\n",
       "\n",
       "    .dataframe tbody tr th {\n",
       "        vertical-align: top;\n",
       "    }\n",
       "\n",
       "    .dataframe thead th {\n",
       "        text-align: right;\n",
       "    }\n",
       "</style>\n",
       "<table border=\"1\" class=\"dataframe\">\n",
       "  <thead>\n",
       "    <tr style=\"text-align: right;\">\n",
       "      <th></th>\n",
       "      <th>frame</th>\n",
       "      <th>landmark</th>\n",
       "      <th>x</th>\n",
       "      <th>y</th>\n",
       "      <th>z</th>\n",
       "      <th>visibility</th>\n",
       "    </tr>\n",
       "  </thead>\n",
       "  <tbody>\n",
       "    <tr>\n",
       "      <th>0</th>\n",
       "      <td>8</td>\n",
       "      <td>0</td>\n",
       "      <td>0.059724</td>\n",
       "      <td>0.176716</td>\n",
       "      <td>-0.053618</td>\n",
       "      <td>0.981446</td>\n",
       "    </tr>\n",
       "    <tr>\n",
       "      <th>33</th>\n",
       "      <td>9</td>\n",
       "      <td>0</td>\n",
       "      <td>0.059402</td>\n",
       "      <td>0.181629</td>\n",
       "      <td>-0.043748</td>\n",
       "      <td>0.982755</td>\n",
       "    </tr>\n",
       "    <tr>\n",
       "      <th>66</th>\n",
       "      <td>10</td>\n",
       "      <td>0</td>\n",
       "      <td>0.058974</td>\n",
       "      <td>0.181579</td>\n",
       "      <td>-0.045203</td>\n",
       "      <td>0.983924</td>\n",
       "    </tr>\n",
       "    <tr>\n",
       "      <th>99</th>\n",
       "      <td>11</td>\n",
       "      <td>0</td>\n",
       "      <td>0.058578</td>\n",
       "      <td>0.181430</td>\n",
       "      <td>-0.033961</td>\n",
       "      <td>0.985067</td>\n",
       "    </tr>\n",
       "    <tr>\n",
       "      <th>132</th>\n",
       "      <td>12</td>\n",
       "      <td>0</td>\n",
       "      <td>0.058011</td>\n",
       "      <td>0.181289</td>\n",
       "      <td>-0.017634</td>\n",
       "      <td>0.986271</td>\n",
       "    </tr>\n",
       "    <tr>\n",
       "      <th>...</th>\n",
       "      <td>...</td>\n",
       "      <td>...</td>\n",
       "      <td>...</td>\n",
       "      <td>...</td>\n",
       "      <td>...</td>\n",
       "      <td>...</td>\n",
       "    </tr>\n",
       "    <tr>\n",
       "      <th>7062</th>\n",
       "      <td>222</td>\n",
       "      <td>0</td>\n",
       "      <td>0.402348</td>\n",
       "      <td>0.241128</td>\n",
       "      <td>0.063478</td>\n",
       "      <td>0.995032</td>\n",
       "    </tr>\n",
       "    <tr>\n",
       "      <th>7095</th>\n",
       "      <td>223</td>\n",
       "      <td>0</td>\n",
       "      <td>0.408876</td>\n",
       "      <td>0.245974</td>\n",
       "      <td>0.061484</td>\n",
       "      <td>0.995521</td>\n",
       "    </tr>\n",
       "    <tr>\n",
       "      <th>7128</th>\n",
       "      <td>224</td>\n",
       "      <td>0</td>\n",
       "      <td>0.416825</td>\n",
       "      <td>0.251071</td>\n",
       "      <td>0.069599</td>\n",
       "      <td>0.995961</td>\n",
       "    </tr>\n",
       "    <tr>\n",
       "      <th>7161</th>\n",
       "      <td>225</td>\n",
       "      <td>0</td>\n",
       "      <td>0.428456</td>\n",
       "      <td>0.251222</td>\n",
       "      <td>0.049665</td>\n",
       "      <td>0.996351</td>\n",
       "    </tr>\n",
       "    <tr>\n",
       "      <th>7194</th>\n",
       "      <td>226</td>\n",
       "      <td>0</td>\n",
       "      <td>0.432601</td>\n",
       "      <td>0.254494</td>\n",
       "      <td>0.060760</td>\n",
       "      <td>0.996700</td>\n",
       "    </tr>\n",
       "  </tbody>\n",
       "</table>\n",
       "<p>219 rows × 6 columns</p>\n",
       "</div>"
      ],
      "text/plain": [
       "      frame  landmark         x         y         z  visibility\n",
       "0         8         0  0.059724  0.176716 -0.053618    0.981446\n",
       "33        9         0  0.059402  0.181629 -0.043748    0.982755\n",
       "66       10         0  0.058974  0.181579 -0.045203    0.983924\n",
       "99       11         0  0.058578  0.181430 -0.033961    0.985067\n",
       "132      12         0  0.058011  0.181289 -0.017634    0.986271\n",
       "...     ...       ...       ...       ...       ...         ...\n",
       "7062    222         0  0.402348  0.241128  0.063478    0.995032\n",
       "7095    223         0  0.408876  0.245974  0.061484    0.995521\n",
       "7128    224         0  0.416825  0.251071  0.069599    0.995961\n",
       "7161    225         0  0.428456  0.251222  0.049665    0.996351\n",
       "7194    226         0  0.432601  0.254494  0.060760    0.996700\n",
       "\n",
       "[219 rows x 6 columns]"
      ]
     },
     "execution_count": 6,
     "metadata": {},
     "output_type": "execute_result"
    }
   ],
   "source": [
    "test[test['landmark'] == 0]"
   ]
  },
  {
   "cell_type": "code",
   "execution_count": 7,
   "metadata": {},
   "outputs": [],
   "source": [
    "def check_all_numbers_present(num_list, min_num, max_num):\n",
    "    # min_num = min(num_list)\n",
    "    # max_num = max(num_list)\n",
    "\n",
    "    # Create a set of the full range of numbers between min and max\n",
    "    full_range = set(range(min_num, max_num + 1))\n",
    "\n",
    "    # Convert the input list to a set\n",
    "    num_set = set(num_list)\n",
    "\n",
    "    # Check if both sets are equal\n",
    "    return full_range == num_set\n"
   ]
  },
  {
   "cell_type": "code",
   "execution_count": 8,
   "metadata": {},
   "outputs": [
    {
     "data": {
      "text/plain": [
       "True"
      ]
     },
     "execution_count": 8,
     "metadata": {},
     "output_type": "execute_result"
    }
   ],
   "source": [
    "check_all_numbers_present(test['frame'], min(test['frame']), max(test['frame']))"
   ]
  },
  {
   "cell_type": "code",
   "execution_count": 9,
   "metadata": {},
   "outputs": [
    {
     "name": "stdout",
     "output_type": "stream",
     "text": [
      "0 True\n",
      "1 True\n",
      "2 True\n",
      "3 True\n",
      "4 True\n",
      "5 True\n",
      "6 True\n",
      "7 True\n",
      "8 True\n",
      "9 True\n",
      "10 True\n",
      "11 True\n",
      "12 True\n",
      "13 True\n",
      "14 True\n",
      "15 True\n",
      "16 True\n",
      "17 True\n",
      "18 True\n",
      "19 True\n",
      "20 True\n",
      "21 True\n",
      "22 True\n",
      "23 True\n",
      "24 True\n",
      "25 True\n",
      "26 True\n",
      "27 True\n",
      "28 True\n",
      "29 True\n",
      "30 True\n",
      "31 True\n",
      "32 True\n"
     ]
    }
   ],
   "source": [
    "unique_val_list = np.unique(test['landmark'])\n",
    "for i in range(min(unique_val_list), max(unique_val_list)+1):\n",
    "    temp_df = test.copy()\n",
    "    temp_df = temp_df[temp_df['landmark']== i ]\n",
    "    check_all = check_all_numbers_present(temp_df['frame'], min(test['frame']), max(test['frame']))\n",
    "    print(i, check_all)\n"
   ]
  },
  {
   "cell_type": "code",
   "execution_count": 10,
   "metadata": {},
   "outputs": [
    {
     "data": {
      "text/html": [
       "<div>\n",
       "<style scoped>\n",
       "    .dataframe tbody tr th:only-of-type {\n",
       "        vertical-align: middle;\n",
       "    }\n",
       "\n",
       "    .dataframe tbody tr th {\n",
       "        vertical-align: top;\n",
       "    }\n",
       "\n",
       "    .dataframe thead th {\n",
       "        text-align: right;\n",
       "    }\n",
       "</style>\n",
       "<table border=\"1\" class=\"dataframe\">\n",
       "  <thead>\n",
       "    <tr style=\"text-align: right;\">\n",
       "      <th></th>\n",
       "      <th>frame</th>\n",
       "      <th>landmark</th>\n",
       "      <th>x</th>\n",
       "      <th>y</th>\n",
       "      <th>z</th>\n",
       "      <th>visibility</th>\n",
       "    </tr>\n",
       "  </thead>\n",
       "  <tbody>\n",
       "    <tr>\n",
       "      <th>66</th>\n",
       "      <td>10</td>\n",
       "      <td>0</td>\n",
       "      <td>0.058974</td>\n",
       "      <td>0.181579</td>\n",
       "      <td>-0.045203</td>\n",
       "      <td>0.983924</td>\n",
       "    </tr>\n",
       "    <tr>\n",
       "      <th>67</th>\n",
       "      <td>10</td>\n",
       "      <td>1</td>\n",
       "      <td>0.056997</td>\n",
       "      <td>0.171509</td>\n",
       "      <td>-0.039248</td>\n",
       "      <td>0.978717</td>\n",
       "    </tr>\n",
       "    <tr>\n",
       "      <th>68</th>\n",
       "      <td>10</td>\n",
       "      <td>2</td>\n",
       "      <td>0.056416</td>\n",
       "      <td>0.171005</td>\n",
       "      <td>-0.039278</td>\n",
       "      <td>0.978182</td>\n",
       "    </tr>\n",
       "    <tr>\n",
       "      <th>69</th>\n",
       "      <td>10</td>\n",
       "      <td>3</td>\n",
       "      <td>0.055849</td>\n",
       "      <td>0.170465</td>\n",
       "      <td>-0.039278</td>\n",
       "      <td>0.979329</td>\n",
       "    </tr>\n",
       "    <tr>\n",
       "      <th>70</th>\n",
       "      <td>10</td>\n",
       "      <td>4</td>\n",
       "      <td>0.057165</td>\n",
       "      <td>0.171897</td>\n",
       "      <td>-0.057833</td>\n",
       "      <td>0.982106</td>\n",
       "    </tr>\n",
       "    <tr>\n",
       "      <th>71</th>\n",
       "      <td>10</td>\n",
       "      <td>5</td>\n",
       "      <td>0.056725</td>\n",
       "      <td>0.171791</td>\n",
       "      <td>-0.057849</td>\n",
       "      <td>0.983121</td>\n",
       "    </tr>\n",
       "    <tr>\n",
       "      <th>72</th>\n",
       "      <td>10</td>\n",
       "      <td>6</td>\n",
       "      <td>0.056297</td>\n",
       "      <td>0.171722</td>\n",
       "      <td>-0.057888</td>\n",
       "      <td>0.985695</td>\n",
       "    </tr>\n",
       "    <tr>\n",
       "      <th>73</th>\n",
       "      <td>10</td>\n",
       "      <td>7</td>\n",
       "      <td>0.049792</td>\n",
       "      <td>0.171919</td>\n",
       "      <td>-0.005132</td>\n",
       "      <td>0.952468</td>\n",
       "    </tr>\n",
       "    <tr>\n",
       "      <th>74</th>\n",
       "      <td>10</td>\n",
       "      <td>8</td>\n",
       "      <td>0.051481</td>\n",
       "      <td>0.173657</td>\n",
       "      <td>-0.087998</td>\n",
       "      <td>0.984724</td>\n",
       "    </tr>\n",
       "    <tr>\n",
       "      <th>75</th>\n",
       "      <td>10</td>\n",
       "      <td>9</td>\n",
       "      <td>0.056265</td>\n",
       "      <td>0.188925</td>\n",
       "      <td>-0.029768</td>\n",
       "      <td>0.976243</td>\n",
       "    </tr>\n",
       "    <tr>\n",
       "      <th>76</th>\n",
       "      <td>10</td>\n",
       "      <td>10</td>\n",
       "      <td>0.056152</td>\n",
       "      <td>0.189152</td>\n",
       "      <td>-0.053971</td>\n",
       "      <td>0.987119</td>\n",
       "    </tr>\n",
       "    <tr>\n",
       "      <th>77</th>\n",
       "      <td>10</td>\n",
       "      <td>11</td>\n",
       "      <td>0.037846</td>\n",
       "      <td>0.219986</td>\n",
       "      <td>0.053629</td>\n",
       "      <td>0.992865</td>\n",
       "    </tr>\n",
       "    <tr>\n",
       "      <th>78</th>\n",
       "      <td>10</td>\n",
       "      <td>12</td>\n",
       "      <td>0.041493</td>\n",
       "      <td>0.222700</td>\n",
       "      <td>-0.130376</td>\n",
       "      <td>0.999659</td>\n",
       "    </tr>\n",
       "    <tr>\n",
       "      <th>79</th>\n",
       "      <td>10</td>\n",
       "      <td>13</td>\n",
       "      <td>0.037898</td>\n",
       "      <td>0.296205</td>\n",
       "      <td>0.063899</td>\n",
       "      <td>0.025189</td>\n",
       "    </tr>\n",
       "    <tr>\n",
       "      <th>80</th>\n",
       "      <td>10</td>\n",
       "      <td>14</td>\n",
       "      <td>0.040771</td>\n",
       "      <td>0.306286</td>\n",
       "      <td>-0.142157</td>\n",
       "      <td>0.935712</td>\n",
       "    </tr>\n",
       "    <tr>\n",
       "      <th>81</th>\n",
       "      <td>10</td>\n",
       "      <td>15</td>\n",
       "      <td>0.044305</td>\n",
       "      <td>0.355242</td>\n",
       "      <td>0.019349</td>\n",
       "      <td>0.038426</td>\n",
       "    </tr>\n",
       "    <tr>\n",
       "      <th>82</th>\n",
       "      <td>10</td>\n",
       "      <td>16</td>\n",
       "      <td>0.050715</td>\n",
       "      <td>0.372485</td>\n",
       "      <td>-0.098526</td>\n",
       "      <td>0.756121</td>\n",
       "    </tr>\n",
       "    <tr>\n",
       "      <th>83</th>\n",
       "      <td>10</td>\n",
       "      <td>17</td>\n",
       "      <td>0.043254</td>\n",
       "      <td>0.375420</td>\n",
       "      <td>0.013924</td>\n",
       "      <td>0.055024</td>\n",
       "    </tr>\n",
       "    <tr>\n",
       "      <th>84</th>\n",
       "      <td>10</td>\n",
       "      <td>18</td>\n",
       "      <td>0.053623</td>\n",
       "      <td>0.390586</td>\n",
       "      <td>-0.111076</td>\n",
       "      <td>0.704979</td>\n",
       "    </tr>\n",
       "    <tr>\n",
       "      <th>85</th>\n",
       "      <td>10</td>\n",
       "      <td>19</td>\n",
       "      <td>0.045334</td>\n",
       "      <td>0.373191</td>\n",
       "      <td>0.000793</td>\n",
       "      <td>0.056567</td>\n",
       "    </tr>\n",
       "    <tr>\n",
       "      <th>86</th>\n",
       "      <td>10</td>\n",
       "      <td>20</td>\n",
       "      <td>0.054737</td>\n",
       "      <td>0.391013</td>\n",
       "      <td>-0.106659</td>\n",
       "      <td>0.688745</td>\n",
       "    </tr>\n",
       "    <tr>\n",
       "      <th>87</th>\n",
       "      <td>10</td>\n",
       "      <td>21</td>\n",
       "      <td>0.045260</td>\n",
       "      <td>0.368768</td>\n",
       "      <td>0.010992</td>\n",
       "      <td>0.057064</td>\n",
       "    </tr>\n",
       "    <tr>\n",
       "      <th>88</th>\n",
       "      <td>10</td>\n",
       "      <td>22</td>\n",
       "      <td>0.056594</td>\n",
       "      <td>0.382830</td>\n",
       "      <td>-0.095159</td>\n",
       "      <td>0.632064</td>\n",
       "    </tr>\n",
       "    <tr>\n",
       "      <th>89</th>\n",
       "      <td>10</td>\n",
       "      <td>23</td>\n",
       "      <td>0.039832</td>\n",
       "      <td>0.377540</td>\n",
       "      <td>0.059784</td>\n",
       "      <td>0.997641</td>\n",
       "    </tr>\n",
       "    <tr>\n",
       "      <th>90</th>\n",
       "      <td>10</td>\n",
       "      <td>24</td>\n",
       "      <td>0.041601</td>\n",
       "      <td>0.379958</td>\n",
       "      <td>-0.059825</td>\n",
       "      <td>0.998760</td>\n",
       "    </tr>\n",
       "    <tr>\n",
       "      <th>91</th>\n",
       "      <td>10</td>\n",
       "      <td>25</td>\n",
       "      <td>0.045205</td>\n",
       "      <td>0.470829</td>\n",
       "      <td>0.106689</td>\n",
       "      <td>0.189220</td>\n",
       "    </tr>\n",
       "    <tr>\n",
       "      <th>92</th>\n",
       "      <td>10</td>\n",
       "      <td>26</td>\n",
       "      <td>0.047549</td>\n",
       "      <td>0.472776</td>\n",
       "      <td>-0.011623</td>\n",
       "      <td>0.923013</td>\n",
       "    </tr>\n",
       "    <tr>\n",
       "      <th>93</th>\n",
       "      <td>10</td>\n",
       "      <td>27</td>\n",
       "      <td>0.047563</td>\n",
       "      <td>0.570490</td>\n",
       "      <td>0.164180</td>\n",
       "      <td>0.360229</td>\n",
       "    </tr>\n",
       "    <tr>\n",
       "      <th>94</th>\n",
       "      <td>10</td>\n",
       "      <td>28</td>\n",
       "      <td>0.060358</td>\n",
       "      <td>0.567661</td>\n",
       "      <td>0.053860</td>\n",
       "      <td>0.899227</td>\n",
       "    </tr>\n",
       "    <tr>\n",
       "      <th>95</th>\n",
       "      <td>10</td>\n",
       "      <td>29</td>\n",
       "      <td>0.041966</td>\n",
       "      <td>0.590119</td>\n",
       "      <td>0.168099</td>\n",
       "      <td>0.512234</td>\n",
       "    </tr>\n",
       "    <tr>\n",
       "      <th>96</th>\n",
       "      <td>10</td>\n",
       "      <td>30</td>\n",
       "      <td>0.054993</td>\n",
       "      <td>0.585446</td>\n",
       "      <td>0.058936</td>\n",
       "      <td>0.892299</td>\n",
       "    </tr>\n",
       "    <tr>\n",
       "      <th>97</th>\n",
       "      <td>10</td>\n",
       "      <td>31</td>\n",
       "      <td>0.068956</td>\n",
       "      <td>0.580123</td>\n",
       "      <td>0.144882</td>\n",
       "      <td>0.496759</td>\n",
       "    </tr>\n",
       "    <tr>\n",
       "      <th>98</th>\n",
       "      <td>10</td>\n",
       "      <td>32</td>\n",
       "      <td>0.086689</td>\n",
       "      <td>0.581431</td>\n",
       "      <td>0.024796</td>\n",
       "      <td>0.868139</td>\n",
       "    </tr>\n",
       "  </tbody>\n",
       "</table>\n",
       "</div>"
      ],
      "text/plain": [
       "    frame  landmark         x         y         z  visibility\n",
       "66     10         0  0.058974  0.181579 -0.045203    0.983924\n",
       "67     10         1  0.056997  0.171509 -0.039248    0.978717\n",
       "68     10         2  0.056416  0.171005 -0.039278    0.978182\n",
       "69     10         3  0.055849  0.170465 -0.039278    0.979329\n",
       "70     10         4  0.057165  0.171897 -0.057833    0.982106\n",
       "71     10         5  0.056725  0.171791 -0.057849    0.983121\n",
       "72     10         6  0.056297  0.171722 -0.057888    0.985695\n",
       "73     10         7  0.049792  0.171919 -0.005132    0.952468\n",
       "74     10         8  0.051481  0.173657 -0.087998    0.984724\n",
       "75     10         9  0.056265  0.188925 -0.029768    0.976243\n",
       "76     10        10  0.056152  0.189152 -0.053971    0.987119\n",
       "77     10        11  0.037846  0.219986  0.053629    0.992865\n",
       "78     10        12  0.041493  0.222700 -0.130376    0.999659\n",
       "79     10        13  0.037898  0.296205  0.063899    0.025189\n",
       "80     10        14  0.040771  0.306286 -0.142157    0.935712\n",
       "81     10        15  0.044305  0.355242  0.019349    0.038426\n",
       "82     10        16  0.050715  0.372485 -0.098526    0.756121\n",
       "83     10        17  0.043254  0.375420  0.013924    0.055024\n",
       "84     10        18  0.053623  0.390586 -0.111076    0.704979\n",
       "85     10        19  0.045334  0.373191  0.000793    0.056567\n",
       "86     10        20  0.054737  0.391013 -0.106659    0.688745\n",
       "87     10        21  0.045260  0.368768  0.010992    0.057064\n",
       "88     10        22  0.056594  0.382830 -0.095159    0.632064\n",
       "89     10        23  0.039832  0.377540  0.059784    0.997641\n",
       "90     10        24  0.041601  0.379958 -0.059825    0.998760\n",
       "91     10        25  0.045205  0.470829  0.106689    0.189220\n",
       "92     10        26  0.047549  0.472776 -0.011623    0.923013\n",
       "93     10        27  0.047563  0.570490  0.164180    0.360229\n",
       "94     10        28  0.060358  0.567661  0.053860    0.899227\n",
       "95     10        29  0.041966  0.590119  0.168099    0.512234\n",
       "96     10        30  0.054993  0.585446  0.058936    0.892299\n",
       "97     10        31  0.068956  0.580123  0.144882    0.496759\n",
       "98     10        32  0.086689  0.581431  0.024796    0.868139"
      ]
     },
     "execution_count": 10,
     "metadata": {},
     "output_type": "execute_result"
    }
   ],
   "source": [
    "temp = test.copy()\n",
    "temp = temp[temp['frame']==10]\n",
    "temp"
   ]
  },
  {
   "cell_type": "code",
   "execution_count": 11,
   "metadata": {},
   "outputs": [
    {
     "name": "stdout",
     "output_type": "stream",
     "text": [
      "Requirement already satisfied: nbformat in c:\\class work\\pkproject\\.venv\\lib\\site-packages (5.10.4)\n",
      "Requirement already satisfied: fastjsonschema>=2.15 in c:\\class work\\pkproject\\.venv\\lib\\site-packages (from nbformat) (2.21.1)\n",
      "Requirement already satisfied: jsonschema>=2.6 in c:\\class work\\pkproject\\.venv\\lib\\site-packages (from nbformat) (4.23.0)\n",
      "Requirement already satisfied: jupyter-core!=5.0.*,>=4.12 in c:\\class work\\pkproject\\.venv\\lib\\site-packages (from nbformat) (5.7.2)\n",
      "Requirement already satisfied: traitlets>=5.1 in c:\\class work\\pkproject\\.venv\\lib\\site-packages (from nbformat) (5.14.3)\n",
      "Requirement already satisfied: attrs>=22.2.0 in c:\\class work\\pkproject\\.venv\\lib\\site-packages (from jsonschema>=2.6->nbformat) (24.2.0)\n",
      "Requirement already satisfied: jsonschema-specifications>=2023.03.6 in c:\\class work\\pkproject\\.venv\\lib\\site-packages (from jsonschema>=2.6->nbformat) (2024.10.1)\n",
      "Requirement already satisfied: referencing>=0.28.4 in c:\\class work\\pkproject\\.venv\\lib\\site-packages (from jsonschema>=2.6->nbformat) (0.35.1)\n",
      "Requirement already satisfied: rpds-py>=0.7.1 in c:\\class work\\pkproject\\.venv\\lib\\site-packages (from jsonschema>=2.6->nbformat) (0.22.1)\n",
      "Requirement already satisfied: platformdirs>=2.5 in c:\\class work\\pkproject\\.venv\\lib\\site-packages (from jupyter-core!=5.0.*,>=4.12->nbformat) (4.3.6)\n",
      "Requirement already satisfied: pywin32>=300 in c:\\class work\\pkproject\\.venv\\lib\\site-packages (from jupyter-core!=5.0.*,>=4.12->nbformat) (308)\n"
     ]
    }
   ],
   "source": [
    "!pip install nbformat\n"
   ]
  },
  {
   "cell_type": "code",
   "execution_count": 12,
   "metadata": {},
   "outputs": [
    {
     "data": {
      "application/vnd.plotly.v1+json": {
       "config": {
        "plotlyServerURL": "https://plot.ly"
       },
       "data": [
        {
         "marker": {
          "colorscale": [
           [
            0,
            "#440154"
           ],
           [
            0.1111111111111111,
            "#482878"
           ],
           [
            0.2222222222222222,
            "#3e4989"
           ],
           [
            0.3333333333333333,
            "#31688e"
           ],
           [
            0.4444444444444444,
            "#26828e"
           ],
           [
            0.5555555555555556,
            "#1f9e89"
           ],
           [
            0.6666666666666666,
            "#35b779"
           ],
           [
            0.7777777777777778,
            "#6ece58"
           ],
           [
            0.8888888888888888,
            "#b5de2b"
           ],
           [
            1,
            "#fde725"
           ]
          ],
          "opacity": 0.8,
          "size": 5
         },
         "mode": "markers",
         "type": "scatter3d",
         "x": [
          0.0589737445116043,
          0.0569967590272426,
          0.05641620606184,
          0.0558488704264164,
          0.0571653954684734,
          0.0567254200577735,
          0.0562966093420982,
          0.049792256206274,
          0.0514812991023063,
          0.0562646761536598,
          0.0561518594622612,
          0.0378458574414253,
          0.0414931923151016,
          0.0378975681960582,
          0.0407708883285522,
          0.0443054437637329,
          0.0507151111960411,
          0.0432535111904144,
          0.0536226071417331,
          0.0453344956040382,
          0.0547366105020046,
          0.0452596060931682,
          0.0565936975181102,
          0.0398318096995353,
          0.0416005961596965,
          0.0452045425772666,
          0.0475486330687999,
          0.047563049942255,
          0.0603580102324485,
          0.04196597635746,
          0.0549934469163417,
          0.0689556375145912,
          0.0866885930299758
         ],
         "y": [
          0.1815794259309768,
          0.1715085059404373,
          0.1710049659013748,
          0.1704649180173874,
          0.1718965619802475,
          0.171791061758995,
          0.1717220395803451,
          0.1719191074371338,
          0.1736567914485931,
          0.1889250874519348,
          0.1891521364450454,
          0.2199855744838714,
          0.2227004170417785,
          0.2962048947811126,
          0.306285947561264,
          0.3552415370941162,
          0.3724847435951233,
          0.3754204213619232,
          0.3905860781669616,
          0.3731905817985534,
          0.3910134434700012,
          0.3687684834003448,
          0.3828298449516296,
          0.3775400221347809,
          0.379957765340805,
          0.4708288311958313,
          0.4727758169174194,
          0.5704899430274963,
          0.5676605701446533,
          0.5901191234588623,
          0.5854461789131165,
          0.5801228880882263,
          0.5814312100410461
         ],
         "z": [
          -0.0452027097344398,
          -0.0392484404146671,
          -0.0392776392400264,
          -0.0392784103751182,
          -0.0578326545655727,
          -0.0578489527106285,
          -0.0578876659274101,
          -0.0051315892487764,
          -0.0879981517791748,
          -0.0297677386552095,
          -0.053970843553543,
          0.0536288730800151,
          -0.1303758770227432,
          0.0638992339372634,
          -0.1421574652194976,
          0.0193486828356981,
          -0.0985261723399162,
          0.0139244860038161,
          -0.1110762506723404,
          0.0007933532469905,
          -0.1066585108637809,
          0.0109916869550943,
          -0.0951589122414588,
          0.0597841590642929,
          -0.0598251409828662,
          0.1066891551017761,
          -0.0116226468235254,
          0.1641804873943328,
          0.0538601540029048,
          0.1680990904569625,
          0.0589364282786846,
          0.1448815315961837,
          0.0247962903231382
         ]
        }
       ],
       "layout": {
        "scene": {
         "xaxis": {
          "title": {
           "text": "X Axis"
          }
         },
         "yaxis": {
          "title": {
           "text": "Y Axis"
          }
         },
         "zaxis": {
          "title": {
           "text": "Z Axis"
          }
         }
        },
        "template": {
         "data": {
          "bar": [
           {
            "error_x": {
             "color": "#2a3f5f"
            },
            "error_y": {
             "color": "#2a3f5f"
            },
            "marker": {
             "line": {
              "color": "#E5ECF6",
              "width": 0.5
             },
             "pattern": {
              "fillmode": "overlay",
              "size": 10,
              "solidity": 0.2
             }
            },
            "type": "bar"
           }
          ],
          "barpolar": [
           {
            "marker": {
             "line": {
              "color": "#E5ECF6",
              "width": 0.5
             },
             "pattern": {
              "fillmode": "overlay",
              "size": 10,
              "solidity": 0.2
             }
            },
            "type": "barpolar"
           }
          ],
          "carpet": [
           {
            "aaxis": {
             "endlinecolor": "#2a3f5f",
             "gridcolor": "white",
             "linecolor": "white",
             "minorgridcolor": "white",
             "startlinecolor": "#2a3f5f"
            },
            "baxis": {
             "endlinecolor": "#2a3f5f",
             "gridcolor": "white",
             "linecolor": "white",
             "minorgridcolor": "white",
             "startlinecolor": "#2a3f5f"
            },
            "type": "carpet"
           }
          ],
          "choropleth": [
           {
            "colorbar": {
             "outlinewidth": 0,
             "ticks": ""
            },
            "type": "choropleth"
           }
          ],
          "contour": [
           {
            "colorbar": {
             "outlinewidth": 0,
             "ticks": ""
            },
            "colorscale": [
             [
              0,
              "#0d0887"
             ],
             [
              0.1111111111111111,
              "#46039f"
             ],
             [
              0.2222222222222222,
              "#7201a8"
             ],
             [
              0.3333333333333333,
              "#9c179e"
             ],
             [
              0.4444444444444444,
              "#bd3786"
             ],
             [
              0.5555555555555556,
              "#d8576b"
             ],
             [
              0.6666666666666666,
              "#ed7953"
             ],
             [
              0.7777777777777778,
              "#fb9f3a"
             ],
             [
              0.8888888888888888,
              "#fdca26"
             ],
             [
              1,
              "#f0f921"
             ]
            ],
            "type": "contour"
           }
          ],
          "contourcarpet": [
           {
            "colorbar": {
             "outlinewidth": 0,
             "ticks": ""
            },
            "type": "contourcarpet"
           }
          ],
          "heatmap": [
           {
            "colorbar": {
             "outlinewidth": 0,
             "ticks": ""
            },
            "colorscale": [
             [
              0,
              "#0d0887"
             ],
             [
              0.1111111111111111,
              "#46039f"
             ],
             [
              0.2222222222222222,
              "#7201a8"
             ],
             [
              0.3333333333333333,
              "#9c179e"
             ],
             [
              0.4444444444444444,
              "#bd3786"
             ],
             [
              0.5555555555555556,
              "#d8576b"
             ],
             [
              0.6666666666666666,
              "#ed7953"
             ],
             [
              0.7777777777777778,
              "#fb9f3a"
             ],
             [
              0.8888888888888888,
              "#fdca26"
             ],
             [
              1,
              "#f0f921"
             ]
            ],
            "type": "heatmap"
           }
          ],
          "heatmapgl": [
           {
            "colorbar": {
             "outlinewidth": 0,
             "ticks": ""
            },
            "colorscale": [
             [
              0,
              "#0d0887"
             ],
             [
              0.1111111111111111,
              "#46039f"
             ],
             [
              0.2222222222222222,
              "#7201a8"
             ],
             [
              0.3333333333333333,
              "#9c179e"
             ],
             [
              0.4444444444444444,
              "#bd3786"
             ],
             [
              0.5555555555555556,
              "#d8576b"
             ],
             [
              0.6666666666666666,
              "#ed7953"
             ],
             [
              0.7777777777777778,
              "#fb9f3a"
             ],
             [
              0.8888888888888888,
              "#fdca26"
             ],
             [
              1,
              "#f0f921"
             ]
            ],
            "type": "heatmapgl"
           }
          ],
          "histogram": [
           {
            "marker": {
             "pattern": {
              "fillmode": "overlay",
              "size": 10,
              "solidity": 0.2
             }
            },
            "type": "histogram"
           }
          ],
          "histogram2d": [
           {
            "colorbar": {
             "outlinewidth": 0,
             "ticks": ""
            },
            "colorscale": [
             [
              0,
              "#0d0887"
             ],
             [
              0.1111111111111111,
              "#46039f"
             ],
             [
              0.2222222222222222,
              "#7201a8"
             ],
             [
              0.3333333333333333,
              "#9c179e"
             ],
             [
              0.4444444444444444,
              "#bd3786"
             ],
             [
              0.5555555555555556,
              "#d8576b"
             ],
             [
              0.6666666666666666,
              "#ed7953"
             ],
             [
              0.7777777777777778,
              "#fb9f3a"
             ],
             [
              0.8888888888888888,
              "#fdca26"
             ],
             [
              1,
              "#f0f921"
             ]
            ],
            "type": "histogram2d"
           }
          ],
          "histogram2dcontour": [
           {
            "colorbar": {
             "outlinewidth": 0,
             "ticks": ""
            },
            "colorscale": [
             [
              0,
              "#0d0887"
             ],
             [
              0.1111111111111111,
              "#46039f"
             ],
             [
              0.2222222222222222,
              "#7201a8"
             ],
             [
              0.3333333333333333,
              "#9c179e"
             ],
             [
              0.4444444444444444,
              "#bd3786"
             ],
             [
              0.5555555555555556,
              "#d8576b"
             ],
             [
              0.6666666666666666,
              "#ed7953"
             ],
             [
              0.7777777777777778,
              "#fb9f3a"
             ],
             [
              0.8888888888888888,
              "#fdca26"
             ],
             [
              1,
              "#f0f921"
             ]
            ],
            "type": "histogram2dcontour"
           }
          ],
          "mesh3d": [
           {
            "colorbar": {
             "outlinewidth": 0,
             "ticks": ""
            },
            "type": "mesh3d"
           }
          ],
          "parcoords": [
           {
            "line": {
             "colorbar": {
              "outlinewidth": 0,
              "ticks": ""
             }
            },
            "type": "parcoords"
           }
          ],
          "pie": [
           {
            "automargin": true,
            "type": "pie"
           }
          ],
          "scatter": [
           {
            "fillpattern": {
             "fillmode": "overlay",
             "size": 10,
             "solidity": 0.2
            },
            "type": "scatter"
           }
          ],
          "scatter3d": [
           {
            "line": {
             "colorbar": {
              "outlinewidth": 0,
              "ticks": ""
             }
            },
            "marker": {
             "colorbar": {
              "outlinewidth": 0,
              "ticks": ""
             }
            },
            "type": "scatter3d"
           }
          ],
          "scattercarpet": [
           {
            "marker": {
             "colorbar": {
              "outlinewidth": 0,
              "ticks": ""
             }
            },
            "type": "scattercarpet"
           }
          ],
          "scattergeo": [
           {
            "marker": {
             "colorbar": {
              "outlinewidth": 0,
              "ticks": ""
             }
            },
            "type": "scattergeo"
           }
          ],
          "scattergl": [
           {
            "marker": {
             "colorbar": {
              "outlinewidth": 0,
              "ticks": ""
             }
            },
            "type": "scattergl"
           }
          ],
          "scattermapbox": [
           {
            "marker": {
             "colorbar": {
              "outlinewidth": 0,
              "ticks": ""
             }
            },
            "type": "scattermapbox"
           }
          ],
          "scatterpolar": [
           {
            "marker": {
             "colorbar": {
              "outlinewidth": 0,
              "ticks": ""
             }
            },
            "type": "scatterpolar"
           }
          ],
          "scatterpolargl": [
           {
            "marker": {
             "colorbar": {
              "outlinewidth": 0,
              "ticks": ""
             }
            },
            "type": "scatterpolargl"
           }
          ],
          "scatterternary": [
           {
            "marker": {
             "colorbar": {
              "outlinewidth": 0,
              "ticks": ""
             }
            },
            "type": "scatterternary"
           }
          ],
          "surface": [
           {
            "colorbar": {
             "outlinewidth": 0,
             "ticks": ""
            },
            "colorscale": [
             [
              0,
              "#0d0887"
             ],
             [
              0.1111111111111111,
              "#46039f"
             ],
             [
              0.2222222222222222,
              "#7201a8"
             ],
             [
              0.3333333333333333,
              "#9c179e"
             ],
             [
              0.4444444444444444,
              "#bd3786"
             ],
             [
              0.5555555555555556,
              "#d8576b"
             ],
             [
              0.6666666666666666,
              "#ed7953"
             ],
             [
              0.7777777777777778,
              "#fb9f3a"
             ],
             [
              0.8888888888888888,
              "#fdca26"
             ],
             [
              1,
              "#f0f921"
             ]
            ],
            "type": "surface"
           }
          ],
          "table": [
           {
            "cells": {
             "fill": {
              "color": "#EBF0F8"
             },
             "line": {
              "color": "white"
             }
            },
            "header": {
             "fill": {
              "color": "#C8D4E3"
             },
             "line": {
              "color": "white"
             }
            },
            "type": "table"
           }
          ]
         },
         "layout": {
          "annotationdefaults": {
           "arrowcolor": "#2a3f5f",
           "arrowhead": 0,
           "arrowwidth": 1
          },
          "autotypenumbers": "strict",
          "coloraxis": {
           "colorbar": {
            "outlinewidth": 0,
            "ticks": ""
           }
          },
          "colorscale": {
           "diverging": [
            [
             0,
             "#8e0152"
            ],
            [
             0.1,
             "#c51b7d"
            ],
            [
             0.2,
             "#de77ae"
            ],
            [
             0.3,
             "#f1b6da"
            ],
            [
             0.4,
             "#fde0ef"
            ],
            [
             0.5,
             "#f7f7f7"
            ],
            [
             0.6,
             "#e6f5d0"
            ],
            [
             0.7,
             "#b8e186"
            ],
            [
             0.8,
             "#7fbc41"
            ],
            [
             0.9,
             "#4d9221"
            ],
            [
             1,
             "#276419"
            ]
           ],
           "sequential": [
            [
             0,
             "#0d0887"
            ],
            [
             0.1111111111111111,
             "#46039f"
            ],
            [
             0.2222222222222222,
             "#7201a8"
            ],
            [
             0.3333333333333333,
             "#9c179e"
            ],
            [
             0.4444444444444444,
             "#bd3786"
            ],
            [
             0.5555555555555556,
             "#d8576b"
            ],
            [
             0.6666666666666666,
             "#ed7953"
            ],
            [
             0.7777777777777778,
             "#fb9f3a"
            ],
            [
             0.8888888888888888,
             "#fdca26"
            ],
            [
             1,
             "#f0f921"
            ]
           ],
           "sequentialminus": [
            [
             0,
             "#0d0887"
            ],
            [
             0.1111111111111111,
             "#46039f"
            ],
            [
             0.2222222222222222,
             "#7201a8"
            ],
            [
             0.3333333333333333,
             "#9c179e"
            ],
            [
             0.4444444444444444,
             "#bd3786"
            ],
            [
             0.5555555555555556,
             "#d8576b"
            ],
            [
             0.6666666666666666,
             "#ed7953"
            ],
            [
             0.7777777777777778,
             "#fb9f3a"
            ],
            [
             0.8888888888888888,
             "#fdca26"
            ],
            [
             1,
             "#f0f921"
            ]
           ]
          },
          "colorway": [
           "#636efa",
           "#EF553B",
           "#00cc96",
           "#ab63fa",
           "#FFA15A",
           "#19d3f3",
           "#FF6692",
           "#B6E880",
           "#FF97FF",
           "#FECB52"
          ],
          "font": {
           "color": "#2a3f5f"
          },
          "geo": {
           "bgcolor": "white",
           "lakecolor": "white",
           "landcolor": "#E5ECF6",
           "showlakes": true,
           "showland": true,
           "subunitcolor": "white"
          },
          "hoverlabel": {
           "align": "left"
          },
          "hovermode": "closest",
          "mapbox": {
           "style": "light"
          },
          "paper_bgcolor": "white",
          "plot_bgcolor": "#E5ECF6",
          "polar": {
           "angularaxis": {
            "gridcolor": "white",
            "linecolor": "white",
            "ticks": ""
           },
           "bgcolor": "#E5ECF6",
           "radialaxis": {
            "gridcolor": "white",
            "linecolor": "white",
            "ticks": ""
           }
          },
          "scene": {
           "xaxis": {
            "backgroundcolor": "#E5ECF6",
            "gridcolor": "white",
            "gridwidth": 2,
            "linecolor": "white",
            "showbackground": true,
            "ticks": "",
            "zerolinecolor": "white"
           },
           "yaxis": {
            "backgroundcolor": "#E5ECF6",
            "gridcolor": "white",
            "gridwidth": 2,
            "linecolor": "white",
            "showbackground": true,
            "ticks": "",
            "zerolinecolor": "white"
           },
           "zaxis": {
            "backgroundcolor": "#E5ECF6",
            "gridcolor": "white",
            "gridwidth": 2,
            "linecolor": "white",
            "showbackground": true,
            "ticks": "",
            "zerolinecolor": "white"
           }
          },
          "shapedefaults": {
           "line": {
            "color": "#2a3f5f"
           }
          },
          "ternary": {
           "aaxis": {
            "gridcolor": "white",
            "linecolor": "white",
            "ticks": ""
           },
           "baxis": {
            "gridcolor": "white",
            "linecolor": "white",
            "ticks": ""
           },
           "bgcolor": "#E5ECF6",
           "caxis": {
            "gridcolor": "white",
            "linecolor": "white",
            "ticks": ""
           }
          },
          "title": {
           "x": 0.05
          },
          "xaxis": {
           "automargin": true,
           "gridcolor": "white",
           "linecolor": "white",
           "ticks": "",
           "title": {
            "standoff": 15
           },
           "zerolinecolor": "white",
           "zerolinewidth": 2
          },
          "yaxis": {
           "automargin": true,
           "gridcolor": "white",
           "linecolor": "white",
           "ticks": "",
           "title": {
            "standoff": 15
           },
           "zerolinecolor": "white",
           "zerolinewidth": 2
          }
         }
        },
        "title": {
         "text": "3D Scatter Plot"
        }
       }
      }
     },
     "metadata": {},
     "output_type": "display_data"
    }
   ],
   "source": [
    "import plotly.graph_objects as go\n",
    "\n",
    "\n",
    "\n",
    "# Create a 3D scatter plot\n",
    "fig = go.Figure(data=[go.Scatter3d(\n",
    "    x=temp['x'],\n",
    "    y=temp['y'],\n",
    "    z=temp['z'],\n",
    "    mode='markers',\n",
    "    marker=dict(\n",
    "        size=5,  # Marker size\n",
    "        # color=z,  # Color by z-axis value\n",
    "        colorscale='Viridis',  # Colorscale for markers\n",
    "        opacity=0.8\n",
    "    )\n",
    ")])\n",
    "\n",
    "# Set plot title and axis labels\n",
    "fig.update_layout(\n",
    "    title='3D Scatter Plot',\n",
    "    scene=dict(\n",
    "        xaxis_title='X Axis',\n",
    "        yaxis_title='Y Axis',\n",
    "        zaxis_title='Z Axis'\n",
    "    )\n",
    ")\n",
    "\n",
    "# Show the plot\n",
    "fig.show()\n"
   ]
  },
  {
   "cell_type": "code",
   "execution_count": 13,
   "metadata": {},
   "outputs": [
    {
     "data": {
      "text/html": [
       "<div>\n",
       "<style scoped>\n",
       "    .dataframe tbody tr th:only-of-type {\n",
       "        vertical-align: middle;\n",
       "    }\n",
       "\n",
       "    .dataframe tbody tr th {\n",
       "        vertical-align: top;\n",
       "    }\n",
       "\n",
       "    .dataframe thead th {\n",
       "        text-align: right;\n",
       "    }\n",
       "</style>\n",
       "<table border=\"1\" class=\"dataframe\">\n",
       "  <thead>\n",
       "    <tr style=\"text-align: right;\">\n",
       "      <th></th>\n",
       "      <th>frame</th>\n",
       "      <th>landmark</th>\n",
       "      <th>x</th>\n",
       "      <th>y</th>\n",
       "      <th>z</th>\n",
       "      <th>visibility</th>\n",
       "    </tr>\n",
       "  </thead>\n",
       "  <tbody>\n",
       "    <tr>\n",
       "      <th>66</th>\n",
       "      <td>10</td>\n",
       "      <td>0</td>\n",
       "      <td>0.058974</td>\n",
       "      <td>0.181579</td>\n",
       "      <td>-0.045203</td>\n",
       "      <td>0.983924</td>\n",
       "    </tr>\n",
       "    <tr>\n",
       "      <th>67</th>\n",
       "      <td>10</td>\n",
       "      <td>1</td>\n",
       "      <td>0.056997</td>\n",
       "      <td>0.171509</td>\n",
       "      <td>-0.039248</td>\n",
       "      <td>0.978717</td>\n",
       "    </tr>\n",
       "    <tr>\n",
       "      <th>68</th>\n",
       "      <td>10</td>\n",
       "      <td>2</td>\n",
       "      <td>0.056416</td>\n",
       "      <td>0.171005</td>\n",
       "      <td>-0.039278</td>\n",
       "      <td>0.978182</td>\n",
       "    </tr>\n",
       "    <tr>\n",
       "      <th>69</th>\n",
       "      <td>10</td>\n",
       "      <td>3</td>\n",
       "      <td>0.055849</td>\n",
       "      <td>0.170465</td>\n",
       "      <td>-0.039278</td>\n",
       "      <td>0.979329</td>\n",
       "    </tr>\n",
       "    <tr>\n",
       "      <th>70</th>\n",
       "      <td>10</td>\n",
       "      <td>4</td>\n",
       "      <td>0.057165</td>\n",
       "      <td>0.171897</td>\n",
       "      <td>-0.057833</td>\n",
       "      <td>0.982106</td>\n",
       "    </tr>\n",
       "    <tr>\n",
       "      <th>71</th>\n",
       "      <td>10</td>\n",
       "      <td>5</td>\n",
       "      <td>0.056725</td>\n",
       "      <td>0.171791</td>\n",
       "      <td>-0.057849</td>\n",
       "      <td>0.983121</td>\n",
       "    </tr>\n",
       "    <tr>\n",
       "      <th>72</th>\n",
       "      <td>10</td>\n",
       "      <td>6</td>\n",
       "      <td>0.056297</td>\n",
       "      <td>0.171722</td>\n",
       "      <td>-0.057888</td>\n",
       "      <td>0.985695</td>\n",
       "    </tr>\n",
       "    <tr>\n",
       "      <th>73</th>\n",
       "      <td>10</td>\n",
       "      <td>7</td>\n",
       "      <td>0.049792</td>\n",
       "      <td>0.171919</td>\n",
       "      <td>-0.005132</td>\n",
       "      <td>0.952468</td>\n",
       "    </tr>\n",
       "    <tr>\n",
       "      <th>74</th>\n",
       "      <td>10</td>\n",
       "      <td>8</td>\n",
       "      <td>0.051481</td>\n",
       "      <td>0.173657</td>\n",
       "      <td>-0.087998</td>\n",
       "      <td>0.984724</td>\n",
       "    </tr>\n",
       "    <tr>\n",
       "      <th>75</th>\n",
       "      <td>10</td>\n",
       "      <td>9</td>\n",
       "      <td>0.056265</td>\n",
       "      <td>0.188925</td>\n",
       "      <td>-0.029768</td>\n",
       "      <td>0.976243</td>\n",
       "    </tr>\n",
       "    <tr>\n",
       "      <th>76</th>\n",
       "      <td>10</td>\n",
       "      <td>10</td>\n",
       "      <td>0.056152</td>\n",
       "      <td>0.189152</td>\n",
       "      <td>-0.053971</td>\n",
       "      <td>0.987119</td>\n",
       "    </tr>\n",
       "    <tr>\n",
       "      <th>77</th>\n",
       "      <td>10</td>\n",
       "      <td>11</td>\n",
       "      <td>0.037846</td>\n",
       "      <td>0.219986</td>\n",
       "      <td>0.053629</td>\n",
       "      <td>0.992865</td>\n",
       "    </tr>\n",
       "    <tr>\n",
       "      <th>78</th>\n",
       "      <td>10</td>\n",
       "      <td>12</td>\n",
       "      <td>0.041493</td>\n",
       "      <td>0.222700</td>\n",
       "      <td>-0.130376</td>\n",
       "      <td>0.999659</td>\n",
       "    </tr>\n",
       "    <tr>\n",
       "      <th>79</th>\n",
       "      <td>10</td>\n",
       "      <td>13</td>\n",
       "      <td>0.037898</td>\n",
       "      <td>0.296205</td>\n",
       "      <td>0.063899</td>\n",
       "      <td>0.025189</td>\n",
       "    </tr>\n",
       "    <tr>\n",
       "      <th>80</th>\n",
       "      <td>10</td>\n",
       "      <td>14</td>\n",
       "      <td>0.040771</td>\n",
       "      <td>0.306286</td>\n",
       "      <td>-0.142157</td>\n",
       "      <td>0.935712</td>\n",
       "    </tr>\n",
       "    <tr>\n",
       "      <th>81</th>\n",
       "      <td>10</td>\n",
       "      <td>15</td>\n",
       "      <td>0.044305</td>\n",
       "      <td>0.355242</td>\n",
       "      <td>0.019349</td>\n",
       "      <td>0.038426</td>\n",
       "    </tr>\n",
       "    <tr>\n",
       "      <th>82</th>\n",
       "      <td>10</td>\n",
       "      <td>16</td>\n",
       "      <td>0.050715</td>\n",
       "      <td>0.372485</td>\n",
       "      <td>-0.098526</td>\n",
       "      <td>0.756121</td>\n",
       "    </tr>\n",
       "    <tr>\n",
       "      <th>83</th>\n",
       "      <td>10</td>\n",
       "      <td>17</td>\n",
       "      <td>0.043254</td>\n",
       "      <td>0.375420</td>\n",
       "      <td>0.013924</td>\n",
       "      <td>0.055024</td>\n",
       "    </tr>\n",
       "    <tr>\n",
       "      <th>84</th>\n",
       "      <td>10</td>\n",
       "      <td>18</td>\n",
       "      <td>0.053623</td>\n",
       "      <td>0.390586</td>\n",
       "      <td>-0.111076</td>\n",
       "      <td>0.704979</td>\n",
       "    </tr>\n",
       "    <tr>\n",
       "      <th>85</th>\n",
       "      <td>10</td>\n",
       "      <td>19</td>\n",
       "      <td>0.045334</td>\n",
       "      <td>0.373191</td>\n",
       "      <td>0.000793</td>\n",
       "      <td>0.056567</td>\n",
       "    </tr>\n",
       "    <tr>\n",
       "      <th>86</th>\n",
       "      <td>10</td>\n",
       "      <td>20</td>\n",
       "      <td>0.054737</td>\n",
       "      <td>0.391013</td>\n",
       "      <td>-0.106659</td>\n",
       "      <td>0.688745</td>\n",
       "    </tr>\n",
       "    <tr>\n",
       "      <th>87</th>\n",
       "      <td>10</td>\n",
       "      <td>21</td>\n",
       "      <td>0.045260</td>\n",
       "      <td>0.368768</td>\n",
       "      <td>0.010992</td>\n",
       "      <td>0.057064</td>\n",
       "    </tr>\n",
       "    <tr>\n",
       "      <th>88</th>\n",
       "      <td>10</td>\n",
       "      <td>22</td>\n",
       "      <td>0.056594</td>\n",
       "      <td>0.382830</td>\n",
       "      <td>-0.095159</td>\n",
       "      <td>0.632064</td>\n",
       "    </tr>\n",
       "    <tr>\n",
       "      <th>89</th>\n",
       "      <td>10</td>\n",
       "      <td>23</td>\n",
       "      <td>0.039832</td>\n",
       "      <td>0.377540</td>\n",
       "      <td>0.059784</td>\n",
       "      <td>0.997641</td>\n",
       "    </tr>\n",
       "    <tr>\n",
       "      <th>90</th>\n",
       "      <td>10</td>\n",
       "      <td>24</td>\n",
       "      <td>0.041601</td>\n",
       "      <td>0.379958</td>\n",
       "      <td>-0.059825</td>\n",
       "      <td>0.998760</td>\n",
       "    </tr>\n",
       "    <tr>\n",
       "      <th>91</th>\n",
       "      <td>10</td>\n",
       "      <td>25</td>\n",
       "      <td>0.045205</td>\n",
       "      <td>0.470829</td>\n",
       "      <td>0.106689</td>\n",
       "      <td>0.189220</td>\n",
       "    </tr>\n",
       "    <tr>\n",
       "      <th>92</th>\n",
       "      <td>10</td>\n",
       "      <td>26</td>\n",
       "      <td>0.047549</td>\n",
       "      <td>0.472776</td>\n",
       "      <td>-0.011623</td>\n",
       "      <td>0.923013</td>\n",
       "    </tr>\n",
       "    <tr>\n",
       "      <th>93</th>\n",
       "      <td>10</td>\n",
       "      <td>27</td>\n",
       "      <td>0.047563</td>\n",
       "      <td>0.570490</td>\n",
       "      <td>0.164180</td>\n",
       "      <td>0.360229</td>\n",
       "    </tr>\n",
       "    <tr>\n",
       "      <th>94</th>\n",
       "      <td>10</td>\n",
       "      <td>28</td>\n",
       "      <td>0.060358</td>\n",
       "      <td>0.567661</td>\n",
       "      <td>0.053860</td>\n",
       "      <td>0.899227</td>\n",
       "    </tr>\n",
       "    <tr>\n",
       "      <th>95</th>\n",
       "      <td>10</td>\n",
       "      <td>29</td>\n",
       "      <td>0.041966</td>\n",
       "      <td>0.590119</td>\n",
       "      <td>0.168099</td>\n",
       "      <td>0.512234</td>\n",
       "    </tr>\n",
       "    <tr>\n",
       "      <th>96</th>\n",
       "      <td>10</td>\n",
       "      <td>30</td>\n",
       "      <td>0.054993</td>\n",
       "      <td>0.585446</td>\n",
       "      <td>0.058936</td>\n",
       "      <td>0.892299</td>\n",
       "    </tr>\n",
       "    <tr>\n",
       "      <th>97</th>\n",
       "      <td>10</td>\n",
       "      <td>31</td>\n",
       "      <td>0.068956</td>\n",
       "      <td>0.580123</td>\n",
       "      <td>0.144882</td>\n",
       "      <td>0.496759</td>\n",
       "    </tr>\n",
       "    <tr>\n",
       "      <th>98</th>\n",
       "      <td>10</td>\n",
       "      <td>32</td>\n",
       "      <td>0.086689</td>\n",
       "      <td>0.581431</td>\n",
       "      <td>0.024796</td>\n",
       "      <td>0.868139</td>\n",
       "    </tr>\n",
       "  </tbody>\n",
       "</table>\n",
       "</div>"
      ],
      "text/plain": [
       "    frame  landmark         x         y         z  visibility\n",
       "66     10         0  0.058974  0.181579 -0.045203    0.983924\n",
       "67     10         1  0.056997  0.171509 -0.039248    0.978717\n",
       "68     10         2  0.056416  0.171005 -0.039278    0.978182\n",
       "69     10         3  0.055849  0.170465 -0.039278    0.979329\n",
       "70     10         4  0.057165  0.171897 -0.057833    0.982106\n",
       "71     10         5  0.056725  0.171791 -0.057849    0.983121\n",
       "72     10         6  0.056297  0.171722 -0.057888    0.985695\n",
       "73     10         7  0.049792  0.171919 -0.005132    0.952468\n",
       "74     10         8  0.051481  0.173657 -0.087998    0.984724\n",
       "75     10         9  0.056265  0.188925 -0.029768    0.976243\n",
       "76     10        10  0.056152  0.189152 -0.053971    0.987119\n",
       "77     10        11  0.037846  0.219986  0.053629    0.992865\n",
       "78     10        12  0.041493  0.222700 -0.130376    0.999659\n",
       "79     10        13  0.037898  0.296205  0.063899    0.025189\n",
       "80     10        14  0.040771  0.306286 -0.142157    0.935712\n",
       "81     10        15  0.044305  0.355242  0.019349    0.038426\n",
       "82     10        16  0.050715  0.372485 -0.098526    0.756121\n",
       "83     10        17  0.043254  0.375420  0.013924    0.055024\n",
       "84     10        18  0.053623  0.390586 -0.111076    0.704979\n",
       "85     10        19  0.045334  0.373191  0.000793    0.056567\n",
       "86     10        20  0.054737  0.391013 -0.106659    0.688745\n",
       "87     10        21  0.045260  0.368768  0.010992    0.057064\n",
       "88     10        22  0.056594  0.382830 -0.095159    0.632064\n",
       "89     10        23  0.039832  0.377540  0.059784    0.997641\n",
       "90     10        24  0.041601  0.379958 -0.059825    0.998760\n",
       "91     10        25  0.045205  0.470829  0.106689    0.189220\n",
       "92     10        26  0.047549  0.472776 -0.011623    0.923013\n",
       "93     10        27  0.047563  0.570490  0.164180    0.360229\n",
       "94     10        28  0.060358  0.567661  0.053860    0.899227\n",
       "95     10        29  0.041966  0.590119  0.168099    0.512234\n",
       "96     10        30  0.054993  0.585446  0.058936    0.892299\n",
       "97     10        31  0.068956  0.580123  0.144882    0.496759\n",
       "98     10        32  0.086689  0.581431  0.024796    0.868139"
      ]
     },
     "execution_count": 13,
     "metadata": {},
     "output_type": "execute_result"
    }
   ],
   "source": [
    "temp"
   ]
  }
 ],
 "metadata": {
  "kernelspec": {
   "display_name": ".venv",
   "language": "python",
   "name": "python3"
  },
  "language_info": {
   "codemirror_mode": {
    "name": "ipython",
    "version": 3
   },
   "file_extension": ".py",
   "mimetype": "text/x-python",
   "name": "python",
   "nbconvert_exporter": "python",
   "pygments_lexer": "ipython3",
   "version": "3.10.0"
  }
 },
 "nbformat": 4,
 "nbformat_minor": 2
}
