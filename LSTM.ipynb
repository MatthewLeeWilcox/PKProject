{
 "cells": [
  {
   "cell_type": "code",
   "execution_count": 315,
   "metadata": {},
   "outputs": [],
   "source": [
    "import numpy as np"
   ]
  },
  {
   "cell_type": "code",
   "execution_count": 316,
   "metadata": {},
   "outputs": [
    {
     "data": {
      "text/plain": [
       "((12008, 227, 67), (12008,))"
      ]
     },
     "execution_count": 316,
     "metadata": {},
     "output_type": "execute_result"
    }
   ],
   "source": [
    "data = np.load('Intial_clip_test.npy')\n",
    "labels = np.load(\"Labels.npy\")\n",
    "data\n",
    "data.shape, labels.shape"
   ]
  },
  {
   "cell_type": "code",
   "execution_count": null,
   "metadata": {},
   "outputs": [],
   "source": []
  },
  {
   "cell_type": "code",
   "execution_count": 317,
   "metadata": {},
   "outputs": [],
   "source": [
    "import tensorflow as tf\n",
    "from tensorflow.keras.models import Sequential\n",
    "from tensorflow.keras.layers import LSTM, Dense\n"
   ]
  },
  {
   "cell_type": "code",
   "execution_count": 318,
   "metadata": {},
   "outputs": [
    {
     "data": {
      "text/plain": [
       "array(['L', 'R', 'L', ..., 'R', 'L', 'L'], dtype='<U8')"
      ]
     },
     "execution_count": 318,
     "metadata": {},
     "output_type": "execute_result"
    }
   ],
   "source": [
    "labels"
   ]
  },
  {
   "cell_type": "code",
   "execution_count": 319,
   "metadata": {},
   "outputs": [],
   "source": [
    "from sklearn.model_selection import train_test_split"
   ]
  },
  {
   "cell_type": "code",
   "execution_count": 320,
   "metadata": {},
   "outputs": [],
   "source": [
    "# X_train, X_test, y_train, y_test = train_test_split(data, y_encoded_repeated, test_size= .3, random_state = 42)"
   ]
  },
  {
   "cell_type": "code",
   "execution_count": null,
   "metadata": {},
   "outputs": [],
   "source": []
  },
  {
   "cell_type": "code",
   "execution_count": null,
   "metadata": {},
   "outputs": [],
   "source": []
  },
  {
   "cell_type": "code",
   "execution_count": null,
   "metadata": {},
   "outputs": [],
   "source": []
  },
  {
   "cell_type": "code",
   "execution_count": 321,
   "metadata": {},
   "outputs": [
    {
     "data": {
      "text/plain": [
       "array([[0., 1., 0.],\n",
       "       [0., 0., 1.],\n",
       "       [0., 1., 0.],\n",
       "       ...,\n",
       "       [0., 0., 1.],\n",
       "       [0., 1., 0.],\n",
       "       [0., 1., 0.]])"
      ]
     },
     "execution_count": 321,
     "metadata": {},
     "output_type": "execute_result"
    }
   ],
   "source": [
    "y_encoded"
   ]
  },
  {
   "cell_type": "code",
   "execution_count": null,
   "metadata": {},
   "outputs": [],
   "source": [
    "X_train = np.load(\"TrainTestData/X_train_frontpad_0.npy\")\n",
    "y_train = np.load(\"TrainTestData/y_train_frontpad_0.npy\")\n",
    "X_val = np.load(\"TrainTestData/X_val_test_frontpad_0.npy\")\n",
    "y_val = np.load(\"TrainTestData/y_val_test_frontpad_0.npy\")\n",
    "X_test = np.load(\"TrainTestData/X_test.npy\")\n",
    "y_test = np.load(\"TrainTestData/y_test.npy\")"
   ]
  },
  {
   "cell_type": "code",
   "execution_count": 563,
   "metadata": {},
   "outputs": [
    {
     "data": {
      "text/plain": [
       "((1800, 227, 67), (79, 227, 67), (31, 227, 67), (1800,), (79,), (31,))"
      ]
     },
     "execution_count": 563,
     "metadata": {},
     "output_type": "execute_result"
    }
   ],
   "source": [
    "X_train.shape, X_val.shape, X_test.shape,  y_train.shape, y_val.shape, y_test.shape"
   ]
  },
  {
   "cell_type": "code",
   "execution_count": 564,
   "metadata": {},
   "outputs": [],
   "source": [
    "X_train = X_train[:,:,1:]\n",
    "X_val = X_val[:,:,1:]\n",
    "X_test = X_test[:,:,1:]"
   ]
  },
  {
   "cell_type": "code",
   "execution_count": 565,
   "metadata": {},
   "outputs": [
    {
     "data": {
      "text/plain": [
       "((1800, 227, 66), (79, 227, 66), (31, 227, 66), (1800,), (79,), (31,))"
      ]
     },
     "execution_count": 565,
     "metadata": {},
     "output_type": "execute_result"
    }
   ],
   "source": [
    "X_train.shape, X_val.shape, X_test.shape,  y_train.shape, y_val.shape, y_test.shape"
   ]
  },
  {
   "cell_type": "code",
   "execution_count": 560,
   "metadata": {},
   "outputs": [
    {
     "data": {
      "text/plain": [
       "(1800, 227, 66)"
      ]
     },
     "execution_count": 560,
     "metadata": {},
     "output_type": "execute_result"
    }
   ],
   "source": [
    "X_train.shape"
   ]
  },
  {
   "cell_type": "code",
   "execution_count": 325,
   "metadata": {},
   "outputs": [
    {
     "data": {
      "text/plain": [
       "array([[1., 0., 0.],\n",
       "       [0., 0., 1.],\n",
       "       [0., 0., 1.],\n",
       "       [0., 1., 0.],\n",
       "       [0., 0., 1.],\n",
       "       [0., 0., 1.],\n",
       "       [1., 0., 0.],\n",
       "       [0., 0., 1.],\n",
       "       [0., 0., 1.],\n",
       "       [0., 1., 0.],\n",
       "       [0., 1., 0.],\n",
       "       [0., 1., 0.],\n",
       "       [0., 0., 1.],\n",
       "       [0., 1., 0.],\n",
       "       [0., 1., 0.],\n",
       "       [0., 1., 0.],\n",
       "       [0., 1., 0.],\n",
       "       [0., 1., 0.],\n",
       "       [0., 0., 1.],\n",
       "       [0., 0., 1.],\n",
       "       [0., 0., 1.],\n",
       "       [0., 1., 0.],\n",
       "       [1., 0., 0.],\n",
       "       [0., 0., 1.],\n",
       "       [0., 1., 0.],\n",
       "       [0., 0., 1.],\n",
       "       [0., 1., 0.],\n",
       "       [0., 0., 1.],\n",
       "       [1., 0., 0.],\n",
       "       [1., 0., 0.],\n",
       "       [0., 1., 0.]])"
      ]
     },
     "execution_count": 325,
     "metadata": {},
     "output_type": "execute_result"
    }
   ],
   "source": [
    "y_test_encoded"
   ]
  },
  {
   "cell_type": "code",
   "execution_count": 566,
   "metadata": {},
   "outputs": [],
   "source": [
    "from sklearn.preprocessing import StandardScaler\n",
    "\n",
    "clips, frames, landmarks = X_train.shape\n",
    "# Reshape to 2D for scaling: (clips * frames, landmark features)\n",
    "X_train_reshaped = X_train.reshape(-1, landmarks)\n",
    "\n",
    "# Fit and scale using StandardScaler\n",
    "scaler = StandardScaler()\n",
    "X_train_scaled = scaler.fit_transform(X_train_reshaped)\n",
    "\n",
    "# Reshape back to original 3D shape\n",
    "X_train_scaled = X_train_scaled.reshape(clips, frames, landmarks)\n",
    "\n",
    "X_val_reshaped = X_val.reshape(-1, landmarks)\n",
    "X_val_scaled = scaler.transform(X_val_reshaped)\n",
    "X_val_scaled = X_val_scaled.reshape(X_val.shape)\n",
    "\n",
    "# Scale test data using the same scaler\n",
    "X_test_reshaped = X_test.reshape(-1, landmarks)\n",
    "X_test_scaled = scaler.transform(X_test_reshaped)\n",
    "X_test_scaled = X_test_scaled.reshape(X_test.shape)"
   ]
  },
  {
   "cell_type": "code",
   "execution_count": 329,
   "metadata": {},
   "outputs": [
    {
     "data": {
      "text/plain": [
       "((5411, 227, 67), (5411,))"
      ]
     },
     "execution_count": 329,
     "metadata": {},
     "output_type": "execute_result"
    }
   ],
   "source": [
    "X_train_scaled.shape, y_train.shape"
   ]
  },
  {
   "cell_type": "code",
   "execution_count": 335,
   "metadata": {},
   "outputs": [],
   "source": [
    "n_samples, n_timesteps, n_features = X_train_scaled.shape\n"
   ]
  },
  {
   "cell_type": "code",
   "execution_count": 342,
   "metadata": {},
   "outputs": [
    {
     "data": {
      "text/plain": [
       "(227, 67)"
      ]
     },
     "execution_count": 342,
     "metadata": {},
     "output_type": "execute_result"
    }
   ],
   "source": [
    "X_train_scaled[0].shape"
   ]
  },
  {
   "cell_type": "code",
   "execution_count": 341,
   "metadata": {},
   "outputs": [
    {
     "data": {
      "text/plain": [
       "(15209,)"
      ]
     },
     "execution_count": 341,
     "metadata": {},
     "output_type": "execute_result"
    }
   ],
   "source": [
    "X_train_scaled.reshape(n_samples, n_timesteps*n_features)[0].shape"
   ]
  },
  {
   "cell_type": "code",
   "execution_count": 567,
   "metadata": {},
   "outputs": [
    {
     "name": "stdout",
     "output_type": "stream",
     "text": [
      "Resampled class distribution: Counter({'L': 800, 'R': 800, 'C': 800})\n",
      "Original X shape: (1800, 227, 66), Resampled X shape: (2400, 227, 66)\n",
      "Original y shape: (1800,), Resampled y shape: (2400,)\n"
     ]
    }
   ],
   "source": [
    "from imblearn.over_sampling import SMOTE\n",
    "from collections import Counter\n",
    "n_samples, n_timesteps, n_features = X_train_scaled.shape\n",
    "X_flat = X_train_scaled.reshape(n_samples, n_timesteps * n_features)\n",
    "\n",
    "# Step 2: Apply SMOTE\n",
    "smote = SMOTE(random_state=42)\n",
    "X_resampled_flat, y_resampled = smote.fit_resample(X_flat, y_train)\n",
    "\n",
    "# Step 3: Reshape the data back to original format\n",
    "X_resampled = X_resampled_flat.reshape(-1, n_timesteps, n_features)\n",
    "\n",
    "# Check new class distribution\n",
    "print(\"Resampled class distribution:\", Counter(y_resampled))\n",
    "\n",
    "# Optional: Verify shapes\n",
    "print(f\"Original X shape: {X_train.shape}, Resampled X shape: {X_resampled.shape}\")\n",
    "print(f\"Original y shape: {y_train.shape}, Resampled y shape: {y_resampled.shape}\")"
   ]
  },
  {
   "cell_type": "code",
   "execution_count": 568,
   "metadata": {},
   "outputs": [],
   "source": [
    "from sklearn.preprocessing import LabelEncoder\n",
    "from keras.utils import to_categorical\n",
    "label_encoder = LabelEncoder()\n",
    "encoded_labels = label_encoder.fit_transform(y_resampled)\n",
    "\n",
    "y_train_encoded = to_categorical(encoded_labels, num_classes=3)\n",
    "y__train_encoded_repeated = np.repeat(y_train_encoded[:, np.newaxis, :], 227, axis=1)  # Shape (samples, 219, 3)\n",
    "y_val_encoded = to_categorical(label_encoder.fit_transform(y_val), num_classes=3)\n",
    "y__val_encoded_repeated = np.repeat(y_val_encoded[:, np.newaxis, :], 227, axis=1)\n",
    "y_test_encoded = to_categorical(label_encoder.fit_transform(y_test), num_classes=3)\n",
    "y__test_encoded_repeated = np.repeat(y_test_encoded[:, np.newaxis, :], 227, axis=1)\n"
   ]
  },
  {
   "cell_type": "code",
   "execution_count": null,
   "metadata": {},
   "outputs": [
    {
     "data": {
      "text/plain": [
       "((5411, 227, 67), (5411, 227, 3), (5411, 227, 67))"
      ]
     },
     "execution_count": 269,
     "metadata": {},
     "output_type": "execute_result"
    }
   ],
   "source": [
    "X_train_scaled.shape, y__train_encoded_repeated.shape, X_train.shape"
   ]
  },
  {
   "cell_type": "code",
   "execution_count": null,
   "metadata": {},
   "outputs": [
    {
     "data": {
      "text/html": [
       "<pre style=\"white-space:pre;overflow-x:auto;line-height:normal;font-family:Menlo,'DejaVu Sans Mono',consolas,'Courier New',monospace\"><span style=\"font-weight: bold\">Model: \"sequential_72\"</span>\n",
       "</pre>\n"
      ],
      "text/plain": [
       "\u001b[1mModel: \"sequential_72\"\u001b[0m\n"
      ]
     },
     "metadata": {},
     "output_type": "display_data"
    },
    {
     "data": {
      "text/html": [
       "<pre style=\"white-space:pre;overflow-x:auto;line-height:normal;font-family:Menlo,'DejaVu Sans Mono',consolas,'Courier New',monospace\">┏━━━━━━━━━━━━━━━━━━━━━━━━━━━━━━━━━┳━━━━━━━━━━━━━━━━━━━━━━━━┳━━━━━━━━━━━━━━━┓\n",
       "┃<span style=\"font-weight: bold\"> Layer (type)                    </span>┃<span style=\"font-weight: bold\"> Output Shape           </span>┃<span style=\"font-weight: bold\">       Param # </span>┃\n",
       "┡━━━━━━━━━━━━━━━━━━━━━━━━━━━━━━━━━╇━━━━━━━━━━━━━━━━━━━━━━━━╇━━━━━━━━━━━━━━━┩\n",
       "│ lstm_135 (<span style=\"color: #0087ff; text-decoration-color: #0087ff\">LSTM</span>)                 │ (<span style=\"color: #00d7ff; text-decoration-color: #00d7ff\">None</span>, <span style=\"color: #00af00; text-decoration-color: #00af00\">227</span>, <span style=\"color: #00af00; text-decoration-color: #00af00\">64</span>)        │        <span style=\"color: #00af00; text-decoration-color: #00af00\">33,536</span> │\n",
       "├─────────────────────────────────┼────────────────────────┼───────────────┤\n",
       "│ batch_normalization_110         │ (<span style=\"color: #00d7ff; text-decoration-color: #00d7ff\">None</span>, <span style=\"color: #00af00; text-decoration-color: #00af00\">227</span>, <span style=\"color: #00af00; text-decoration-color: #00af00\">64</span>)        │           <span style=\"color: #00af00; text-decoration-color: #00af00\">256</span> │\n",
       "│ (<span style=\"color: #0087ff; text-decoration-color: #0087ff\">BatchNormalization</span>)            │                        │               │\n",
       "├─────────────────────────────────┼────────────────────────┼───────────────┤\n",
       "│ dropout_130 (<span style=\"color: #0087ff; text-decoration-color: #0087ff\">Dropout</span>)           │ (<span style=\"color: #00d7ff; text-decoration-color: #00d7ff\">None</span>, <span style=\"color: #00af00; text-decoration-color: #00af00\">227</span>, <span style=\"color: #00af00; text-decoration-color: #00af00\">64</span>)        │             <span style=\"color: #00af00; text-decoration-color: #00af00\">0</span> │\n",
       "├─────────────────────────────────┼────────────────────────┼───────────────┤\n",
       "│ lstm_136 (<span style=\"color: #0087ff; text-decoration-color: #0087ff\">LSTM</span>)                 │ (<span style=\"color: #00d7ff; text-decoration-color: #00d7ff\">None</span>, <span style=\"color: #00af00; text-decoration-color: #00af00\">227</span>, <span style=\"color: #00af00; text-decoration-color: #00af00\">32</span>)        │        <span style=\"color: #00af00; text-decoration-color: #00af00\">12,416</span> │\n",
       "├─────────────────────────────────┼────────────────────────┼───────────────┤\n",
       "│ batch_normalization_111         │ (<span style=\"color: #00d7ff; text-decoration-color: #00d7ff\">None</span>, <span style=\"color: #00af00; text-decoration-color: #00af00\">227</span>, <span style=\"color: #00af00; text-decoration-color: #00af00\">32</span>)        │           <span style=\"color: #00af00; text-decoration-color: #00af00\">128</span> │\n",
       "│ (<span style=\"color: #0087ff; text-decoration-color: #0087ff\">BatchNormalization</span>)            │                        │               │\n",
       "├─────────────────────────────────┼────────────────────────┼───────────────┤\n",
       "│ dropout_131 (<span style=\"color: #0087ff; text-decoration-color: #0087ff\">Dropout</span>)           │ (<span style=\"color: #00d7ff; text-decoration-color: #00d7ff\">None</span>, <span style=\"color: #00af00; text-decoration-color: #00af00\">227</span>, <span style=\"color: #00af00; text-decoration-color: #00af00\">32</span>)        │             <span style=\"color: #00af00; text-decoration-color: #00af00\">0</span> │\n",
       "├─────────────────────────────────┼────────────────────────┼───────────────┤\n",
       "│ dense_73 (<span style=\"color: #0087ff; text-decoration-color: #0087ff\">Dense</span>)                │ (<span style=\"color: #00d7ff; text-decoration-color: #00d7ff\">None</span>, <span style=\"color: #00af00; text-decoration-color: #00af00\">227</span>, <span style=\"color: #00af00; text-decoration-color: #00af00\">3</span>)         │            <span style=\"color: #00af00; text-decoration-color: #00af00\">99</span> │\n",
       "└─────────────────────────────────┴────────────────────────┴───────────────┘\n",
       "</pre>\n"
      ],
      "text/plain": [
       "┏━━━━━━━━━━━━━━━━━━━━━━━━━━━━━━━━━┳━━━━━━━━━━━━━━━━━━━━━━━━┳━━━━━━━━━━━━━━━┓\n",
       "┃\u001b[1m \u001b[0m\u001b[1mLayer (type)                   \u001b[0m\u001b[1m \u001b[0m┃\u001b[1m \u001b[0m\u001b[1mOutput Shape          \u001b[0m\u001b[1m \u001b[0m┃\u001b[1m \u001b[0m\u001b[1m      Param #\u001b[0m\u001b[1m \u001b[0m┃\n",
       "┡━━━━━━━━━━━━━━━━━━━━━━━━━━━━━━━━━╇━━━━━━━━━━━━━━━━━━━━━━━━╇━━━━━━━━━━━━━━━┩\n",
       "│ lstm_135 (\u001b[38;5;33mLSTM\u001b[0m)                 │ (\u001b[38;5;45mNone\u001b[0m, \u001b[38;5;34m227\u001b[0m, \u001b[38;5;34m64\u001b[0m)        │        \u001b[38;5;34m33,536\u001b[0m │\n",
       "├─────────────────────────────────┼────────────────────────┼───────────────┤\n",
       "│ batch_normalization_110         │ (\u001b[38;5;45mNone\u001b[0m, \u001b[38;5;34m227\u001b[0m, \u001b[38;5;34m64\u001b[0m)        │           \u001b[38;5;34m256\u001b[0m │\n",
       "│ (\u001b[38;5;33mBatchNormalization\u001b[0m)            │                        │               │\n",
       "├─────────────────────────────────┼────────────────────────┼───────────────┤\n",
       "│ dropout_130 (\u001b[38;5;33mDropout\u001b[0m)           │ (\u001b[38;5;45mNone\u001b[0m, \u001b[38;5;34m227\u001b[0m, \u001b[38;5;34m64\u001b[0m)        │             \u001b[38;5;34m0\u001b[0m │\n",
       "├─────────────────────────────────┼────────────────────────┼───────────────┤\n",
       "│ lstm_136 (\u001b[38;5;33mLSTM\u001b[0m)                 │ (\u001b[38;5;45mNone\u001b[0m, \u001b[38;5;34m227\u001b[0m, \u001b[38;5;34m32\u001b[0m)        │        \u001b[38;5;34m12,416\u001b[0m │\n",
       "├─────────────────────────────────┼────────────────────────┼───────────────┤\n",
       "│ batch_normalization_111         │ (\u001b[38;5;45mNone\u001b[0m, \u001b[38;5;34m227\u001b[0m, \u001b[38;5;34m32\u001b[0m)        │           \u001b[38;5;34m128\u001b[0m │\n",
       "│ (\u001b[38;5;33mBatchNormalization\u001b[0m)            │                        │               │\n",
       "├─────────────────────────────────┼────────────────────────┼───────────────┤\n",
       "│ dropout_131 (\u001b[38;5;33mDropout\u001b[0m)           │ (\u001b[38;5;45mNone\u001b[0m, \u001b[38;5;34m227\u001b[0m, \u001b[38;5;34m32\u001b[0m)        │             \u001b[38;5;34m0\u001b[0m │\n",
       "├─────────────────────────────────┼────────────────────────┼───────────────┤\n",
       "│ dense_73 (\u001b[38;5;33mDense\u001b[0m)                │ (\u001b[38;5;45mNone\u001b[0m, \u001b[38;5;34m227\u001b[0m, \u001b[38;5;34m3\u001b[0m)         │            \u001b[38;5;34m99\u001b[0m │\n",
       "└─────────────────────────────────┴────────────────────────┴───────────────┘\n"
      ]
     },
     "metadata": {},
     "output_type": "display_data"
    },
    {
     "data": {
      "text/html": [
       "<pre style=\"white-space:pre;overflow-x:auto;line-height:normal;font-family:Menlo,'DejaVu Sans Mono',consolas,'Courier New',monospace\"><span style=\"font-weight: bold\"> Total params: </span><span style=\"color: #00af00; text-decoration-color: #00af00\">46,435</span> (181.39 KB)\n",
       "</pre>\n"
      ],
      "text/plain": [
       "\u001b[1m Total params: \u001b[0m\u001b[38;5;34m46,435\u001b[0m (181.39 KB)\n"
      ]
     },
     "metadata": {},
     "output_type": "display_data"
    },
    {
     "data": {
      "text/html": [
       "<pre style=\"white-space:pre;overflow-x:auto;line-height:normal;font-family:Menlo,'DejaVu Sans Mono',consolas,'Courier New',monospace\"><span style=\"font-weight: bold\"> Trainable params: </span><span style=\"color: #00af00; text-decoration-color: #00af00\">46,243</span> (180.64 KB)\n",
       "</pre>\n"
      ],
      "text/plain": [
       "\u001b[1m Trainable params: \u001b[0m\u001b[38;5;34m46,243\u001b[0m (180.64 KB)\n"
      ]
     },
     "metadata": {},
     "output_type": "display_data"
    },
    {
     "data": {
      "text/html": [
       "<pre style=\"white-space:pre;overflow-x:auto;line-height:normal;font-family:Menlo,'DejaVu Sans Mono',consolas,'Courier New',monospace\"><span style=\"font-weight: bold\"> Non-trainable params: </span><span style=\"color: #00af00; text-decoration-color: #00af00\">192</span> (768.00 B)\n",
       "</pre>\n"
      ],
      "text/plain": [
       "\u001b[1m Non-trainable params: \u001b[0m\u001b[38;5;34m192\u001b[0m (768.00 B)\n"
      ]
     },
     "metadata": {},
     "output_type": "display_data"
    },
    {
     "name": "stdout",
     "output_type": "stream",
     "text": [
      "Epoch 1/20\n",
      "\u001b[1m38/38\u001b[0m \u001b[32m━━━━━━━━━━━━━━━━━━━━\u001b[0m\u001b[37m\u001b[0m \u001b[1m0s\u001b[0m 172ms/step - accuracy: 0.3370 - loss: 4.0806\n",
      "Epoch 1: saving model to models/Cat3_frontpad_0model_epoch_01.keras\n",
      "\u001b[1m38/38\u001b[0m \u001b[32m━━━━━━━━━━━━━━━━━━━━\u001b[0m\u001b[37m\u001b[0m \u001b[1m13s\u001b[0m 192ms/step - accuracy: 0.3370 - loss: 4.0729 - val_accuracy: 0.3823 - val_loss: 2.3759\n",
      "Epoch 2/20\n",
      "\u001b[1m38/38\u001b[0m \u001b[32m━━━━━━━━━━━━━━━━━━━━\u001b[0m\u001b[37m\u001b[0m \u001b[1m0s\u001b[0m 169ms/step - accuracy: 0.3442 - loss: 3.0096\n",
      "Epoch 2: saving model to models/Cat3_frontpad_0model_epoch_02.keras\n",
      "\u001b[1m38/38\u001b[0m \u001b[32m━━━━━━━━━━━━━━━━━━━━\u001b[0m\u001b[37m\u001b[0m \u001b[1m7s\u001b[0m 174ms/step - accuracy: 0.3442 - loss: 3.0052 - val_accuracy: 0.4108 - val_loss: 1.9722\n",
      "Epoch 3/20\n",
      "\u001b[1m38/38\u001b[0m \u001b[32m━━━━━━━━━━━━━━━━━━━━\u001b[0m\u001b[37m\u001b[0m \u001b[1m0s\u001b[0m 170ms/step - accuracy: 0.3459 - loss: 2.3845\n",
      "Epoch 3: saving model to models/Cat3_frontpad_0model_epoch_03.keras\n",
      "\u001b[1m38/38\u001b[0m \u001b[32m━━━━━━━━━━━━━━━━━━━━\u001b[0m\u001b[37m\u001b[0m \u001b[1m7s\u001b[0m 176ms/step - accuracy: 0.3459 - loss: 2.3818 - val_accuracy: 0.3925 - val_loss: 1.7009\n",
      "Epoch 4/20\n",
      "\u001b[1m38/38\u001b[0m \u001b[32m━━━━━━━━━━━━━━━━━━━━\u001b[0m\u001b[37m\u001b[0m \u001b[1m0s\u001b[0m 171ms/step - accuracy: 0.3513 - loss: 1.9702\n",
      "Epoch 4: saving model to models/Cat3_frontpad_0model_epoch_04.keras\n",
      "\u001b[1m38/38\u001b[0m \u001b[32m━━━━━━━━━━━━━━━━━━━━\u001b[0m\u001b[37m\u001b[0m \u001b[1m7s\u001b[0m 176ms/step - accuracy: 0.3513 - loss: 1.9681 - val_accuracy: 0.4033 - val_loss: 1.5647\n",
      "Epoch 5/20\n",
      "\u001b[1m38/38\u001b[0m \u001b[32m━━━━━━━━━━━━━━━━━━━━\u001b[0m\u001b[37m\u001b[0m \u001b[1m0s\u001b[0m 168ms/step - accuracy: 0.3579 - loss: 1.6727\n",
      "Epoch 5: saving model to models/Cat3_frontpad_0model_epoch_05.keras\n",
      "\u001b[1m38/38\u001b[0m \u001b[32m━━━━━━━━━━━━━━━━━━━━\u001b[0m\u001b[37m\u001b[0m \u001b[1m7s\u001b[0m 173ms/step - accuracy: 0.3579 - loss: 1.6715 - val_accuracy: 0.3869 - val_loss: 1.4333\n",
      "Epoch 6/20\n",
      "\u001b[1m38/38\u001b[0m \u001b[32m━━━━━━━━━━━━━━━━━━━━\u001b[0m\u001b[37m\u001b[0m \u001b[1m0s\u001b[0m 169ms/step - accuracy: 0.3580 - loss: 1.4799\n",
      "Epoch 6: saving model to models/Cat3_frontpad_0model_epoch_06.keras\n",
      "\u001b[1m38/38\u001b[0m \u001b[32m━━━━━━━━━━━━━━━━━━━━\u001b[0m\u001b[37m\u001b[0m \u001b[1m7s\u001b[0m 174ms/step - accuracy: 0.3580 - loss: 1.4793 - val_accuracy: 0.3936 - val_loss: 1.3766\n",
      "Epoch 7/20\n",
      "\u001b[1m38/38\u001b[0m \u001b[32m━━━━━━━━━━━━━━━━━━━━\u001b[0m\u001b[37m\u001b[0m \u001b[1m0s\u001b[0m 170ms/step - accuracy: 0.3544 - loss: 1.3558\n",
      "Epoch 7: saving model to models/Cat3_frontpad_0model_epoch_07.keras\n",
      "\u001b[1m38/38\u001b[0m \u001b[32m━━━━━━━━━━━━━━━━━━━━\u001b[0m\u001b[37m\u001b[0m \u001b[1m7s\u001b[0m 175ms/step - accuracy: 0.3545 - loss: 1.3553 - val_accuracy: 0.4060 - val_loss: 1.2852\n",
      "Epoch 8/20\n",
      "\u001b[1m38/38\u001b[0m \u001b[32m━━━━━━━━━━━━━━━━━━━━\u001b[0m\u001b[37m\u001b[0m \u001b[1m0s\u001b[0m 168ms/step - accuracy: 0.3648 - loss: 1.2819\n",
      "Epoch 8: saving model to models/Cat3_frontpad_0model_epoch_08.keras\n",
      "\u001b[1m38/38\u001b[0m \u001b[32m━━━━━━━━━━━━━━━━━━━━\u001b[0m\u001b[37m\u001b[0m \u001b[1m7s\u001b[0m 173ms/step - accuracy: 0.3648 - loss: 1.2819 - val_accuracy: 0.3973 - val_loss: 1.2667\n",
      "Epoch 9/20\n",
      "\u001b[1m38/38\u001b[0m \u001b[32m━━━━━━━━━━━━━━━━━━━━\u001b[0m\u001b[37m\u001b[0m \u001b[1m0s\u001b[0m 168ms/step - accuracy: 0.3544 - loss: 1.2621\n",
      "Epoch 9: saving model to models/Cat3_frontpad_0model_epoch_09.keras\n",
      "\u001b[1m38/38\u001b[0m \u001b[32m━━━━━━━━━━━━━━━━━━━━\u001b[0m\u001b[37m\u001b[0m \u001b[1m7s\u001b[0m 173ms/step - accuracy: 0.3545 - loss: 1.2618 - val_accuracy: 0.3887 - val_loss: 1.2335\n",
      "Epoch 10/20\n",
      "\u001b[1m38/38\u001b[0m \u001b[32m━━━━━━━━━━━━━━━━━━━━\u001b[0m\u001b[37m\u001b[0m \u001b[1m0s\u001b[0m 170ms/step - accuracy: 0.3650 - loss: 1.2193\n",
      "Epoch 10: saving model to models/Cat3_frontpad_0model_epoch_10.keras\n",
      "\u001b[1m38/38\u001b[0m \u001b[32m━━━━━━━━━━━━━━━━━━━━\u001b[0m\u001b[37m\u001b[0m \u001b[1m7s\u001b[0m 175ms/step - accuracy: 0.3650 - loss: 1.2191 - val_accuracy: 0.3853 - val_loss: 1.2121\n",
      "Epoch 11/20\n",
      "\u001b[1m38/38\u001b[0m \u001b[32m━━━━━━━━━━━━━━━━━━━━\u001b[0m\u001b[37m\u001b[0m \u001b[1m0s\u001b[0m 169ms/step - accuracy: 0.3711 - loss: 1.1921\n",
      "Epoch 11: saving model to models/Cat3_frontpad_0model_epoch_11.keras\n",
      "\u001b[1m38/38\u001b[0m \u001b[32m━━━━━━━━━━━━━━━━━━━━\u001b[0m\u001b[37m\u001b[0m \u001b[1m7s\u001b[0m 174ms/step - accuracy: 0.3711 - loss: 1.1920 - val_accuracy: 0.3840 - val_loss: 1.1940\n",
      "Epoch 12/20\n",
      "\u001b[1m38/38\u001b[0m \u001b[32m━━━━━━━━━━━━━━━━━━━━\u001b[0m\u001b[37m\u001b[0m \u001b[1m0s\u001b[0m 171ms/step - accuracy: 0.3796 - loss: 1.1717\n",
      "Epoch 12: saving model to models/Cat3_frontpad_0model_epoch_12.keras\n",
      "\u001b[1m38/38\u001b[0m \u001b[32m━━━━━━━━━━━━━━━━━━━━\u001b[0m\u001b[37m\u001b[0m \u001b[1m7s\u001b[0m 176ms/step - accuracy: 0.3796 - loss: 1.1716 - val_accuracy: 0.2055 - val_loss: 1.1957\n",
      "Epoch 13/20\n",
      "\u001b[1m38/38\u001b[0m \u001b[32m━━━━━━━━━━━━━━━━━━━━\u001b[0m\u001b[37m\u001b[0m \u001b[1m0s\u001b[0m 165ms/step - accuracy: 0.3757 - loss: 1.1588\n",
      "Epoch 13: saving model to models/Cat3_frontpad_0model_epoch_13.keras\n",
      "\u001b[1m38/38\u001b[0m \u001b[32m━━━━━━━━━━━━━━━━━━━━\u001b[0m\u001b[37m\u001b[0m \u001b[1m6s\u001b[0m 169ms/step - accuracy: 0.3757 - loss: 1.1587 - val_accuracy: 0.2242 - val_loss: 1.1791\n",
      "Epoch 14/20\n",
      "\u001b[1m38/38\u001b[0m \u001b[32m━━━━━━━━━━━━━━━━━━━━\u001b[0m\u001b[37m\u001b[0m \u001b[1m0s\u001b[0m 170ms/step - accuracy: 0.3852 - loss: 1.1414\n",
      "Epoch 14: saving model to models/Cat3_frontpad_0model_epoch_14.keras\n",
      "\u001b[1m38/38\u001b[0m \u001b[32m━━━━━━━━━━━━━━━━━━━━\u001b[0m\u001b[37m\u001b[0m \u001b[1m7s\u001b[0m 175ms/step - accuracy: 0.3851 - loss: 1.1414 - val_accuracy: 0.2381 - val_loss: 1.1603\n",
      "Epoch 15/20\n",
      "\u001b[1m38/38\u001b[0m \u001b[32m━━━━━━━━━━━━━━━━━━━━\u001b[0m\u001b[37m\u001b[0m \u001b[1m0s\u001b[0m 178ms/step - accuracy: 0.3895 - loss: 1.1316\n",
      "Epoch 15: saving model to models/Cat3_frontpad_0model_epoch_15.keras\n",
      "\u001b[1m38/38\u001b[0m \u001b[32m━━━━━━━━━━━━━━━━━━━━\u001b[0m\u001b[37m\u001b[0m \u001b[1m7s\u001b[0m 183ms/step - accuracy: 0.3895 - loss: 1.1316 - val_accuracy: 0.3676 - val_loss: 1.1801\n",
      "Epoch 16/20\n",
      "\u001b[1m38/38\u001b[0m \u001b[32m━━━━━━━━━━━━━━━━━━━━\u001b[0m\u001b[37m\u001b[0m \u001b[1m0s\u001b[0m 179ms/step - accuracy: 0.3923 - loss: 1.1255\n",
      "Epoch 16: saving model to models/Cat3_frontpad_0model_epoch_16.keras\n",
      "\u001b[1m38/38\u001b[0m \u001b[32m━━━━━━━━━━━━━━━━━━━━\u001b[0m\u001b[37m\u001b[0m \u001b[1m7s\u001b[0m 187ms/step - accuracy: 0.3922 - loss: 1.1256 - val_accuracy: 0.2436 - val_loss: 1.1559\n",
      "Epoch 17/20\n",
      "\u001b[1m38/38\u001b[0m \u001b[32m━━━━━━━━━━━━━━━━━━━━\u001b[0m\u001b[37m\u001b[0m \u001b[1m0s\u001b[0m 179ms/step - accuracy: 0.3877 - loss: 1.1172\n",
      "Epoch 17: saving model to models/Cat3_frontpad_0model_epoch_17.keras\n",
      "\u001b[1m38/38\u001b[0m \u001b[32m━━━━━━━━━━━━━━━━━━━━\u001b[0m\u001b[37m\u001b[0m \u001b[1m7s\u001b[0m 184ms/step - accuracy: 0.3877 - loss: 1.1171 - val_accuracy: 0.2775 - val_loss: 1.1673\n",
      "Epoch 18/20\n",
      "\u001b[1m38/38\u001b[0m \u001b[32m━━━━━━━━━━━━━━━━━━━━\u001b[0m\u001b[37m\u001b[0m \u001b[1m0s\u001b[0m 176ms/step - accuracy: 0.3909 - loss: 1.1136\n",
      "Epoch 18: saving model to models/Cat3_frontpad_0model_epoch_18.keras\n",
      "\u001b[1m38/38\u001b[0m \u001b[32m━━━━━━━━━━━━━━━━━━━━\u001b[0m\u001b[37m\u001b[0m \u001b[1m10s\u001b[0m 181ms/step - accuracy: 0.3910 - loss: 1.1135 - val_accuracy: 0.3946 - val_loss: 1.1541\n",
      "Epoch 19/20\n",
      "\u001b[1m38/38\u001b[0m \u001b[32m━━━━━━━━━━━━━━━━━━━━\u001b[0m\u001b[37m\u001b[0m \u001b[1m0s\u001b[0m 170ms/step - accuracy: 0.3978 - loss: 1.1031\n",
      "Epoch 19: saving model to models/Cat3_frontpad_0model_epoch_19.keras\n",
      "\u001b[1m38/38\u001b[0m \u001b[32m━━━━━━━━━━━━━━━━━━━━\u001b[0m\u001b[37m\u001b[0m \u001b[1m7s\u001b[0m 175ms/step - accuracy: 0.3976 - loss: 1.1033 - val_accuracy: 0.2178 - val_loss: 1.1650\n",
      "Epoch 20/20\n",
      "\u001b[1m38/38\u001b[0m \u001b[32m━━━━━━━━━━━━━━━━━━━━\u001b[0m\u001b[37m\u001b[0m \u001b[1m0s\u001b[0m 171ms/step - accuracy: 0.3874 - loss: 1.1159\n",
      "Epoch 20: saving model to models/Cat3_frontpad_0model_epoch_20.keras\n",
      "\u001b[1m38/38\u001b[0m \u001b[32m━━━━━━━━━━━━━━━━━━━━\u001b[0m\u001b[37m\u001b[0m \u001b[1m7s\u001b[0m 177ms/step - accuracy: 0.3874 - loss: 1.1157 - val_accuracy: 0.2554 - val_loss: 1.1679\n"
     ]
    }
   ],
   "source": [
    "from keras.layers import LSTM, Dense, Dropout, BatchNormalization\n",
    "from tensorflow.keras.regularizers import l2\n",
    "from tensorflow.keras.callbacks import ModelCheckpoint\n",
    "# from tensorflow_addons.losses import SigmoidFocalCrossEntropy\n",
    "model = Sequential()\n",
    "\n",
    "# Add LSTM layer\n",
    "model.add(LSTM(units = 64, input_shape=(X_resampled.shape[1], X_resampled.shape[2]), activation='tanh', kernel_regularizer=l2(0.01), return_sequences=True))\n",
    "\n",
    "# Dropout to avoid overfitting #SoftSign\n",
    "model.add(BatchNormalization())\n",
    "model.add(Dropout(0.8))\n",
    "# # Add another LSTM layer (optional)\n",
    "model.add(LSTM(32, activation='tanh', kernel_regularizer=l2(0.01) ,return_sequences=True))\n",
    "model.add(BatchNormalization())\n",
    "model.add(Dropout(0.8))\n",
    "# model.add(LSTM(32, activation='tanh', kernel_regularizer=l2(0.01) ,return_sequences=True))\n",
    "# model.add(Dropout(0.8))\n",
    "# model.add(BatchNormalization())\n",
    "# # model.add(Dropout(0.5))\n",
    "# model.add(BatchNormalization())\n",
    "# model.add(Dense(128, activation = 'relu'))\n",
    "# model.add(Dropout(0.5))\n",
    "# model.add(BatchNormalization())\n",
    "# model.add(Dense(64, activation = 'relu'))\n",
    "# model.add(Dropout(0.5))\n",
    "# model.add(BatchNormalization())\n",
    "# model.add(Dense(32, activation = 'relu'))\n",
    "# model.add(Dropout(0.5))\n",
    "# model.add(BatchNormalization())\n",
    "\n",
    "# Add Dense layer for classification at each time step\n",
    "model.add(Dense(3, activation='sigmoid'))\n",
    "\n",
    "# Compile the model\n",
    "# loss_fn = SigmoidFocalCrossEntropy()\n",
    "# model.compile(optimizer= tf.keras.optimizers.Adam(clipvalue = 1.0), loss=loss_fn, metrics=['accuracy']) clipvalue = 1.0\n",
    "model.compile(optimizer= tf.keras.optimizers.Adam(), loss='categorical_crossentropy', metrics=['accuracy'])\n",
    "\n",
    "checkpoint = ModelCheckpoint(filepath=\"models/Cat3_frontpad_0_2model_epoch_{epoch:02d}.keras\", \n",
    "                              monitor='val_loss',  # Metric to monitor\n",
    "                              save_best_only=False,  # Save only the best weights\n",
    "                              verbose=1)\n",
    "\n",
    "# Summary of the model\n",
    "model.summary()\n",
    "\n",
    "# Fit the model\n",
    "history = model.fit(X_resampled, y__train_encoded_repeated, epochs=20,callbacks=[checkpoint], validation_data = (X_val_scaled, y__val_encoded_repeated), batch_size=64)"
   ]
  },
  {
   "cell_type": "code",
   "execution_count": 574,
   "metadata": {},
   "outputs": [
    {
     "data": {
      "image/png": "[encoded data removed]",
      "text/plain": [
       "<Figure size 1200x600 with 2 Axes>"
      ]
     },
     "metadata": {},
     "output_type": "display_data"
    }
   ],
   "source": [
    "import matplotlib.pyplot as plt\n",
    "\n",
    "# Plot training & validation accuracy values\n",
    "plt.figure(figsize=(12, 6))\n",
    "plt.subplot(1, 2, 1)\n",
    "plt.plot(history.history['accuracy'], label='Train Accuracy')\n",
    "plt.plot(history.history['val_accuracy'], label='Validation Accuracy')\n",
    "plt.title('Model Accuracy')\n",
    "plt.xlabel('Epochs')\n",
    "plt.ylabel('Accuracy')\n",
    "plt.legend()\n",
    "\n",
    "# Plot training & validation loss values\n",
    "plt.subplot(1, 2, 2)\n",
    "plt.plot(history.history['loss'], label='Train Loss')\n",
    "plt.plot(history.history['val_loss'], label='Validation Loss')\n",
    "plt.title('Model Loss')\n",
    "plt.xlabel('Epochs')\n",
    "plt.ylabel('Loss')\n",
    "plt.legend()\n",
    "\n",
    "plt.tight_layout()\n",
    "plt.show()"
   ]
  },
  {
   "cell_type": "code",
   "execution_count": 572,
   "metadata": {},
   "outputs": [
    {
     "data": {
      "image/png": "[encoded data removed]",
      "text/plain": [
       "<Figure size 1200x600 with 2 Axes>"
      ]
     },
     "metadata": {},
     "output_type": "display_data"
    }
   ],
   "source": [
    "import matplotlib.pyplot as plt\n",
    "\n",
    "# Plot training & validation accuracy values\n",
    "plt.figure(figsize=(12, 6))\n",
    "plt.subplot(1, 2, 1)\n",
    "plt.plot(history.history['accuracy'], label='Train Accuracy')\n",
    "plt.plot(history.history['val_accuracy'], label='Validation Accuracy')\n",
    "plt.title('Model Accuracy')\n",
    "plt.xlabel('Epochs')\n",
    "plt.ylabel('Accuracy')\n",
    "plt.legend()\n",
    "\n",
    "# Plot training & validation loss values\n",
    "plt.subplot(1, 2, 2)\n",
    "plt.plot(history.history['loss'], label='Train Loss')\n",
    "plt.plot(history.history['val_loss'], label='Validation Loss')\n",
    "plt.title('Model Loss')\n",
    "plt.xlabel('Epochs')\n",
    "plt.ylabel('Loss')\n",
    "plt.legend()\n",
    "\n",
    "plt.tight_layout()\n",
    "plt.show()"
   ]
  },
  {
   "cell_type": "code",
   "execution_count": 422,
   "metadata": {},
   "outputs": [
    {
     "data": {
      "text/plain": [
       "31"
      ]
     },
     "execution_count": 422,
     "metadata": {},
     "output_type": "execute_result"
    }
   ],
   "source": [
    "np.argmin(np.array(history.history['val_loss']))"
   ]
  },
  {
   "cell_type": "code",
   "execution_count": 344,
   "metadata": {},
   "outputs": [
    {
     "name": "stdout",
     "output_type": "stream",
     "text": [
      "{'C': 2359, 'L': 2359, 'R': 2359}\n"
     ]
    }
   ],
   "source": [
    "unique, counts = np.unique(y_resampled, return_counts=True)\n",
    "result = dict(zip(unique, counts))\n",
    "\n",
    "print(result)"
   ]
  },
  {
   "cell_type": "code",
   "execution_count": 487,
   "metadata": {},
   "outputs": [],
   "source": [
    "from tensorflow.keras.models import load_model"
   ]
  },
  {
   "cell_type": "code",
   "execution_count": 488,
   "metadata": {},
   "outputs": [],
   "source": [
    "top_model = load_model('models/Cat3model_epoch_31.keras')"
   ]
  },
  {
   "cell_type": "code",
   "execution_count": 504,
   "metadata": {},
   "outputs": [
    {
     "name": "stdout",
     "output_type": "stream",
     "text": [
      "\u001b[1m1/1\u001b[0m \u001b[32m━━━━━━━━━━━━━━━━━━━━\u001b[0m\u001b[37m\u001b[0m \u001b[1m0s\u001b[0m 80ms/step\n"
     ]
    }
   ],
   "source": [
    "y_pred = top_model.predict(X_test_scaled)[::-1]"
   ]
  },
  {
   "cell_type": "code",
   "execution_count": 505,
   "metadata": {},
   "outputs": [
    {
     "data": {
      "text/plain": [
       "(31, 3)"
      ]
     },
     "execution_count": 505,
     "metadata": {},
     "output_type": "execute_result"
    }
   ],
   "source": [
    "y_pred[:,-1].shape"
   ]
  },
  {
   "cell_type": "code",
   "execution_count": 506,
   "metadata": {},
   "outputs": [
    {
     "data": {
      "text/plain": [
       "array([[1., 0., 0.],\n",
       "       [1., 0., 0.],\n",
       "       [1., 0., 0.],\n",
       "       [0., 0., 1.],\n",
       "       [1., 0., 0.],\n",
       "       [0., 1., 0.],\n",
       "       [0., 0., 1.],\n",
       "       [0., 0., 1.],\n",
       "       [0., 1., 0.],\n",
       "       [0., 1., 0.],\n",
       "       [0., 1., 0.],\n",
       "       [0., 0., 1.],\n",
       "       [1., 0., 0.],\n",
       "       [1., 0., 0.],\n",
       "       [1., 0., 0.],\n",
       "       [0., 1., 0.],\n",
       "       [0., 1., 0.],\n",
       "       [0., 1., 0.],\n",
       "       [0., 1., 0.],\n",
       "       [0., 0., 1.],\n",
       "       [0., 1., 0.],\n",
       "       [0., 0., 1.],\n",
       "       [0., 1., 0.],\n",
       "       [1., 0., 0.],\n",
       "       [1., 0., 0.],\n",
       "       [0., 1., 0.],\n",
       "       [0., 1., 0.],\n",
       "       [0., 1., 0.],\n",
       "       [1., 0., 0.],\n",
       "       [1., 0., 0.],\n",
       "       [1., 0., 0.]], dtype=float32)"
      ]
     },
     "execution_count": 506,
     "metadata": {},
     "output_type": "execute_result"
    }
   ],
   "source": [
    "arr = y_pred[:,-1]\n",
    "\n",
    "# Create a new array with the same shape as arr, filled with zeros\n",
    "result = np.zeros_like(arr)\n",
    "\n",
    "# Find the indices of the maximum values in each row\n",
    "max_indices = np.argmax(arr, axis=1)\n",
    "\n",
    "# Replace the maximum values with 1\n",
    "rows = np.arange(arr.shape[0])  # Row indices\n",
    "result[rows, max_indices] = 1\n",
    "\n",
    "# Print the resulting array\n",
    "result"
   ]
  },
  {
   "cell_type": "code",
   "execution_count": 507,
   "metadata": {},
   "outputs": [
    {
     "data": {
      "text/plain": [
       "(array([0, 0, 0, 2, 0, 1, 2, 2, 1, 1, 1, 2, 0, 0, 0, 1, 1, 1, 1, 2, 1, 2,\n",
       "        1, 0, 0, 1, 1, 1, 0, 0, 0], dtype=int64),\n",
       " array([0, 2, 2, 1, 2, 2, 0, 2, 2, 1, 1, 1, 2, 1, 1, 1, 1, 1, 2, 2, 2, 1,\n",
       "        0, 2, 1, 2, 1, 2, 0, 0, 1], dtype=int64))"
      ]
     },
     "execution_count": 507,
     "metadata": {},
     "output_type": "execute_result"
    }
   ],
   "source": [
    "indices_y_pred = np.argmax(result, axis=1)\n",
    "indices_y_test = np.argmax(y_test_encoded, axis=1)\n",
    "\n",
    "indices_y_pred, indices_y_test"
   ]
  },
  {
   "cell_type": "code",
   "execution_count": 508,
   "metadata": {},
   "outputs": [],
   "source": [
    "from sklearn.metrics import confusion_matrix, classification_report\n",
    "cm = confusion_matrix(indices_y_test,indices_y_pred)"
   ]
  },
  {
   "cell_type": "code",
   "execution_count": 510,
   "metadata": {},
   "outputs": [
    {
     "data": {
      "image/png": "[encoded data removed]",
      "text/plain": [
       "<Figure size 640x480 with 2 Axes>"
      ]
     },
     "metadata": {},
     "output_type": "display_data"
    }
   ],
   "source": [
    "import matplotlib.pyplot as plt\n",
    "from sklearn.metrics import confusion_matrix, ConfusionMatrixDisplay\n",
    "label_cm = [\"Center\", \"Left\", \"Right\"]\n",
    "disp = ConfusionMatrixDisplay(confusion_matrix=cm, display_labels=label_cm)\n",
    "disp.plot(cmap=plt.cm.Greens)  # Change colormap to Greens\n",
    "plt.title(\"Confusion Matrix for Test Set\")  # Add a title\n",
    "plt.show()"
   ]
  },
  {
   "cell_type": "code",
   "execution_count": 399,
   "metadata": {},
   "outputs": [
    {
     "data": {
      "text/plain": [
       "(31, 3)"
      ]
     },
     "execution_count": 399,
     "metadata": {},
     "output_type": "execute_result"
    }
   ],
   "source": [
    "result.shape"
   ]
  },
  {
   "cell_type": "code",
   "execution_count": 429,
   "metadata": {},
   "outputs": [
    {
     "data": {
      "text/plain": [
       "(31, 3)"
      ]
     },
     "execution_count": 429,
     "metadata": {},
     "output_type": "execute_result"
    }
   ],
   "source": [
    "y_test_encoded.shape"
   ]
  },
  {
   "cell_type": "code",
   "execution_count": 435,
   "metadata": {},
   "outputs": [
    {
     "data": {
      "text/plain": [
       "'C'"
      ]
     },
     "execution_count": 435,
     "metadata": {},
     "output_type": "execute_result"
    }
   ],
   "source": [
    "y_test[0]"
   ]
  },
  {
   "cell_type": "code",
   "execution_count": 442,
   "metadata": {},
   "outputs": [
    {
     "data": {
      "text/plain": [
       "(227, 67)"
      ]
     },
     "execution_count": 442,
     "metadata": {},
     "output_type": "execute_result"
    }
   ],
   "source": [
    "X_test[0].shape"
   ]
  },
  {
   "cell_type": "code",
   "execution_count": 539,
   "metadata": {},
   "outputs": [
    {
     "data": {
      "text/plain": [
       "array([[ 0.00000000e+00,  1.53042600e-01,  1.80951744e-01, ...,\n",
       "         6.85032234e-02, -3.25479507e-02,  5.59917763e-02],\n",
       "       [ 1.00000000e+00,  1.52584821e-01,  1.79620638e-01, ...,\n",
       "         2.85881646e-02,  2.42099195e-04,  5.98537503e-03],\n",
       "       [ 2.00000000e+00,  1.73295885e-01,  1.56696409e-01, ...,\n",
       "         4.55076210e-02,  9.64926439e-04,  1.48597015e-02],\n",
       "       ...,\n",
       "       [ 1.38000000e+02,  3.61293823e-01,  4.01024967e-01, ...,\n",
       "        -1.73445623e-02, -5.86009659e-02, -3.99117433e-02],\n",
       "       [ 1.38000000e+02,  3.61293823e-01,  4.01024967e-01, ...,\n",
       "        -1.73445623e-02, -5.86009659e-02, -3.99117433e-02],\n",
       "       [ 1.38000000e+02,  3.61293823e-01,  4.01024967e-01, ...,\n",
       "        -1.73445623e-02, -5.86009659e-02, -3.99117433e-02]])"
      ]
     },
     "execution_count": 539,
     "metadata": {},
     "output_type": "execute_result"
    }
   ],
   "source": [
    "X_test[1,:,:]"
   ]
  },
  {
   "cell_type": "code",
   "execution_count": 554,
   "metadata": {},
   "outputs": [
    {
     "data": {
      "text/plain": [
       "'R'"
      ]
     },
     "execution_count": 554,
     "metadata": {},
     "output_type": "execute_result"
    }
   ],
   "source": [
    "y_test[1]"
   ]
  },
  {
   "cell_type": "code",
   "execution_count": 550,
   "metadata": {},
   "outputs": [
    {
     "data": {
      "text/plain": [
       "array([  0.,   1.,   2.,   3.,   4.,   5.,   6.,   7.,   8.,   9.,  10.,\n",
       "        11.,  12.,  13.,  14.,  15.,  16.,  17.,  18.,  19.,  20.,  21.,\n",
       "        22.,  23.,  24.,  25.,  26.,  27.,  28.,  29.,  30.,  31.,  32.,\n",
       "        33.,  34.,  35.,  36.,  37.,  38.,  39.,  40.,  41.,  42.,  43.,\n",
       "        44.,  45.,  46.,  47.,  48.,  49.,  50.,  51.,  52.,  53.,  54.,\n",
       "        55.,  56.,  57.,  58.,  59.,  60.,  61.,  62.,  63.,  64.,  65.,\n",
       "        66.,  67.,  68.,  69.,  70.,  71.,  72.,  73.,  74.,  75.,  76.,\n",
       "        77.,  78.,  79.,  80.,  81.,  82.,  83.,  84.,  85.,  86.,  87.,\n",
       "        88.,  89.,  90.,  91.,  92.,  93.,  94.,  95.,  96.,  97.,  98.,\n",
       "        99., 100., 101., 102., 103., 104., 105., 106., 107., 108., 109.,\n",
       "       110., 111., 112., 113., 114., 115., 116., 117., 118., 119., 120.,\n",
       "       121., 122., 123., 124., 125., 126., 127., 128., 129., 130., 131.,\n",
       "       132., 133., 134., 135., 136., 137., 138., 138., 138., 138., 138.,\n",
       "       138., 138., 138., 138., 138., 138., 138., 138., 138., 138., 138.,\n",
       "       138., 138., 138., 138., 138., 138., 138., 138., 138., 138., 138.,\n",
       "       138., 138., 138., 138., 138., 138., 138., 138., 138., 138., 138.,\n",
       "       138., 138., 138., 138., 138., 138., 138., 138., 138., 138., 138.,\n",
       "       138., 138., 138., 138., 138., 138., 138., 138., 138., 138., 138.,\n",
       "       138., 138., 138., 138., 138., 138., 138., 138., 138., 138., 138.,\n",
       "       138., 138., 138., 138., 138., 138., 138., 138., 138., 138., 138.,\n",
       "       138., 138., 138., 138., 138., 138., 138.])"
      ]
     },
     "execution_count": 550,
     "metadata": {},
     "output_type": "execute_result"
    }
   ],
   "source": [
    "temp_view = X_test[1]\n",
    "temp_view[:,0]"
   ]
  },
  {
   "cell_type": "code",
   "execution_count": 551,
   "metadata": {},
   "outputs": [],
   "source": [
    "import pandas as pd\n",
    "df = pd.DataFrame(np.column_stack((temp_view[:,0], y_pred[1])), columns=['Frame', 'CenterPred', 'LeftPred', 'RightPred'])"
   ]
  },
  {
   "cell_type": "code",
   "execution_count": 552,
   "metadata": {},
   "outputs": [
    {
     "data": {
      "text/html": [
       "<div>\n",
       "<style scoped>\n",
       "    .dataframe tbody tr th:only-of-type {\n",
       "        vertical-align: middle;\n",
       "    }\n",
       "\n",
       "    .dataframe tbody tr th {\n",
       "        vertical-align: top;\n",
       "    }\n",
       "\n",
       "    .dataframe thead th {\n",
       "        text-align: right;\n",
       "    }\n",
       "</style>\n",
       "<table border=\"1\" class=\"dataframe\">\n",
       "  <thead>\n",
       "    <tr style=\"text-align: right;\">\n",
       "      <th></th>\n",
       "      <th>Frame</th>\n",
       "      <th>CenterPred</th>\n",
       "      <th>LeftPred</th>\n",
       "      <th>RightPred</th>\n",
       "    </tr>\n",
       "  </thead>\n",
       "  <tbody>\n",
       "    <tr>\n",
       "      <th>0</th>\n",
       "      <td>0.0</td>\n",
       "      <td>0.539849</td>\n",
       "      <td>0.575748</td>\n",
       "      <td>0.553792</td>\n",
       "    </tr>\n",
       "    <tr>\n",
       "      <th>1</th>\n",
       "      <td>1.0</td>\n",
       "      <td>0.533745</td>\n",
       "      <td>0.558207</td>\n",
       "      <td>0.534326</td>\n",
       "    </tr>\n",
       "    <tr>\n",
       "      <th>2</th>\n",
       "      <td>2.0</td>\n",
       "      <td>0.532495</td>\n",
       "      <td>0.553723</td>\n",
       "      <td>0.527137</td>\n",
       "    </tr>\n",
       "    <tr>\n",
       "      <th>3</th>\n",
       "      <td>3.0</td>\n",
       "      <td>0.529810</td>\n",
       "      <td>0.554532</td>\n",
       "      <td>0.524601</td>\n",
       "    </tr>\n",
       "    <tr>\n",
       "      <th>4</th>\n",
       "      <td>4.0</td>\n",
       "      <td>0.523558</td>\n",
       "      <td>0.555600</td>\n",
       "      <td>0.522226</td>\n",
       "    </tr>\n",
       "    <tr>\n",
       "      <th>5</th>\n",
       "      <td>5.0</td>\n",
       "      <td>0.514394</td>\n",
       "      <td>0.555217</td>\n",
       "      <td>0.518736</td>\n",
       "    </tr>\n",
       "    <tr>\n",
       "      <th>6</th>\n",
       "      <td>6.0</td>\n",
       "      <td>0.504273</td>\n",
       "      <td>0.553818</td>\n",
       "      <td>0.514760</td>\n",
       "    </tr>\n",
       "    <tr>\n",
       "      <th>7</th>\n",
       "      <td>7.0</td>\n",
       "      <td>0.494691</td>\n",
       "      <td>0.552093</td>\n",
       "      <td>0.511030</td>\n",
       "    </tr>\n",
       "    <tr>\n",
       "      <th>8</th>\n",
       "      <td>8.0</td>\n",
       "      <td>0.486301</td>\n",
       "      <td>0.550545</td>\n",
       "      <td>0.507973</td>\n",
       "    </tr>\n",
       "    <tr>\n",
       "      <th>9</th>\n",
       "      <td>9.0</td>\n",
       "      <td>0.479108</td>\n",
       "      <td>0.549322</td>\n",
       "      <td>0.505622</td>\n",
       "    </tr>\n",
       "    <tr>\n",
       "      <th>10</th>\n",
       "      <td>10.0</td>\n",
       "      <td>0.472887</td>\n",
       "      <td>0.548445</td>\n",
       "      <td>0.503900</td>\n",
       "    </tr>\n",
       "    <tr>\n",
       "      <th>11</th>\n",
       "      <td>11.0</td>\n",
       "      <td>0.467403</td>\n",
       "      <td>0.547874</td>\n",
       "      <td>0.502687</td>\n",
       "    </tr>\n",
       "    <tr>\n",
       "      <th>12</th>\n",
       "      <td>12.0</td>\n",
       "      <td>0.462431</td>\n",
       "      <td>0.547589</td>\n",
       "      <td>0.501904</td>\n",
       "    </tr>\n",
       "    <tr>\n",
       "      <th>13</th>\n",
       "      <td>13.0</td>\n",
       "      <td>0.457818</td>\n",
       "      <td>0.547535</td>\n",
       "      <td>0.501457</td>\n",
       "    </tr>\n",
       "    <tr>\n",
       "      <th>14</th>\n",
       "      <td>14.0</td>\n",
       "      <td>0.453435</td>\n",
       "      <td>0.547707</td>\n",
       "      <td>0.501308</td>\n",
       "    </tr>\n",
       "    <tr>\n",
       "      <th>15</th>\n",
       "      <td>15.0</td>\n",
       "      <td>0.449213</td>\n",
       "      <td>0.548125</td>\n",
       "      <td>0.501450</td>\n",
       "    </tr>\n",
       "    <tr>\n",
       "      <th>16</th>\n",
       "      <td>16.0</td>\n",
       "      <td>0.445128</td>\n",
       "      <td>0.548833</td>\n",
       "      <td>0.501912</td>\n",
       "    </tr>\n",
       "    <tr>\n",
       "      <th>17</th>\n",
       "      <td>17.0</td>\n",
       "      <td>0.441233</td>\n",
       "      <td>0.549927</td>\n",
       "      <td>0.502771</td>\n",
       "    </tr>\n",
       "    <tr>\n",
       "      <th>18</th>\n",
       "      <td>18.0</td>\n",
       "      <td>0.437519</td>\n",
       "      <td>0.551387</td>\n",
       "      <td>0.504007</td>\n",
       "    </tr>\n",
       "    <tr>\n",
       "      <th>19</th>\n",
       "      <td>19.0</td>\n",
       "      <td>0.434042</td>\n",
       "      <td>0.553232</td>\n",
       "      <td>0.505635</td>\n",
       "    </tr>\n",
       "    <tr>\n",
       "      <th>20</th>\n",
       "      <td>20.0</td>\n",
       "      <td>0.430871</td>\n",
       "      <td>0.555374</td>\n",
       "      <td>0.507576</td>\n",
       "    </tr>\n",
       "    <tr>\n",
       "      <th>21</th>\n",
       "      <td>21.0</td>\n",
       "      <td>0.428042</td>\n",
       "      <td>0.557630</td>\n",
       "      <td>0.509659</td>\n",
       "    </tr>\n",
       "    <tr>\n",
       "      <th>22</th>\n",
       "      <td>22.0</td>\n",
       "      <td>0.425621</td>\n",
       "      <td>0.560023</td>\n",
       "      <td>0.511902</td>\n",
       "    </tr>\n",
       "    <tr>\n",
       "      <th>23</th>\n",
       "      <td>23.0</td>\n",
       "      <td>0.423618</td>\n",
       "      <td>0.562471</td>\n",
       "      <td>0.514219</td>\n",
       "    </tr>\n",
       "    <tr>\n",
       "      <th>24</th>\n",
       "      <td>24.0</td>\n",
       "      <td>0.421998</td>\n",
       "      <td>0.564802</td>\n",
       "      <td>0.516439</td>\n",
       "    </tr>\n",
       "    <tr>\n",
       "      <th>25</th>\n",
       "      <td>25.0</td>\n",
       "      <td>0.420737</td>\n",
       "      <td>0.566950</td>\n",
       "      <td>0.518489</td>\n",
       "    </tr>\n",
       "    <tr>\n",
       "      <th>26</th>\n",
       "      <td>26.0</td>\n",
       "      <td>0.419740</td>\n",
       "      <td>0.568788</td>\n",
       "      <td>0.520242</td>\n",
       "    </tr>\n",
       "    <tr>\n",
       "      <th>27</th>\n",
       "      <td>27.0</td>\n",
       "      <td>0.419004</td>\n",
       "      <td>0.570415</td>\n",
       "      <td>0.521796</td>\n",
       "    </tr>\n",
       "    <tr>\n",
       "      <th>28</th>\n",
       "      <td>28.0</td>\n",
       "      <td>0.418485</td>\n",
       "      <td>0.571855</td>\n",
       "      <td>0.523173</td>\n",
       "    </tr>\n",
       "    <tr>\n",
       "      <th>29</th>\n",
       "      <td>29.0</td>\n",
       "      <td>0.418128</td>\n",
       "      <td>0.573098</td>\n",
       "      <td>0.524361</td>\n",
       "    </tr>\n",
       "    <tr>\n",
       "      <th>30</th>\n",
       "      <td>30.0</td>\n",
       "      <td>0.417901</td>\n",
       "      <td>0.574172</td>\n",
       "      <td>0.525386</td>\n",
       "    </tr>\n",
       "    <tr>\n",
       "      <th>31</th>\n",
       "      <td>31.0</td>\n",
       "      <td>0.417790</td>\n",
       "      <td>0.575126</td>\n",
       "      <td>0.526297</td>\n",
       "    </tr>\n",
       "    <tr>\n",
       "      <th>32</th>\n",
       "      <td>32.0</td>\n",
       "      <td>0.417755</td>\n",
       "      <td>0.575932</td>\n",
       "      <td>0.527065</td>\n",
       "    </tr>\n",
       "    <tr>\n",
       "      <th>33</th>\n",
       "      <td>33.0</td>\n",
       "      <td>0.417786</td>\n",
       "      <td>0.576630</td>\n",
       "      <td>0.527729</td>\n",
       "    </tr>\n",
       "    <tr>\n",
       "      <th>34</th>\n",
       "      <td>34.0</td>\n",
       "      <td>0.417865</td>\n",
       "      <td>0.577240</td>\n",
       "      <td>0.528309</td>\n",
       "    </tr>\n",
       "    <tr>\n",
       "      <th>35</th>\n",
       "      <td>35.0</td>\n",
       "      <td>0.417985</td>\n",
       "      <td>0.577767</td>\n",
       "      <td>0.528811</td>\n",
       "    </tr>\n",
       "    <tr>\n",
       "      <th>36</th>\n",
       "      <td>36.0</td>\n",
       "      <td>0.418162</td>\n",
       "      <td>0.578276</td>\n",
       "      <td>0.529302</td>\n",
       "    </tr>\n",
       "    <tr>\n",
       "      <th>37</th>\n",
       "      <td>37.0</td>\n",
       "      <td>0.418377</td>\n",
       "      <td>0.578752</td>\n",
       "      <td>0.529763</td>\n",
       "    </tr>\n",
       "    <tr>\n",
       "      <th>38</th>\n",
       "      <td>38.0</td>\n",
       "      <td>0.418609</td>\n",
       "      <td>0.579181</td>\n",
       "      <td>0.530175</td>\n",
       "    </tr>\n",
       "    <tr>\n",
       "      <th>39</th>\n",
       "      <td>39.0</td>\n",
       "      <td>0.418856</td>\n",
       "      <td>0.579570</td>\n",
       "      <td>0.530546</td>\n",
       "    </tr>\n",
       "    <tr>\n",
       "      <th>40</th>\n",
       "      <td>40.0</td>\n",
       "      <td>0.419125</td>\n",
       "      <td>0.579950</td>\n",
       "      <td>0.530905</td>\n",
       "    </tr>\n",
       "    <tr>\n",
       "      <th>41</th>\n",
       "      <td>41.0</td>\n",
       "      <td>0.419430</td>\n",
       "      <td>0.580348</td>\n",
       "      <td>0.531280</td>\n",
       "    </tr>\n",
       "    <tr>\n",
       "      <th>42</th>\n",
       "      <td>42.0</td>\n",
       "      <td>0.419765</td>\n",
       "      <td>0.580762</td>\n",
       "      <td>0.531671</td>\n",
       "    </tr>\n",
       "    <tr>\n",
       "      <th>43</th>\n",
       "      <td>43.0</td>\n",
       "      <td>0.420156</td>\n",
       "      <td>0.581239</td>\n",
       "      <td>0.532128</td>\n",
       "    </tr>\n",
       "    <tr>\n",
       "      <th>44</th>\n",
       "      <td>44.0</td>\n",
       "      <td>0.420653</td>\n",
       "      <td>0.581907</td>\n",
       "      <td>0.532776</td>\n",
       "    </tr>\n",
       "    <tr>\n",
       "      <th>45</th>\n",
       "      <td>45.0</td>\n",
       "      <td>0.421172</td>\n",
       "      <td>0.582632</td>\n",
       "      <td>0.533478</td>\n",
       "    </tr>\n",
       "    <tr>\n",
       "      <th>46</th>\n",
       "      <td>46.0</td>\n",
       "      <td>0.421673</td>\n",
       "      <td>0.583310</td>\n",
       "      <td>0.534134</td>\n",
       "    </tr>\n",
       "    <tr>\n",
       "      <th>47</th>\n",
       "      <td>47.0</td>\n",
       "      <td>0.422088</td>\n",
       "      <td>0.583858</td>\n",
       "      <td>0.534649</td>\n",
       "    </tr>\n",
       "    <tr>\n",
       "      <th>48</th>\n",
       "      <td>48.0</td>\n",
       "      <td>0.422249</td>\n",
       "      <td>0.583934</td>\n",
       "      <td>0.534685</td>\n",
       "    </tr>\n",
       "    <tr>\n",
       "      <th>49</th>\n",
       "      <td>49.0</td>\n",
       "      <td>0.422279</td>\n",
       "      <td>0.583800</td>\n",
       "      <td>0.534478</td>\n",
       "    </tr>\n",
       "    <tr>\n",
       "      <th>50</th>\n",
       "      <td>50.0</td>\n",
       "      <td>0.422317</td>\n",
       "      <td>0.583665</td>\n",
       "      <td>0.534280</td>\n",
       "    </tr>\n",
       "    <tr>\n",
       "      <th>51</th>\n",
       "      <td>51.0</td>\n",
       "      <td>0.422455</td>\n",
       "      <td>0.583701</td>\n",
       "      <td>0.534248</td>\n",
       "    </tr>\n",
       "    <tr>\n",
       "      <th>52</th>\n",
       "      <td>52.0</td>\n",
       "      <td>0.422727</td>\n",
       "      <td>0.583938</td>\n",
       "      <td>0.534445</td>\n",
       "    </tr>\n",
       "    <tr>\n",
       "      <th>53</th>\n",
       "      <td>53.0</td>\n",
       "      <td>0.422951</td>\n",
       "      <td>0.584123</td>\n",
       "      <td>0.534574</td>\n",
       "    </tr>\n",
       "    <tr>\n",
       "      <th>54</th>\n",
       "      <td>54.0</td>\n",
       "      <td>0.423257</td>\n",
       "      <td>0.584464</td>\n",
       "      <td>0.534878</td>\n",
       "    </tr>\n",
       "    <tr>\n",
       "      <th>55</th>\n",
       "      <td>55.0</td>\n",
       "      <td>0.423405</td>\n",
       "      <td>0.584646</td>\n",
       "      <td>0.535007</td>\n",
       "    </tr>\n",
       "    <tr>\n",
       "      <th>56</th>\n",
       "      <td>56.0</td>\n",
       "      <td>0.423600</td>\n",
       "      <td>0.585064</td>\n",
       "      <td>0.535379</td>\n",
       "    </tr>\n",
       "    <tr>\n",
       "      <th>57</th>\n",
       "      <td>57.0</td>\n",
       "      <td>0.423451</td>\n",
       "      <td>0.584819</td>\n",
       "      <td>0.535124</td>\n",
       "    </tr>\n",
       "    <tr>\n",
       "      <th>58</th>\n",
       "      <td>58.0</td>\n",
       "      <td>0.423069</td>\n",
       "      <td>0.584292</td>\n",
       "      <td>0.534660</td>\n",
       "    </tr>\n",
       "    <tr>\n",
       "      <th>59</th>\n",
       "      <td>59.0</td>\n",
       "      <td>0.422094</td>\n",
       "      <td>0.582911</td>\n",
       "      <td>0.533379</td>\n",
       "    </tr>\n",
       "    <tr>\n",
       "      <th>60</th>\n",
       "      <td>60.0</td>\n",
       "      <td>0.421045</td>\n",
       "      <td>0.581327</td>\n",
       "      <td>0.531912</td>\n",
       "    </tr>\n",
       "    <tr>\n",
       "      <th>61</th>\n",
       "      <td>61.0</td>\n",
       "      <td>0.420029</td>\n",
       "      <td>0.579778</td>\n",
       "      <td>0.530544</td>\n",
       "    </tr>\n",
       "    <tr>\n",
       "      <th>62</th>\n",
       "      <td>62.0</td>\n",
       "      <td>0.418826</td>\n",
       "      <td>0.577886</td>\n",
       "      <td>0.528867</td>\n",
       "    </tr>\n",
       "    <tr>\n",
       "      <th>63</th>\n",
       "      <td>63.0</td>\n",
       "      <td>0.417522</td>\n",
       "      <td>0.575871</td>\n",
       "      <td>0.527073</td>\n",
       "    </tr>\n",
       "    <tr>\n",
       "      <th>64</th>\n",
       "      <td>64.0</td>\n",
       "      <td>0.416245</td>\n",
       "      <td>0.573811</td>\n",
       "      <td>0.525219</td>\n",
       "    </tr>\n",
       "    <tr>\n",
       "      <th>65</th>\n",
       "      <td>65.0</td>\n",
       "      <td>0.415166</td>\n",
       "      <td>0.572026</td>\n",
       "      <td>0.523612</td>\n",
       "    </tr>\n",
       "    <tr>\n",
       "      <th>66</th>\n",
       "      <td>66.0</td>\n",
       "      <td>0.414331</td>\n",
       "      <td>0.570487</td>\n",
       "      <td>0.522239</td>\n",
       "    </tr>\n",
       "    <tr>\n",
       "      <th>67</th>\n",
       "      <td>67.0</td>\n",
       "      <td>0.413769</td>\n",
       "      <td>0.569553</td>\n",
       "      <td>0.521426</td>\n",
       "    </tr>\n",
       "    <tr>\n",
       "      <th>68</th>\n",
       "      <td>68.0</td>\n",
       "      <td>0.413325</td>\n",
       "      <td>0.569163</td>\n",
       "      <td>0.521112</td>\n",
       "    </tr>\n",
       "    <tr>\n",
       "      <th>69</th>\n",
       "      <td>69.0</td>\n",
       "      <td>0.412766</td>\n",
       "      <td>0.568965</td>\n",
       "      <td>0.520957</td>\n",
       "    </tr>\n",
       "    <tr>\n",
       "      <th>70</th>\n",
       "      <td>70.0</td>\n",
       "      <td>0.412209</td>\n",
       "      <td>0.569079</td>\n",
       "      <td>0.521081</td>\n",
       "    </tr>\n",
       "    <tr>\n",
       "      <th>71</th>\n",
       "      <td>71.0</td>\n",
       "      <td>0.411735</td>\n",
       "      <td>0.569312</td>\n",
       "      <td>0.521335</td>\n",
       "    </tr>\n",
       "    <tr>\n",
       "      <th>72</th>\n",
       "      <td>72.0</td>\n",
       "      <td>0.411246</td>\n",
       "      <td>0.569379</td>\n",
       "      <td>0.521434</td>\n",
       "    </tr>\n",
       "    <tr>\n",
       "      <th>73</th>\n",
       "      <td>73.0</td>\n",
       "      <td>0.410888</td>\n",
       "      <td>0.569304</td>\n",
       "      <td>0.521439</td>\n",
       "    </tr>\n",
       "    <tr>\n",
       "      <th>74</th>\n",
       "      <td>74.0</td>\n",
       "      <td>0.410563</td>\n",
       "      <td>0.569558</td>\n",
       "      <td>0.521734</td>\n",
       "    </tr>\n",
       "    <tr>\n",
       "      <th>75</th>\n",
       "      <td>75.0</td>\n",
       "      <td>0.410325</td>\n",
       "      <td>0.569195</td>\n",
       "      <td>0.521419</td>\n",
       "    </tr>\n",
       "    <tr>\n",
       "      <th>76</th>\n",
       "      <td>76.0</td>\n",
       "      <td>0.410679</td>\n",
       "      <td>0.569603</td>\n",
       "      <td>0.521861</td>\n",
       "    </tr>\n",
       "    <tr>\n",
       "      <th>77</th>\n",
       "      <td>77.0</td>\n",
       "      <td>0.411121</td>\n",
       "      <td>0.570509</td>\n",
       "      <td>0.522769</td>\n",
       "    </tr>\n",
       "    <tr>\n",
       "      <th>78</th>\n",
       "      <td>78.0</td>\n",
       "      <td>0.411490</td>\n",
       "      <td>0.571543</td>\n",
       "      <td>0.523782</td>\n",
       "    </tr>\n",
       "    <tr>\n",
       "      <th>79</th>\n",
       "      <td>79.0</td>\n",
       "      <td>0.411794</td>\n",
       "      <td>0.573082</td>\n",
       "      <td>0.525263</td>\n",
       "    </tr>\n",
       "    <tr>\n",
       "      <th>80</th>\n",
       "      <td>80.0</td>\n",
       "      <td>0.411986</td>\n",
       "      <td>0.575469</td>\n",
       "      <td>0.527536</td>\n",
       "    </tr>\n",
       "    <tr>\n",
       "      <th>81</th>\n",
       "      <td>81.0</td>\n",
       "      <td>0.412054</td>\n",
       "      <td>0.577730</td>\n",
       "      <td>0.529685</td>\n",
       "    </tr>\n",
       "    <tr>\n",
       "      <th>82</th>\n",
       "      <td>82.0</td>\n",
       "      <td>0.412589</td>\n",
       "      <td>0.580690</td>\n",
       "      <td>0.532536</td>\n",
       "    </tr>\n",
       "    <tr>\n",
       "      <th>83</th>\n",
       "      <td>83.0</td>\n",
       "      <td>0.413421</td>\n",
       "      <td>0.583764</td>\n",
       "      <td>0.535525</td>\n",
       "    </tr>\n",
       "    <tr>\n",
       "      <th>84</th>\n",
       "      <td>84.0</td>\n",
       "      <td>0.414437</td>\n",
       "      <td>0.586812</td>\n",
       "      <td>0.538507</td>\n",
       "    </tr>\n",
       "    <tr>\n",
       "      <th>85</th>\n",
       "      <td>85.0</td>\n",
       "      <td>0.415596</td>\n",
       "      <td>0.589740</td>\n",
       "      <td>0.541390</td>\n",
       "    </tr>\n",
       "    <tr>\n",
       "      <th>86</th>\n",
       "      <td>86.0</td>\n",
       "      <td>0.416882</td>\n",
       "      <td>0.592683</td>\n",
       "      <td>0.544293</td>\n",
       "    </tr>\n",
       "    <tr>\n",
       "      <th>87</th>\n",
       "      <td>87.0</td>\n",
       "      <td>0.418041</td>\n",
       "      <td>0.595191</td>\n",
       "      <td>0.546785</td>\n",
       "    </tr>\n",
       "    <tr>\n",
       "      <th>88</th>\n",
       "      <td>88.0</td>\n",
       "      <td>0.418987</td>\n",
       "      <td>0.597180</td>\n",
       "      <td>0.548755</td>\n",
       "    </tr>\n",
       "    <tr>\n",
       "      <th>89</th>\n",
       "      <td>89.0</td>\n",
       "      <td>0.420068</td>\n",
       "      <td>0.599308</td>\n",
       "      <td>0.550878</td>\n",
       "    </tr>\n",
       "    <tr>\n",
       "      <th>90</th>\n",
       "      <td>90.0</td>\n",
       "      <td>0.421158</td>\n",
       "      <td>0.601413</td>\n",
       "      <td>0.552990</td>\n",
       "    </tr>\n",
       "    <tr>\n",
       "      <th>91</th>\n",
       "      <td>91.0</td>\n",
       "      <td>0.422108</td>\n",
       "      <td>0.603394</td>\n",
       "      <td>0.554976</td>\n",
       "    </tr>\n",
       "    <tr>\n",
       "      <th>92</th>\n",
       "      <td>92.0</td>\n",
       "      <td>0.422999</td>\n",
       "      <td>0.605383</td>\n",
       "      <td>0.556967</td>\n",
       "    </tr>\n",
       "    <tr>\n",
       "      <th>93</th>\n",
       "      <td>93.0</td>\n",
       "      <td>0.424116</td>\n",
       "      <td>0.607811</td>\n",
       "      <td>0.559381</td>\n",
       "    </tr>\n",
       "    <tr>\n",
       "      <th>94</th>\n",
       "      <td>94.0</td>\n",
       "      <td>0.425374</td>\n",
       "      <td>0.610479</td>\n",
       "      <td>0.562047</td>\n",
       "    </tr>\n",
       "    <tr>\n",
       "      <th>95</th>\n",
       "      <td>95.0</td>\n",
       "      <td>0.426142</td>\n",
       "      <td>0.612198</td>\n",
       "      <td>0.563732</td>\n",
       "    </tr>\n",
       "    <tr>\n",
       "      <th>96</th>\n",
       "      <td>96.0</td>\n",
       "      <td>0.426581</td>\n",
       "      <td>0.613232</td>\n",
       "      <td>0.564729</td>\n",
       "    </tr>\n",
       "    <tr>\n",
       "      <th>97</th>\n",
       "      <td>97.0</td>\n",
       "      <td>0.427649</td>\n",
       "      <td>0.615271</td>\n",
       "      <td>0.566803</td>\n",
       "    </tr>\n",
       "    <tr>\n",
       "      <th>98</th>\n",
       "      <td>98.0</td>\n",
       "      <td>0.429217</td>\n",
       "      <td>0.617944</td>\n",
       "      <td>0.569589</td>\n",
       "    </tr>\n",
       "    <tr>\n",
       "      <th>99</th>\n",
       "      <td>99.0</td>\n",
       "      <td>0.431866</td>\n",
       "      <td>0.622413</td>\n",
       "      <td>0.574236</td>\n",
       "    </tr>\n",
       "    <tr>\n",
       "      <th>100</th>\n",
       "      <td>100.0</td>\n",
       "      <td>0.433819</td>\n",
       "      <td>0.625771</td>\n",
       "      <td>0.577768</td>\n",
       "    </tr>\n",
       "    <tr>\n",
       "      <th>101</th>\n",
       "      <td>101.0</td>\n",
       "      <td>0.435250</td>\n",
       "      <td>0.628242</td>\n",
       "      <td>0.580412</td>\n",
       "    </tr>\n",
       "    <tr>\n",
       "      <th>102</th>\n",
       "      <td>102.0</td>\n",
       "      <td>0.435802</td>\n",
       "      <td>0.629105</td>\n",
       "      <td>0.581416</td>\n",
       "    </tr>\n",
       "    <tr>\n",
       "      <th>103</th>\n",
       "      <td>103.0</td>\n",
       "      <td>0.436606</td>\n",
       "      <td>0.630038</td>\n",
       "      <td>0.582426</td>\n",
       "    </tr>\n",
       "    <tr>\n",
       "      <th>104</th>\n",
       "      <td>104.0</td>\n",
       "      <td>0.437887</td>\n",
       "      <td>0.631783</td>\n",
       "      <td>0.584273</td>\n",
       "    </tr>\n",
       "    <tr>\n",
       "      <th>105</th>\n",
       "      <td>105.0</td>\n",
       "      <td>0.439822</td>\n",
       "      <td>0.634798</td>\n",
       "      <td>0.587483</td>\n",
       "    </tr>\n",
       "    <tr>\n",
       "      <th>106</th>\n",
       "      <td>106.0</td>\n",
       "      <td>0.441398</td>\n",
       "      <td>0.637072</td>\n",
       "      <td>0.589865</td>\n",
       "    </tr>\n",
       "    <tr>\n",
       "      <th>107</th>\n",
       "      <td>107.0</td>\n",
       "      <td>0.442530</td>\n",
       "      <td>0.638825</td>\n",
       "      <td>0.591740</td>\n",
       "    </tr>\n",
       "    <tr>\n",
       "      <th>108</th>\n",
       "      <td>108.0</td>\n",
       "      <td>0.442138</td>\n",
       "      <td>0.637446</td>\n",
       "      <td>0.590195</td>\n",
       "    </tr>\n",
       "    <tr>\n",
       "      <th>109</th>\n",
       "      <td>109.0</td>\n",
       "      <td>0.439948</td>\n",
       "      <td>0.632824</td>\n",
       "      <td>0.585182</td>\n",
       "    </tr>\n",
       "    <tr>\n",
       "      <th>110</th>\n",
       "      <td>110.0</td>\n",
       "      <td>0.436908</td>\n",
       "      <td>0.627019</td>\n",
       "      <td>0.579027</td>\n",
       "    </tr>\n",
       "    <tr>\n",
       "      <th>111</th>\n",
       "      <td>111.0</td>\n",
       "      <td>0.435423</td>\n",
       "      <td>0.624901</td>\n",
       "      <td>0.577006</td>\n",
       "    </tr>\n",
       "    <tr>\n",
       "      <th>112</th>\n",
       "      <td>112.0</td>\n",
       "      <td>0.433618</td>\n",
       "      <td>0.620896</td>\n",
       "      <td>0.572857</td>\n",
       "    </tr>\n",
       "    <tr>\n",
       "      <th>113</th>\n",
       "      <td>113.0</td>\n",
       "      <td>0.431715</td>\n",
       "      <td>0.617259</td>\n",
       "      <td>0.569151</td>\n",
       "    </tr>\n",
       "    <tr>\n",
       "      <th>114</th>\n",
       "      <td>114.0</td>\n",
       "      <td>0.430174</td>\n",
       "      <td>0.614400</td>\n",
       "      <td>0.566241</td>\n",
       "    </tr>\n",
       "    <tr>\n",
       "      <th>115</th>\n",
       "      <td>115.0</td>\n",
       "      <td>0.428715</td>\n",
       "      <td>0.611870</td>\n",
       "      <td>0.563644</td>\n",
       "    </tr>\n",
       "    <tr>\n",
       "      <th>116</th>\n",
       "      <td>116.0</td>\n",
       "      <td>0.428381</td>\n",
       "      <td>0.611889</td>\n",
       "      <td>0.563938</td>\n",
       "    </tr>\n",
       "    <tr>\n",
       "      <th>117</th>\n",
       "      <td>117.0</td>\n",
       "      <td>0.428047</td>\n",
       "      <td>0.610717</td>\n",
       "      <td>0.562946</td>\n",
       "    </tr>\n",
       "    <tr>\n",
       "      <th>118</th>\n",
       "      <td>118.0</td>\n",
       "      <td>0.427760</td>\n",
       "      <td>0.609541</td>\n",
       "      <td>0.561957</td>\n",
       "    </tr>\n",
       "    <tr>\n",
       "      <th>119</th>\n",
       "      <td>119.0</td>\n",
       "      <td>0.427652</td>\n",
       "      <td>0.608455</td>\n",
       "      <td>0.561084</td>\n",
       "    </tr>\n",
       "    <tr>\n",
       "      <th>120</th>\n",
       "      <td>120.0</td>\n",
       "      <td>0.427700</td>\n",
       "      <td>0.607223</td>\n",
       "      <td>0.560080</td>\n",
       "    </tr>\n",
       "    <tr>\n",
       "      <th>121</th>\n",
       "      <td>121.0</td>\n",
       "      <td>0.427080</td>\n",
       "      <td>0.604461</td>\n",
       "      <td>0.557442</td>\n",
       "    </tr>\n",
       "    <tr>\n",
       "      <th>122</th>\n",
       "      <td>122.0</td>\n",
       "      <td>0.426304</td>\n",
       "      <td>0.601018</td>\n",
       "      <td>0.554156</td>\n",
       "    </tr>\n",
       "    <tr>\n",
       "      <th>123</th>\n",
       "      <td>123.0</td>\n",
       "      <td>0.425983</td>\n",
       "      <td>0.598256</td>\n",
       "      <td>0.551690</td>\n",
       "    </tr>\n",
       "    <tr>\n",
       "      <th>124</th>\n",
       "      <td>124.0</td>\n",
       "      <td>0.425457</td>\n",
       "      <td>0.594185</td>\n",
       "      <td>0.548001</td>\n",
       "    </tr>\n",
       "    <tr>\n",
       "      <th>125</th>\n",
       "      <td>125.0</td>\n",
       "      <td>0.424604</td>\n",
       "      <td>0.588594</td>\n",
       "      <td>0.542952</td>\n",
       "    </tr>\n",
       "    <tr>\n",
       "      <th>126</th>\n",
       "      <td>126.0</td>\n",
       "      <td>0.423184</td>\n",
       "      <td>0.580424</td>\n",
       "      <td>0.535561</td>\n",
       "    </tr>\n",
       "    <tr>\n",
       "      <th>127</th>\n",
       "      <td>127.0</td>\n",
       "      <td>0.421245</td>\n",
       "      <td>0.568514</td>\n",
       "      <td>0.524861</td>\n",
       "    </tr>\n",
       "    <tr>\n",
       "      <th>128</th>\n",
       "      <td>128.0</td>\n",
       "      <td>0.419524</td>\n",
       "      <td>0.554392</td>\n",
       "      <td>0.512522</td>\n",
       "    </tr>\n",
       "    <tr>\n",
       "      <th>129</th>\n",
       "      <td>129.0</td>\n",
       "      <td>0.418836</td>\n",
       "      <td>0.540629</td>\n",
       "      <td>0.500966</td>\n",
       "    </tr>\n",
       "    <tr>\n",
       "      <th>130</th>\n",
       "      <td>130.0</td>\n",
       "      <td>0.419433</td>\n",
       "      <td>0.528581</td>\n",
       "      <td>0.491320</td>\n",
       "    </tr>\n",
       "    <tr>\n",
       "      <th>131</th>\n",
       "      <td>131.0</td>\n",
       "      <td>0.421138</td>\n",
       "      <td>0.518514</td>\n",
       "      <td>0.483710</td>\n",
       "    </tr>\n",
       "    <tr>\n",
       "      <th>132</th>\n",
       "      <td>132.0</td>\n",
       "      <td>0.423714</td>\n",
       "      <td>0.510212</td>\n",
       "      <td>0.477878</td>\n",
       "    </tr>\n",
       "    <tr>\n",
       "      <th>133</th>\n",
       "      <td>133.0</td>\n",
       "      <td>0.427036</td>\n",
       "      <td>0.503361</td>\n",
       "      <td>0.473524</td>\n",
       "    </tr>\n",
       "    <tr>\n",
       "      <th>134</th>\n",
       "      <td>134.0</td>\n",
       "      <td>0.431068</td>\n",
       "      <td>0.497699</td>\n",
       "      <td>0.470425</td>\n",
       "    </tr>\n",
       "    <tr>\n",
       "      <th>135</th>\n",
       "      <td>135.0</td>\n",
       "      <td>0.435801</td>\n",
       "      <td>0.493025</td>\n",
       "      <td>0.468412</td>\n",
       "    </tr>\n",
       "    <tr>\n",
       "      <th>136</th>\n",
       "      <td>136.0</td>\n",
       "      <td>0.441195</td>\n",
       "      <td>0.489133</td>\n",
       "      <td>0.467307</td>\n",
       "    </tr>\n",
       "    <tr>\n",
       "      <th>137</th>\n",
       "      <td>137.0</td>\n",
       "      <td>0.447138</td>\n",
       "      <td>0.485786</td>\n",
       "      <td>0.466891</td>\n",
       "    </tr>\n",
       "    <tr>\n",
       "      <th>138</th>\n",
       "      <td>138.0</td>\n",
       "      <td>0.453470</td>\n",
       "      <td>0.482735</td>\n",
       "      <td>0.466925</td>\n",
       "    </tr>\n",
       "    <tr>\n",
       "      <th>139</th>\n",
       "      <td>138.0</td>\n",
       "      <td>0.460051</td>\n",
       "      <td>0.479768</td>\n",
       "      <td>0.467204</td>\n",
       "    </tr>\n",
       "    <tr>\n",
       "      <th>140</th>\n",
       "      <td>138.0</td>\n",
       "      <td>0.466869</td>\n",
       "      <td>0.476756</td>\n",
       "      <td>0.467622</td>\n",
       "    </tr>\n",
       "    <tr>\n",
       "      <th>141</th>\n",
       "      <td>138.0</td>\n",
       "      <td>0.474051</td>\n",
       "      <td>0.473659</td>\n",
       "      <td>0.468171</td>\n",
       "    </tr>\n",
       "    <tr>\n",
       "      <th>142</th>\n",
       "      <td>138.0</td>\n",
       "      <td>0.481708</td>\n",
       "      <td>0.470425</td>\n",
       "      <td>0.468822</td>\n",
       "    </tr>\n",
       "    <tr>\n",
       "      <th>143</th>\n",
       "      <td>138.0</td>\n",
       "      <td>0.489651</td>\n",
       "      <td>0.466868</td>\n",
       "      <td>0.469345</td>\n",
       "    </tr>\n",
       "    <tr>\n",
       "      <th>144</th>\n",
       "      <td>138.0</td>\n",
       "      <td>0.497353</td>\n",
       "      <td>0.462789</td>\n",
       "      <td>0.469383</td>\n",
       "    </tr>\n",
       "    <tr>\n",
       "      <th>145</th>\n",
       "      <td>138.0</td>\n",
       "      <td>0.504392</td>\n",
       "      <td>0.458391</td>\n",
       "      <td>0.468892</td>\n",
       "    </tr>\n",
       "    <tr>\n",
       "      <th>146</th>\n",
       "      <td>138.0</td>\n",
       "      <td>0.510763</td>\n",
       "      <td>0.454311</td>\n",
       "      <td>0.468274</td>\n",
       "    </tr>\n",
       "    <tr>\n",
       "      <th>147</th>\n",
       "      <td>138.0</td>\n",
       "      <td>0.516576</td>\n",
       "      <td>0.451042</td>\n",
       "      <td>0.467894</td>\n",
       "    </tr>\n",
       "    <tr>\n",
       "      <th>148</th>\n",
       "      <td>138.0</td>\n",
       "      <td>0.521783</td>\n",
       "      <td>0.448619</td>\n",
       "      <td>0.467766</td>\n",
       "    </tr>\n",
       "    <tr>\n",
       "      <th>149</th>\n",
       "      <td>138.0</td>\n",
       "      <td>0.526235</td>\n",
       "      <td>0.446788</td>\n",
       "      <td>0.467694</td>\n",
       "    </tr>\n",
       "    <tr>\n",
       "      <th>150</th>\n",
       "      <td>138.0</td>\n",
       "      <td>0.529822</td>\n",
       "      <td>0.445263</td>\n",
       "      <td>0.467480</td>\n",
       "    </tr>\n",
       "    <tr>\n",
       "      <th>151</th>\n",
       "      <td>138.0</td>\n",
       "      <td>0.532516</td>\n",
       "      <td>0.443836</td>\n",
       "      <td>0.467003</td>\n",
       "    </tr>\n",
       "    <tr>\n",
       "      <th>152</th>\n",
       "      <td>138.0</td>\n",
       "      <td>0.534360</td>\n",
       "      <td>0.442390</td>\n",
       "      <td>0.466223</td>\n",
       "    </tr>\n",
       "    <tr>\n",
       "      <th>153</th>\n",
       "      <td>138.0</td>\n",
       "      <td>0.535434</td>\n",
       "      <td>0.440869</td>\n",
       "      <td>0.465149</td>\n",
       "    </tr>\n",
       "    <tr>\n",
       "      <th>154</th>\n",
       "      <td>138.0</td>\n",
       "      <td>0.535829</td>\n",
       "      <td>0.439252</td>\n",
       "      <td>0.463809</td>\n",
       "    </tr>\n",
       "    <tr>\n",
       "      <th>155</th>\n",
       "      <td>138.0</td>\n",
       "      <td>0.535630</td>\n",
       "      <td>0.437537</td>\n",
       "      <td>0.462235</td>\n",
       "    </tr>\n",
       "    <tr>\n",
       "      <th>156</th>\n",
       "      <td>138.0</td>\n",
       "      <td>0.534912</td>\n",
       "      <td>0.435722</td>\n",
       "      <td>0.460457</td>\n",
       "    </tr>\n",
       "    <tr>\n",
       "      <th>157</th>\n",
       "      <td>138.0</td>\n",
       "      <td>0.533738</td>\n",
       "      <td>0.433812</td>\n",
       "      <td>0.458500</td>\n",
       "    </tr>\n",
       "    <tr>\n",
       "      <th>158</th>\n",
       "      <td>138.0</td>\n",
       "      <td>0.532164</td>\n",
       "      <td>0.431813</td>\n",
       "      <td>0.456384</td>\n",
       "    </tr>\n",
       "    <tr>\n",
       "      <th>159</th>\n",
       "      <td>138.0</td>\n",
       "      <td>0.530244</td>\n",
       "      <td>0.429731</td>\n",
       "      <td>0.454132</td>\n",
       "    </tr>\n",
       "    <tr>\n",
       "      <th>160</th>\n",
       "      <td>138.0</td>\n",
       "      <td>0.528031</td>\n",
       "      <td>0.427581</td>\n",
       "      <td>0.451768</td>\n",
       "    </tr>\n",
       "    <tr>\n",
       "      <th>161</th>\n",
       "      <td>138.0</td>\n",
       "      <td>0.525585</td>\n",
       "      <td>0.425379</td>\n",
       "      <td>0.449322</td>\n",
       "    </tr>\n",
       "    <tr>\n",
       "      <th>162</th>\n",
       "      <td>138.0</td>\n",
       "      <td>0.522972</td>\n",
       "      <td>0.423154</td>\n",
       "      <td>0.446832</td>\n",
       "    </tr>\n",
       "    <tr>\n",
       "      <th>163</th>\n",
       "      <td>138.0</td>\n",
       "      <td>0.520264</td>\n",
       "      <td>0.420937</td>\n",
       "      <td>0.444341</td>\n",
       "    </tr>\n",
       "    <tr>\n",
       "      <th>164</th>\n",
       "      <td>138.0</td>\n",
       "      <td>0.517542</td>\n",
       "      <td>0.418768</td>\n",
       "      <td>0.441898</td>\n",
       "    </tr>\n",
       "    <tr>\n",
       "      <th>165</th>\n",
       "      <td>138.0</td>\n",
       "      <td>0.514881</td>\n",
       "      <td>0.416687</td>\n",
       "      <td>0.439554</td>\n",
       "    </tr>\n",
       "    <tr>\n",
       "      <th>166</th>\n",
       "      <td>138.0</td>\n",
       "      <td>0.512354</td>\n",
       "      <td>0.414731</td>\n",
       "      <td>0.437355</td>\n",
       "    </tr>\n",
       "    <tr>\n",
       "      <th>167</th>\n",
       "      <td>138.0</td>\n",
       "      <td>0.510018</td>\n",
       "      <td>0.412933</td>\n",
       "      <td>0.435338</td>\n",
       "    </tr>\n",
       "    <tr>\n",
       "      <th>168</th>\n",
       "      <td>138.0</td>\n",
       "      <td>0.507911</td>\n",
       "      <td>0.411312</td>\n",
       "      <td>0.433527</td>\n",
       "    </tr>\n",
       "    <tr>\n",
       "      <th>169</th>\n",
       "      <td>138.0</td>\n",
       "      <td>0.506055</td>\n",
       "      <td>0.409879</td>\n",
       "      <td>0.431932</td>\n",
       "    </tr>\n",
       "    <tr>\n",
       "      <th>170</th>\n",
       "      <td>138.0</td>\n",
       "      <td>0.504449</td>\n",
       "      <td>0.408633</td>\n",
       "      <td>0.430552</td>\n",
       "    </tr>\n",
       "    <tr>\n",
       "      <th>171</th>\n",
       "      <td>138.0</td>\n",
       "      <td>0.503084</td>\n",
       "      <td>0.407564</td>\n",
       "      <td>0.429374</td>\n",
       "    </tr>\n",
       "    <tr>\n",
       "      <th>172</th>\n",
       "      <td>138.0</td>\n",
       "      <td>0.501937</td>\n",
       "      <td>0.406658</td>\n",
       "      <td>0.428380</td>\n",
       "    </tr>\n",
       "    <tr>\n",
       "      <th>173</th>\n",
       "      <td>138.0</td>\n",
       "      <td>0.500984</td>\n",
       "      <td>0.405894</td>\n",
       "      <td>0.427546</td>\n",
       "    </tr>\n",
       "    <tr>\n",
       "      <th>174</th>\n",
       "      <td>138.0</td>\n",
       "      <td>0.500196</td>\n",
       "      <td>0.405254</td>\n",
       "      <td>0.426851</td>\n",
       "    </tr>\n",
       "    <tr>\n",
       "      <th>175</th>\n",
       "      <td>138.0</td>\n",
       "      <td>0.499549</td>\n",
       "      <td>0.404719</td>\n",
       "      <td>0.426273</td>\n",
       "    </tr>\n",
       "    <tr>\n",
       "      <th>176</th>\n",
       "      <td>138.0</td>\n",
       "      <td>0.499017</td>\n",
       "      <td>0.404273</td>\n",
       "      <td>0.425793</td>\n",
       "    </tr>\n",
       "    <tr>\n",
       "      <th>177</th>\n",
       "      <td>138.0</td>\n",
       "      <td>0.498581</td>\n",
       "      <td>0.403900</td>\n",
       "      <td>0.425393</td>\n",
       "    </tr>\n",
       "    <tr>\n",
       "      <th>178</th>\n",
       "      <td>138.0</td>\n",
       "      <td>0.498224</td>\n",
       "      <td>0.403587</td>\n",
       "      <td>0.425059</td>\n",
       "    </tr>\n",
       "    <tr>\n",
       "      <th>179</th>\n",
       "      <td>138.0</td>\n",
       "      <td>0.497930</td>\n",
       "      <td>0.403325</td>\n",
       "      <td>0.424780</td>\n",
       "    </tr>\n",
       "    <tr>\n",
       "      <th>180</th>\n",
       "      <td>138.0</td>\n",
       "      <td>0.497688</td>\n",
       "      <td>0.403104</td>\n",
       "      <td>0.424545</td>\n",
       "    </tr>\n",
       "    <tr>\n",
       "      <th>181</th>\n",
       "      <td>138.0</td>\n",
       "      <td>0.497488</td>\n",
       "      <td>0.402917</td>\n",
       "      <td>0.424347</td>\n",
       "    </tr>\n",
       "    <tr>\n",
       "      <th>182</th>\n",
       "      <td>138.0</td>\n",
       "      <td>0.497322</td>\n",
       "      <td>0.402758</td>\n",
       "      <td>0.424180</td>\n",
       "    </tr>\n",
       "    <tr>\n",
       "      <th>183</th>\n",
       "      <td>138.0</td>\n",
       "      <td>0.497184</td>\n",
       "      <td>0.402622</td>\n",
       "      <td>0.424037</td>\n",
       "    </tr>\n",
       "    <tr>\n",
       "      <th>184</th>\n",
       "      <td>138.0</td>\n",
       "      <td>0.497069</td>\n",
       "      <td>0.402507</td>\n",
       "      <td>0.423915</td>\n",
       "    </tr>\n",
       "    <tr>\n",
       "      <th>185</th>\n",
       "      <td>138.0</td>\n",
       "      <td>0.496973</td>\n",
       "      <td>0.402407</td>\n",
       "      <td>0.423811</td>\n",
       "    </tr>\n",
       "    <tr>\n",
       "      <th>186</th>\n",
       "      <td>138.0</td>\n",
       "      <td>0.496891</td>\n",
       "      <td>0.402321</td>\n",
       "      <td>0.423721</td>\n",
       "    </tr>\n",
       "    <tr>\n",
       "      <th>187</th>\n",
       "      <td>138.0</td>\n",
       "      <td>0.496823</td>\n",
       "      <td>0.402247</td>\n",
       "      <td>0.423643</td>\n",
       "    </tr>\n",
       "    <tr>\n",
       "      <th>188</th>\n",
       "      <td>138.0</td>\n",
       "      <td>0.496765</td>\n",
       "      <td>0.402183</td>\n",
       "      <td>0.423575</td>\n",
       "    </tr>\n",
       "    <tr>\n",
       "      <th>189</th>\n",
       "      <td>138.0</td>\n",
       "      <td>0.496715</td>\n",
       "      <td>0.402126</td>\n",
       "      <td>0.423516</td>\n",
       "    </tr>\n",
       "    <tr>\n",
       "      <th>190</th>\n",
       "      <td>138.0</td>\n",
       "      <td>0.496672</td>\n",
       "      <td>0.402077</td>\n",
       "      <td>0.423465</td>\n",
       "    </tr>\n",
       "    <tr>\n",
       "      <th>191</th>\n",
       "      <td>138.0</td>\n",
       "      <td>0.496636</td>\n",
       "      <td>0.402034</td>\n",
       "      <td>0.423420</td>\n",
       "    </tr>\n",
       "    <tr>\n",
       "      <th>192</th>\n",
       "      <td>138.0</td>\n",
       "      <td>0.496605</td>\n",
       "      <td>0.401996</td>\n",
       "      <td>0.423380</td>\n",
       "    </tr>\n",
       "    <tr>\n",
       "      <th>193</th>\n",
       "      <td>138.0</td>\n",
       "      <td>0.496577</td>\n",
       "      <td>0.401963</td>\n",
       "      <td>0.423345</td>\n",
       "    </tr>\n",
       "    <tr>\n",
       "      <th>194</th>\n",
       "      <td>138.0</td>\n",
       "      <td>0.496554</td>\n",
       "      <td>0.401934</td>\n",
       "      <td>0.423314</td>\n",
       "    </tr>\n",
       "    <tr>\n",
       "      <th>195</th>\n",
       "      <td>138.0</td>\n",
       "      <td>0.496533</td>\n",
       "      <td>0.401908</td>\n",
       "      <td>0.423287</td>\n",
       "    </tr>\n",
       "    <tr>\n",
       "      <th>196</th>\n",
       "      <td>138.0</td>\n",
       "      <td>0.496515</td>\n",
       "      <td>0.401884</td>\n",
       "      <td>0.423262</td>\n",
       "    </tr>\n",
       "    <tr>\n",
       "      <th>197</th>\n",
       "      <td>138.0</td>\n",
       "      <td>0.496499</td>\n",
       "      <td>0.401864</td>\n",
       "      <td>0.423241</td>\n",
       "    </tr>\n",
       "    <tr>\n",
       "      <th>198</th>\n",
       "      <td>138.0</td>\n",
       "      <td>0.496484</td>\n",
       "      <td>0.401846</td>\n",
       "      <td>0.423221</td>\n",
       "    </tr>\n",
       "    <tr>\n",
       "      <th>199</th>\n",
       "      <td>138.0</td>\n",
       "      <td>0.496472</td>\n",
       "      <td>0.401829</td>\n",
       "      <td>0.423204</td>\n",
       "    </tr>\n",
       "    <tr>\n",
       "      <th>200</th>\n",
       "      <td>138.0</td>\n",
       "      <td>0.496461</td>\n",
       "      <td>0.401815</td>\n",
       "      <td>0.423189</td>\n",
       "    </tr>\n",
       "    <tr>\n",
       "      <th>201</th>\n",
       "      <td>138.0</td>\n",
       "      <td>0.496451</td>\n",
       "      <td>0.401802</td>\n",
       "      <td>0.423175</td>\n",
       "    </tr>\n",
       "    <tr>\n",
       "      <th>202</th>\n",
       "      <td>138.0</td>\n",
       "      <td>0.496442</td>\n",
       "      <td>0.401790</td>\n",
       "      <td>0.423162</td>\n",
       "    </tr>\n",
       "    <tr>\n",
       "      <th>203</th>\n",
       "      <td>138.0</td>\n",
       "      <td>0.496434</td>\n",
       "      <td>0.401779</td>\n",
       "      <td>0.423151</td>\n",
       "    </tr>\n",
       "    <tr>\n",
       "      <th>204</th>\n",
       "      <td>138.0</td>\n",
       "      <td>0.496426</td>\n",
       "      <td>0.401770</td>\n",
       "      <td>0.423141</td>\n",
       "    </tr>\n",
       "    <tr>\n",
       "      <th>205</th>\n",
       "      <td>138.0</td>\n",
       "      <td>0.496420</td>\n",
       "      <td>0.401761</td>\n",
       "      <td>0.423132</td>\n",
       "    </tr>\n",
       "    <tr>\n",
       "      <th>206</th>\n",
       "      <td>138.0</td>\n",
       "      <td>0.496414</td>\n",
       "      <td>0.401754</td>\n",
       "      <td>0.423123</td>\n",
       "    </tr>\n",
       "    <tr>\n",
       "      <th>207</th>\n",
       "      <td>138.0</td>\n",
       "      <td>0.496408</td>\n",
       "      <td>0.401747</td>\n",
       "      <td>0.423116</td>\n",
       "    </tr>\n",
       "    <tr>\n",
       "      <th>208</th>\n",
       "      <td>138.0</td>\n",
       "      <td>0.496403</td>\n",
       "      <td>0.401740</td>\n",
       "      <td>0.423109</td>\n",
       "    </tr>\n",
       "    <tr>\n",
       "      <th>209</th>\n",
       "      <td>138.0</td>\n",
       "      <td>0.496399</td>\n",
       "      <td>0.401734</td>\n",
       "      <td>0.423103</td>\n",
       "    </tr>\n",
       "    <tr>\n",
       "      <th>210</th>\n",
       "      <td>138.0</td>\n",
       "      <td>0.496395</td>\n",
       "      <td>0.401729</td>\n",
       "      <td>0.423097</td>\n",
       "    </tr>\n",
       "    <tr>\n",
       "      <th>211</th>\n",
       "      <td>138.0</td>\n",
       "      <td>0.496391</td>\n",
       "      <td>0.401725</td>\n",
       "      <td>0.423092</td>\n",
       "    </tr>\n",
       "    <tr>\n",
       "      <th>212</th>\n",
       "      <td>138.0</td>\n",
       "      <td>0.496387</td>\n",
       "      <td>0.401720</td>\n",
       "      <td>0.423088</td>\n",
       "    </tr>\n",
       "    <tr>\n",
       "      <th>213</th>\n",
       "      <td>138.0</td>\n",
       "      <td>0.496384</td>\n",
       "      <td>0.401716</td>\n",
       "      <td>0.423083</td>\n",
       "    </tr>\n",
       "    <tr>\n",
       "      <th>214</th>\n",
       "      <td>138.0</td>\n",
       "      <td>0.496381</td>\n",
       "      <td>0.401713</td>\n",
       "      <td>0.423080</td>\n",
       "    </tr>\n",
       "    <tr>\n",
       "      <th>215</th>\n",
       "      <td>138.0</td>\n",
       "      <td>0.496378</td>\n",
       "      <td>0.401709</td>\n",
       "      <td>0.423076</td>\n",
       "    </tr>\n",
       "    <tr>\n",
       "      <th>216</th>\n",
       "      <td>138.0</td>\n",
       "      <td>0.496376</td>\n",
       "      <td>0.401706</td>\n",
       "      <td>0.423073</td>\n",
       "    </tr>\n",
       "    <tr>\n",
       "      <th>217</th>\n",
       "      <td>138.0</td>\n",
       "      <td>0.496373</td>\n",
       "      <td>0.401704</td>\n",
       "      <td>0.423070</td>\n",
       "    </tr>\n",
       "    <tr>\n",
       "      <th>218</th>\n",
       "      <td>138.0</td>\n",
       "      <td>0.496371</td>\n",
       "      <td>0.401701</td>\n",
       "      <td>0.423067</td>\n",
       "    </tr>\n",
       "    <tr>\n",
       "      <th>219</th>\n",
       "      <td>138.0</td>\n",
       "      <td>0.496369</td>\n",
       "      <td>0.401699</td>\n",
       "      <td>0.423065</td>\n",
       "    </tr>\n",
       "    <tr>\n",
       "      <th>220</th>\n",
       "      <td>138.0</td>\n",
       "      <td>0.496367</td>\n",
       "      <td>0.401697</td>\n",
       "      <td>0.423062</td>\n",
       "    </tr>\n",
       "    <tr>\n",
       "      <th>221</th>\n",
       "      <td>138.0</td>\n",
       "      <td>0.496365</td>\n",
       "      <td>0.401695</td>\n",
       "      <td>0.423060</td>\n",
       "    </tr>\n",
       "    <tr>\n",
       "      <th>222</th>\n",
       "      <td>138.0</td>\n",
       "      <td>0.496364</td>\n",
       "      <td>0.401693</td>\n",
       "      <td>0.423058</td>\n",
       "    </tr>\n",
       "    <tr>\n",
       "      <th>223</th>\n",
       "      <td>138.0</td>\n",
       "      <td>0.496362</td>\n",
       "      <td>0.401692</td>\n",
       "      <td>0.423057</td>\n",
       "    </tr>\n",
       "    <tr>\n",
       "      <th>224</th>\n",
       "      <td>138.0</td>\n",
       "      <td>0.496361</td>\n",
       "      <td>0.401690</td>\n",
       "      <td>0.423055</td>\n",
       "    </tr>\n",
       "    <tr>\n",
       "      <th>225</th>\n",
       "      <td>138.0</td>\n",
       "      <td>0.496360</td>\n",
       "      <td>0.401689</td>\n",
       "      <td>0.423053</td>\n",
       "    </tr>\n",
       "    <tr>\n",
       "      <th>226</th>\n",
       "      <td>138.0</td>\n",
       "      <td>0.496358</td>\n",
       "      <td>0.401688</td>\n",
       "      <td>0.423052</td>\n",
       "    </tr>\n",
       "  </tbody>\n",
       "</table>\n",
       "</div>"
      ],
      "text/plain": [
       "     Frame  CenterPred  LeftPred  RightPred\n",
       "0      0.0    0.539849  0.575748   0.553792\n",
       "1      1.0    0.533745  0.558207   0.534326\n",
       "2      2.0    0.532495  0.553723   0.527137\n",
       "3      3.0    0.529810  0.554532   0.524601\n",
       "4      4.0    0.523558  0.555600   0.522226\n",
       "5      5.0    0.514394  0.555217   0.518736\n",
       "6      6.0    0.504273  0.553818   0.514760\n",
       "7      7.0    0.494691  0.552093   0.511030\n",
       "8      8.0    0.486301  0.550545   0.507973\n",
       "9      9.0    0.479108  0.549322   0.505622\n",
       "10    10.0    0.472887  0.548445   0.503900\n",
       "11    11.0    0.467403  0.547874   0.502687\n",
       "12    12.0    0.462431  0.547589   0.501904\n",
       "13    13.0    0.457818  0.547535   0.501457\n",
       "14    14.0    0.453435  0.547707   0.501308\n",
       "15    15.0    0.449213  0.548125   0.501450\n",
       "16    16.0    0.445128  0.548833   0.501912\n",
       "17    17.0    0.441233  0.549927   0.502771\n",
       "18    18.0    0.437519  0.551387   0.504007\n",
       "19    19.0    0.434042  0.553232   0.505635\n",
       "20    20.0    0.430871  0.555374   0.507576\n",
       "21    21.0    0.428042  0.557630   0.509659\n",
       "22    22.0    0.425621  0.560023   0.511902\n",
       "23    23.0    0.423618  0.562471   0.514219\n",
       "24    24.0    0.421998  0.564802   0.516439\n",
       "25    25.0    0.420737  0.566950   0.518489\n",
       "26    26.0    0.419740  0.568788   0.520242\n",
       "27    27.0    0.419004  0.570415   0.521796\n",
       "28    28.0    0.418485  0.571855   0.523173\n",
       "29    29.0    0.418128  0.573098   0.524361\n",
       "30    30.0    0.417901  0.574172   0.525386\n",
       "31    31.0    0.417790  0.575126   0.526297\n",
       "32    32.0    0.417755  0.575932   0.527065\n",
       "33    33.0    0.417786  0.576630   0.527729\n",
       "34    34.0    0.417865  0.577240   0.528309\n",
       "35    35.0    0.417985  0.577767   0.528811\n",
       "36    36.0    0.418162  0.578276   0.529302\n",
       "37    37.0    0.418377  0.578752   0.529763\n",
       "38    38.0    0.418609  0.579181   0.530175\n",
       "39    39.0    0.418856  0.579570   0.530546\n",
       "40    40.0    0.419125  0.579950   0.530905\n",
       "41    41.0    0.419430  0.580348   0.531280\n",
       "42    42.0    0.419765  0.580762   0.531671\n",
       "43    43.0    0.420156  0.581239   0.532128\n",
       "44    44.0    0.420653  0.581907   0.532776\n",
       "45    45.0    0.421172  0.582632   0.533478\n",
       "46    46.0    0.421673  0.583310   0.534134\n",
       "47    47.0    0.422088  0.583858   0.534649\n",
       "48    48.0    0.422249  0.583934   0.534685\n",
       "49    49.0    0.422279  0.583800   0.534478\n",
       "50    50.0    0.422317  0.583665   0.534280\n",
       "51    51.0    0.422455  0.583701   0.534248\n",
       "52    52.0    0.422727  0.583938   0.534445\n",
       "53    53.0    0.422951  0.584123   0.534574\n",
       "54    54.0    0.423257  0.584464   0.534878\n",
       "55    55.0    0.423405  0.584646   0.535007\n",
       "56    56.0    0.423600  0.585064   0.535379\n",
       "57    57.0    0.423451  0.584819   0.535124\n",
       "58    58.0    0.423069  0.584292   0.534660\n",
       "59    59.0    0.422094  0.582911   0.533379\n",
       "60    60.0    0.421045  0.581327   0.531912\n",
       "61    61.0    0.420029  0.579778   0.530544\n",
       "62    62.0    0.418826  0.577886   0.528867\n",
       "63    63.0    0.417522  0.575871   0.527073\n",
       "64    64.0    0.416245  0.573811   0.525219\n",
       "65    65.0    0.415166  0.572026   0.523612\n",
       "66    66.0    0.414331  0.570487   0.522239\n",
       "67    67.0    0.413769  0.569553   0.521426\n",
       "68    68.0    0.413325  0.569163   0.521112\n",
       "69    69.0    0.412766  0.568965   0.520957\n",
       "70    70.0    0.412209  0.569079   0.521081\n",
       "71    71.0    0.411735  0.569312   0.521335\n",
       "72    72.0    0.411246  0.569379   0.521434\n",
       "73    73.0    0.410888  0.569304   0.521439\n",
       "74    74.0    0.410563  0.569558   0.521734\n",
       "75    75.0    0.410325  0.569195   0.521419\n",
       "76    76.0    0.410679  0.569603   0.521861\n",
       "77    77.0    0.411121  0.570509   0.522769\n",
       "78    78.0    0.411490  0.571543   0.523782\n",
       "79    79.0    0.411794  0.573082   0.525263\n",
       "80    80.0    0.411986  0.575469   0.527536\n",
       "81    81.0    0.412054  0.577730   0.529685\n",
       "82    82.0    0.412589  0.580690   0.532536\n",
       "83    83.0    0.413421  0.583764   0.535525\n",
       "84    84.0    0.414437  0.586812   0.538507\n",
       "85    85.0    0.415596  0.589740   0.541390\n",
       "86    86.0    0.416882  0.592683   0.544293\n",
       "87    87.0    0.418041  0.595191   0.546785\n",
       "88    88.0    0.418987  0.597180   0.548755\n",
       "89    89.0    0.420068  0.599308   0.550878\n",
       "90    90.0    0.421158  0.601413   0.552990\n",
       "91    91.0    0.422108  0.603394   0.554976\n",
       "92    92.0    0.422999  0.605383   0.556967\n",
       "93    93.0    0.424116  0.607811   0.559381\n",
       "94    94.0    0.425374  0.610479   0.562047\n",
       "95    95.0    0.426142  0.612198   0.563732\n",
       "96    96.0    0.426581  0.613232   0.564729\n",
       "97    97.0    0.427649  0.615271   0.566803\n",
       "98    98.0    0.429217  0.617944   0.569589\n",
       "99    99.0    0.431866  0.622413   0.574236\n",
       "100  100.0    0.433819  0.625771   0.577768\n",
       "101  101.0    0.435250  0.628242   0.580412\n",
       "102  102.0    0.435802  0.629105   0.581416\n",
       "103  103.0    0.436606  0.630038   0.582426\n",
       "104  104.0    0.437887  0.631783   0.584273\n",
       "105  105.0    0.439822  0.634798   0.587483\n",
       "106  106.0    0.441398  0.637072   0.589865\n",
       "107  107.0    0.442530  0.638825   0.591740\n",
       "108  108.0    0.442138  0.637446   0.590195\n",
       "109  109.0    0.439948  0.632824   0.585182\n",
       "110  110.0    0.436908  0.627019   0.579027\n",
       "111  111.0    0.435423  0.624901   0.577006\n",
       "112  112.0    0.433618  0.620896   0.572857\n",
       "113  113.0    0.431715  0.617259   0.569151\n",
       "114  114.0    0.430174  0.614400   0.566241\n",
       "115  115.0    0.428715  0.611870   0.563644\n",
       "116  116.0    0.428381  0.611889   0.563938\n",
       "117  117.0    0.428047  0.610717   0.562946\n",
       "118  118.0    0.427760  0.609541   0.561957\n",
       "119  119.0    0.427652  0.608455   0.561084\n",
       "120  120.0    0.427700  0.607223   0.560080\n",
       "121  121.0    0.427080  0.604461   0.557442\n",
       "122  122.0    0.426304  0.601018   0.554156\n",
       "123  123.0    0.425983  0.598256   0.551690\n",
       "124  124.0    0.425457  0.594185   0.548001\n",
       "125  125.0    0.424604  0.588594   0.542952\n",
       "126  126.0    0.423184  0.580424   0.535561\n",
       "127  127.0    0.421245  0.568514   0.524861\n",
       "128  128.0    0.419524  0.554392   0.512522\n",
       "129  129.0    0.418836  0.540629   0.500966\n",
       "130  130.0    0.419433  0.528581   0.491320\n",
       "131  131.0    0.421138  0.518514   0.483710\n",
       "132  132.0    0.423714  0.510212   0.477878\n",
       "133  133.0    0.427036  0.503361   0.473524\n",
       "134  134.0    0.431068  0.497699   0.470425\n",
       "135  135.0    0.435801  0.493025   0.468412\n",
       "136  136.0    0.441195  0.489133   0.467307\n",
       "137  137.0    0.447138  0.485786   0.466891\n",
       "138  138.0    0.453470  0.482735   0.466925\n",
       "139  138.0    0.460051  0.479768   0.467204\n",
       "140  138.0    0.466869  0.476756   0.467622\n",
       "141  138.0    0.474051  0.473659   0.468171\n",
       "142  138.0    0.481708  0.470425   0.468822\n",
       "143  138.0    0.489651  0.466868   0.469345\n",
       "144  138.0    0.497353  0.462789   0.469383\n",
       "145  138.0    0.504392  0.458391   0.468892\n",
       "146  138.0    0.510763  0.454311   0.468274\n",
       "147  138.0    0.516576  0.451042   0.467894\n",
       "148  138.0    0.521783  0.448619   0.467766\n",
       "149  138.0    0.526235  0.446788   0.467694\n",
       "150  138.0    0.529822  0.445263   0.467480\n",
       "151  138.0    0.532516  0.443836   0.467003\n",
       "152  138.0    0.534360  0.442390   0.466223\n",
       "153  138.0    0.535434  0.440869   0.465149\n",
       "154  138.0    0.535829  0.439252   0.463809\n",
       "155  138.0    0.535630  0.437537   0.462235\n",
       "156  138.0    0.534912  0.435722   0.460457\n",
       "157  138.0    0.533738  0.433812   0.458500\n",
       "158  138.0    0.532164  0.431813   0.456384\n",
       "159  138.0    0.530244  0.429731   0.454132\n",
       "160  138.0    0.528031  0.427581   0.451768\n",
       "161  138.0    0.525585  0.425379   0.449322\n",
       "162  138.0    0.522972  0.423154   0.446832\n",
       "163  138.0    0.520264  0.420937   0.444341\n",
       "164  138.0    0.517542  0.418768   0.441898\n",
       "165  138.0    0.514881  0.416687   0.439554\n",
       "166  138.0    0.512354  0.414731   0.437355\n",
       "167  138.0    0.510018  0.412933   0.435338\n",
       "168  138.0    0.507911  0.411312   0.433527\n",
       "169  138.0    0.506055  0.409879   0.431932\n",
       "170  138.0    0.504449  0.408633   0.430552\n",
       "171  138.0    0.503084  0.407564   0.429374\n",
       "172  138.0    0.501937  0.406658   0.428380\n",
       "173  138.0    0.500984  0.405894   0.427546\n",
       "174  138.0    0.500196  0.405254   0.426851\n",
       "175  138.0    0.499549  0.404719   0.426273\n",
       "176  138.0    0.499017  0.404273   0.425793\n",
       "177  138.0    0.498581  0.403900   0.425393\n",
       "178  138.0    0.498224  0.403587   0.425059\n",
       "179  138.0    0.497930  0.403325   0.424780\n",
       "180  138.0    0.497688  0.403104   0.424545\n",
       "181  138.0    0.497488  0.402917   0.424347\n",
       "182  138.0    0.497322  0.402758   0.424180\n",
       "183  138.0    0.497184  0.402622   0.424037\n",
       "184  138.0    0.497069  0.402507   0.423915\n",
       "185  138.0    0.496973  0.402407   0.423811\n",
       "186  138.0    0.496891  0.402321   0.423721\n",
       "187  138.0    0.496823  0.402247   0.423643\n",
       "188  138.0    0.496765  0.402183   0.423575\n",
       "189  138.0    0.496715  0.402126   0.423516\n",
       "190  138.0    0.496672  0.402077   0.423465\n",
       "191  138.0    0.496636  0.402034   0.423420\n",
       "192  138.0    0.496605  0.401996   0.423380\n",
       "193  138.0    0.496577  0.401963   0.423345\n",
       "194  138.0    0.496554  0.401934   0.423314\n",
       "195  138.0    0.496533  0.401908   0.423287\n",
       "196  138.0    0.496515  0.401884   0.423262\n",
       "197  138.0    0.496499  0.401864   0.423241\n",
       "198  138.0    0.496484  0.401846   0.423221\n",
       "199  138.0    0.496472  0.401829   0.423204\n",
       "200  138.0    0.496461  0.401815   0.423189\n",
       "201  138.0    0.496451  0.401802   0.423175\n",
       "202  138.0    0.496442  0.401790   0.423162\n",
       "203  138.0    0.496434  0.401779   0.423151\n",
       "204  138.0    0.496426  0.401770   0.423141\n",
       "205  138.0    0.496420  0.401761   0.423132\n",
       "206  138.0    0.496414  0.401754   0.423123\n",
       "207  138.0    0.496408  0.401747   0.423116\n",
       "208  138.0    0.496403  0.401740   0.423109\n",
       "209  138.0    0.496399  0.401734   0.423103\n",
       "210  138.0    0.496395  0.401729   0.423097\n",
       "211  138.0    0.496391  0.401725   0.423092\n",
       "212  138.0    0.496387  0.401720   0.423088\n",
       "213  138.0    0.496384  0.401716   0.423083\n",
       "214  138.0    0.496381  0.401713   0.423080\n",
       "215  138.0    0.496378  0.401709   0.423076\n",
       "216  138.0    0.496376  0.401706   0.423073\n",
       "217  138.0    0.496373  0.401704   0.423070\n",
       "218  138.0    0.496371  0.401701   0.423067\n",
       "219  138.0    0.496369  0.401699   0.423065\n",
       "220  138.0    0.496367  0.401697   0.423062\n",
       "221  138.0    0.496365  0.401695   0.423060\n",
       "222  138.0    0.496364  0.401693   0.423058\n",
       "223  138.0    0.496362  0.401692   0.423057\n",
       "224  138.0    0.496361  0.401690   0.423055\n",
       "225  138.0    0.496360  0.401689   0.423053\n",
       "226  138.0    0.496358  0.401688   0.423052"
      ]
     },
     "execution_count": 552,
     "metadata": {},
     "output_type": "execute_result"
    }
   ],
   "source": [
    "pd.set_option('display.max_rows', None)\n",
    "df"
   ]
  },
  {
   "cell_type": "code",
   "execution_count": 523,
   "metadata": {},
   "outputs": [
    {
     "data": {
      "text/plain": [
       "array([[ 0.        ,  0.5402348 ,  0.57995325,  0.55875045],\n",
       "       [ 1.        ,  0.53013676,  0.55569196,  0.53418654],\n",
       "       [ 2.        ,  0.52672231,  0.53725761,  0.51613867],\n",
       "       [ 3.        ,  0.52841467,  0.52463192,  0.50429899],\n",
       "       [ 4.        ,  0.53285491,  0.51616168,  0.49665672],\n",
       "       [ 5.        ,  0.53897238,  0.51121926,  0.49244559],\n",
       "       [ 6.        ,  0.54568923,  0.50877333,  0.490637  ],\n",
       "       [ 7.        ,  0.55228347,  0.50804281,  0.49044681],\n",
       "       [ 8.        ,  0.5582093 ,  0.50822008,  0.49109226],\n",
       "       [ 9.        ,  0.56329864,  0.50884813,  0.49213493],\n",
       "       [10.        ,  0.567433  ,  0.50935626,  0.49307129],\n",
       "       [11.        ,  0.57093477,  0.50988328,  0.49403152],\n",
       "       [12.        ,  0.57392174,  0.51037014,  0.49496219],\n",
       "       [13.        ,  0.57656342,  0.51090044,  0.4959296 ],\n",
       "       [14.        ,  0.57885718,  0.51135164,  0.49681407],\n",
       "       [15.        ,  0.58089584,  0.51176298,  0.4976424 ],\n",
       "       [16.        ,  0.58270603,  0.51211399,  0.49839753],\n",
       "       [17.        ,  0.58431572,  0.51237792,  0.4990598 ],\n",
       "       [18.        ,  0.58577967,  0.51256609,  0.49964875],\n",
       "       [19.        ,  0.58713919,  0.5127176 ,  0.5001899 ],\n",
       "       [20.        ,  0.58839482,  0.51282877,  0.50067943],\n",
       "       [21.        ,  0.58953476,  0.51286727,  0.50107968],\n",
       "       [22.        ,  0.5906105 ,  0.51294309,  0.50149322],\n",
       "       [23.        ,  0.59156674,  0.51299036,  0.50185072],\n",
       "       [24.        ,  0.59244484,  0.51304859,  0.50219715],\n",
       "       [25.        ,  0.59325355,  0.51312476,  0.50253785],\n",
       "       [26.        ,  0.59399372,  0.51321191,  0.50286365],\n",
       "       [27.        ,  0.59464025,  0.51324624,  0.50311726],\n",
       "       [28.        ,  0.59523022,  0.51329368,  0.50336224],\n",
       "       [29.        ,  0.59572083,  0.51333529,  0.50358593],\n",
       "       [30.        ,  0.59612125,  0.5132798 ,  0.50370693],\n",
       "       [31.        ,  0.59650028,  0.5132001 ,  0.50379711],\n",
       "       [32.        ,  0.59686267,  0.51312983,  0.50388235],\n",
       "       [33.        ,  0.59719795,  0.51306909,  0.50396192],\n",
       "       [34.        ,  0.59752345,  0.51304883,  0.50406647],\n",
       "       [35.        ,  0.59781915,  0.51299328,  0.50412518],\n",
       "       [36.        ,  0.59814346,  0.51301771,  0.50424457],\n",
       "       [37.        ,  0.59843749,  0.51307291,  0.50437444],\n",
       "       [38.        ,  0.59874481,  0.51320475,  0.5045644 ],\n",
       "       [39.        ,  0.5990032 ,  0.51323259,  0.5046469 ],\n",
       "       [40.        ,  0.59928519,  0.51328588,  0.50474393],\n",
       "       [41.        ,  0.59961116,  0.51341361,  0.50490344],\n",
       "       [42.        ,  0.59989172,  0.5134685 ,  0.50497961],\n",
       "       [43.        ,  0.60016817,  0.51355165,  0.50507462],\n",
       "       [44.        ,  0.60039926,  0.51359558,  0.50512528],\n",
       "       [45.        ,  0.60064077,  0.51369101,  0.50521994],\n",
       "       [46.        ,  0.6008333 ,  0.51374304,  0.50526881],\n",
       "       [47.        ,  0.60100996,  0.5137983 ,  0.50532001],\n",
       "       [48.        ,  0.60114276,  0.51379007,  0.50531113],\n",
       "       [49.        ,  0.60127628,  0.51378089,  0.50530529],\n",
       "       [50.        ,  0.60137904,  0.51367915,  0.50521511],\n",
       "       [51.        ,  0.60153192,  0.51362824,  0.50517631],\n",
       "       [52.        ,  0.60171568,  0.51365113,  0.50520706],\n",
       "       [53.        ,  0.60187942,  0.5136472 ,  0.50520271],\n",
       "       [54.        ,  0.60203654,  0.51362592,  0.50517458],\n",
       "       [55.        ,  0.60217881,  0.51361495,  0.50515509],\n",
       "       [56.        ,  0.60232198,  0.51364917,  0.50518674],\n",
       "       [57.        ,  0.60242271,  0.51357448,  0.50511968],\n",
       "       [58.        ,  0.60260487,  0.5135228 ,  0.50508279],\n",
       "       [59.        ,  0.60284585,  0.51348537,  0.50505793],\n",
       "       [60.        ,  0.60316736,  0.51364172,  0.50520957],\n",
       "       [61.        ,  0.60341024,  0.51366162,  0.5052194 ],\n",
       "       [62.        ,  0.60374409,  0.51397318,  0.50549197],\n",
       "       [63.        ,  0.60392737,  0.51410651,  0.50559568],\n",
       "       [64.        ,  0.60413486,  0.51422507,  0.50569212],\n",
       "       [65.        ,  0.60436535,  0.51423639,  0.50570083],\n",
       "       [66.        ,  0.60467601,  0.51417702,  0.50564361],\n",
       "       [67.        ,  0.60481477,  0.51367623,  0.50518334],\n",
       "       [68.        ,  0.60497719,  0.51298493,  0.50455409],\n",
       "       [69.        ,  0.60529846,  0.5123542 ,  0.50397998],\n",
       "       [70.        ,  0.60579413,  0.51186848,  0.50354344],\n",
       "       [71.        ,  0.60626483,  0.51130325,  0.50298846],\n",
       "       [72.        ,  0.60674459,  0.51077217,  0.50243515],\n",
       "       [73.        ,  0.60710591,  0.51009715,  0.50172693],\n",
       "       [74.        ,  0.60760188,  0.50994712,  0.50147814],\n",
       "       [75.        ,  0.60774094,  0.50906575,  0.50056672],\n",
       "       [76.        ,  0.60807848,  0.50859678,  0.50005192],\n",
       "       [77.        ,  0.60831285,  0.5082196 ,  0.49960589],\n",
       "       [78.        ,  0.6085003 ,  0.50798631,  0.49928442],\n",
       "       [79.        ,  0.60832554,  0.50681937,  0.49811572],\n",
       "       [80.        ,  0.60845411,  0.50598085,  0.49728721],\n",
       "       [81.        ,  0.60857552,  0.50481743,  0.49617094],\n",
       "       [82.        ,  0.60865587,  0.50275224,  0.49426505],\n",
       "       [83.        ,  0.6089856 ,  0.50018394,  0.49202791],\n",
       "       [84.        ,  0.60983807,  0.49800819,  0.49021694],\n",
       "       [85.        ,  0.61121595,  0.49655586,  0.48903599],\n",
       "       [86.        ,  0.61234826,  0.49442446,  0.4872148 ],\n",
       "       [87.        ,  0.61364025,  0.4924714 ,  0.48567137],\n",
       "       [88.        ,  0.61436701,  0.48830435,  0.48215526],\n",
       "       [89.        ,  0.61585116,  0.48423848,  0.47887376],\n",
       "       [90.        ,  0.61756468,  0.47963277,  0.47514004],\n",
       "       [91.        ,  0.61985862,  0.47575223,  0.47216791],\n",
       "       [92.        ,  0.62196386,  0.47176191,  0.46915457],\n",
       "       [93.        ,  0.62405127,  0.46837616,  0.46676108],\n",
       "       [93.        ,  0.62572908,  0.46439388,  0.46368676],\n",
       "       [93.        ,  0.62712181,  0.46017215,  0.46038094],\n",
       "       [93.        ,  0.6282931 ,  0.45575759,  0.45681897],\n",
       "       [93.        ,  0.62974954,  0.45273334,  0.4545683 ],\n",
       "       [93.        ,  0.63083684,  0.44969743,  0.45225614],\n",
       "       [93.        ,  0.63130754,  0.44653741,  0.4497869 ],\n",
       "       [93.        ,  0.63112098,  0.44229534,  0.44615024],\n",
       "       [93.        ,  0.63104725,  0.43897074,  0.44340533],\n",
       "       [93.        ,  0.63148063,  0.43706942,  0.44195518],\n",
       "       [93.        ,  0.6307916 ,  0.4338026 ,  0.43897191],\n",
       "       [93.        ,  0.63043362,  0.43200892,  0.43759194],\n",
       "       [93.        ,  0.63008839,  0.43020836,  0.43603384],\n",
       "       [93.        ,  0.62896442,  0.42772186,  0.43379936],\n",
       "       [93.        ,  0.6275059 ,  0.4251624 ,  0.4315266 ],\n",
       "       [93.        ,  0.62643415,  0.42393431,  0.43067428],\n",
       "       [93.        ,  0.62574661,  0.42350608,  0.43058637],\n",
       "       [93.        ,  0.62536991,  0.4240292 ,  0.43141407],\n",
       "       [93.        ,  0.62503046,  0.42480379,  0.43244493],\n",
       "       [93.        ,  0.62464815,  0.42558041,  0.43343088],\n",
       "       [93.        ,  0.62433362,  0.42640778,  0.4344582 ],\n",
       "       [93.        ,  0.62380576,  0.42673805,  0.43493831],\n",
       "       [93.        ,  0.62251592,  0.42573383,  0.4339765 ],\n",
       "       [93.        ,  0.62178022,  0.42601505,  0.43447554],\n",
       "       [93.        ,  0.6207639 ,  0.42626989,  0.43487024],\n",
       "       [93.        ,  0.61937183,  0.4264161 ,  0.43524089],\n",
       "       [93.        ,  0.61902803,  0.42844447,  0.43756524],\n",
       "       [93.        ,  0.61834717,  0.43060136,  0.43985781],\n",
       "       [93.        ,  0.61833888,  0.43460134,  0.44410062],\n",
       "       [93.        ,  0.61652368,  0.43537924,  0.44489035],\n",
       "       [93.        ,  0.61474341,  0.43699366,  0.44656801],\n",
       "       [93.        ,  0.61211061,  0.4379732 ,  0.44785434],\n",
       "       [93.        ,  0.60821623,  0.43864408,  0.44891417],\n",
       "       [93.        ,  0.60144174,  0.43695429,  0.4481326 ],\n",
       "       [93.        ,  0.58901721,  0.43042484,  0.44318891],\n",
       "       [93.        ,  0.5678677 ,  0.41640151,  0.43189967],\n",
       "       [93.        ,  0.53952682,  0.39800006,  0.41692099],\n",
       "       [93.        ,  0.51054418,  0.3800323 ,  0.40234017],\n",
       "       [93.        ,  0.48910248,  0.3683522 ,  0.39289713],\n",
       "       [93.        ,  0.47618791,  0.36231226,  0.38808137],\n",
       "       [93.        ,  0.46920502,  0.35962155,  0.38600993],\n",
       "       [93.        ,  0.46540314,  0.35850632,  0.38519895],\n",
       "       [93.        ,  0.46312356,  0.35798523,  0.38481516],\n",
       "       [93.        ,  0.4615851 ,  0.35769936,  0.38457707],\n",
       "       [93.        ,  0.46043187,  0.3575168 ,  0.38439515],\n",
       "       [93.        ,  0.45950353,  0.35738629,  0.38424304],\n",
       "       [93.        ,  0.4587245 ,  0.35728496,  0.38411215],\n",
       "       [93.        ,  0.45805544,  0.35720152,  0.38399822],\n",
       "       [93.        ,  0.45747361,  0.35712981,  0.38389844],\n",
       "       [93.        ,  0.45696402,  0.35706621,  0.3838104 ],\n",
       "       [93.        ,  0.45651618,  0.35700852,  0.38373208],\n",
       "       [93.        ,  0.45612195,  0.35695541,  0.38366187],\n",
       "       [93.        ,  0.45577469,  0.35690597,  0.38359857],\n",
       "       [93.        ,  0.45546895,  0.35685992,  0.3835412 ],\n",
       "       [93.        ,  0.45520005,  0.35681701,  0.38348919],\n",
       "       [93.        ,  0.45496365,  0.35677701,  0.38344181],\n",
       "       [93.        ,  0.45475608,  0.35673973,  0.38339865],\n",
       "       [93.        ,  0.4545742 ,  0.35670522,  0.3833594 ],\n",
       "       [93.        ,  0.45441499,  0.3566733 ,  0.38332373],\n",
       "       [93.        ,  0.45427579,  0.35664394,  0.3832913 ],\n",
       "       [93.        ,  0.45415434,  0.35661694,  0.38326183],\n",
       "       [93.        ,  0.45404842,  0.35659218,  0.38323507],\n",
       "       [93.        ,  0.45395637,  0.35656956,  0.38321084],\n",
       "       [93.        ,  0.45387647,  0.35654894,  0.38318887],\n",
       "       [93.        ,  0.45380726,  0.35653016,  0.38316897],\n",
       "       [93.        ,  0.45374739,  0.35651299,  0.38315085],\n",
       "       [93.        ,  0.45369577,  0.35649738,  0.38313457],\n",
       "       [93.        ,  0.45365134,  0.35648325,  0.38311976],\n",
       "       [93.        ,  0.45361322,  0.35647044,  0.38310632],\n",
       "       [93.        ,  0.45358062,  0.35645872,  0.3830941 ],\n",
       "       [93.        ,  0.45355284,  0.35644811,  0.38308305],\n",
       "       [93.        ,  0.45352921,  0.35643843,  0.38307288],\n",
       "       [93.        ,  0.45350933,  0.35642967,  0.38306379],\n",
       "       [93.        ,  0.45349261,  0.35642171,  0.38305536],\n",
       "       [93.        ,  0.45347852,  0.35641441,  0.38304773],\n",
       "       [93.        ,  0.45346692,  0.35640773,  0.3830407 ],\n",
       "       [93.        ,  0.4534573 ,  0.35640162,  0.38303432],\n",
       "       [93.        ,  0.45344946,  0.35639608,  0.38302845],\n",
       "       [93.        ,  0.4534432 ,  0.35639098,  0.38302299],\n",
       "       [93.        ,  0.45343816,  0.3563863 ,  0.38301808],\n",
       "       [93.        ,  0.45343435,  0.35638204,  0.38301358],\n",
       "       [93.        ,  0.45343137,  0.35637805,  0.38300934],\n",
       "       [93.        ,  0.45342928,  0.35637444,  0.38300544],\n",
       "       [93.        ,  0.45342788,  0.3563711 ,  0.38300192],\n",
       "       [93.        ,  0.45342702,  0.35636804,  0.38299859],\n",
       "       [93.        ,  0.45342666,  0.35636526,  0.38299555],\n",
       "       [93.        ,  0.45342666,  0.35636261,  0.38299268],\n",
       "       [93.        ,  0.45342702,  0.35636023,  0.38299009],\n",
       "       [93.        ,  0.45342764,  0.35635796,  0.38298765],\n",
       "       [93.        ,  0.45342845,  0.35635588,  0.38298538],\n",
       "       [93.        ,  0.45342946,  0.356354  ,  0.3829833 ],\n",
       "       [93.        ,  0.45343059,  0.35635218,  0.3829813 ],\n",
       "       [93.        ,  0.45343187,  0.35635057,  0.38297957],\n",
       "       [93.        ,  0.45343316,  0.35634902,  0.3829779 ],\n",
       "       [93.        ,  0.45343453,  0.35634759,  0.38297632],\n",
       "       [93.        ,  0.4534359 ,  0.35634628,  0.38297486],\n",
       "       [93.        ,  0.45343736,  0.35634512,  0.38297358],\n",
       "       [93.        ,  0.45343873,  0.35634395,  0.3829723 ],\n",
       "       [93.        ,  0.45344013,  0.35634285,  0.38297108],\n",
       "       [93.        ,  0.45344147,  0.3563419 ,  0.38297004],\n",
       "       [93.        ,  0.4534429 ,  0.356341  ,  0.38296905],\n",
       "       [93.        ,  0.45344418,  0.35634014,  0.38296804],\n",
       "       [93.        ,  0.45344546,  0.35633937,  0.38296723],\n",
       "       [93.        ,  0.45344669,  0.35633862,  0.38296637],\n",
       "       [93.        ,  0.45344785,  0.3563379 ,  0.38296559],\n",
       "       [93.        ,  0.45344901,  0.35633725,  0.38296488],\n",
       "       [93.        ,  0.45345014,  0.35633671,  0.38296422],\n",
       "       [93.        ,  0.45345116,  0.35633618,  0.3829636 ],\n",
       "       [93.        ,  0.45345217,  0.35633564,  0.382963  ],\n",
       "       [93.        ,  0.45345309,  0.35633513,  0.38296252],\n",
       "       [93.        ,  0.45345402,  0.35633469,  0.38296202],\n",
       "       [93.        ,  0.45345482,  0.35633424,  0.38296157],\n",
       "       [93.        ,  0.45345566,  0.35633385,  0.38296115],\n",
       "       [93.        ,  0.45345652,  0.35633355,  0.38296071],\n",
       "       [93.        ,  0.45345721,  0.35633317,  0.38296032],\n",
       "       [93.        ,  0.45345792,  0.35633287,  0.38296002],\n",
       "       [93.        ,  0.45345855,  0.35633257,  0.38295966],\n",
       "       [93.        ,  0.45345914,  0.35633227,  0.38295934],\n",
       "       [93.        ,  0.45345977,  0.35633206,  0.38295907],\n",
       "       [93.        ,  0.45346025,  0.3563318 ,  0.38295877],\n",
       "       [93.        ,  0.45346078,  0.35633159,  0.38295853],\n",
       "       [93.        ,  0.45346129,  0.35633138,  0.38295829],\n",
       "       [93.        ,  0.45346177,  0.3563312 ,  0.38295808],\n",
       "       [93.        ,  0.45346212,  0.35633099,  0.38295788],\n",
       "       [93.        ,  0.45346257,  0.35633084,  0.3829577 ],\n",
       "       [93.        ,  0.45346293,  0.35633063,  0.38295752],\n",
       "       [93.        ,  0.45346329,  0.35633054,  0.38295743],\n",
       "       [93.        ,  0.45346358,  0.35633039,  0.38295725],\n",
       "       [93.        ,  0.45346391,  0.35633028,  0.38295707],\n",
       "       [93.        ,  0.45346421,  0.3563301 ,  0.38295692],\n",
       "       [93.        ,  0.45346448,  0.35633001,  0.38295683],\n",
       "       [93.        ,  0.45346478,  0.35632995,  0.38295671],\n",
       "       [93.        ,  0.45346501,  0.3563298 ,  0.38295659],\n",
       "       [93.        ,  0.45346519,  0.35632971,  0.3829565 ]])"
      ]
     },
     "execution_count": 523,
     "metadata": {},
     "output_type": "execute_result"
    }
   ],
   "source": [
    "np.column_stack((temp_view[:,0], y_pred[0]))"
   ]
  },
  {
   "cell_type": "code",
   "execution_count": 522,
   "metadata": {},
   "outputs": [
    {
     "data": {
      "text/plain": [
       "(227, 3)"
      ]
     },
     "execution_count": 522,
     "metadata": {},
     "output_type": "execute_result"
    }
   ],
   "source": [
    "y_pred[0].shape"
   ]
  },
  {
   "cell_type": "code",
   "execution_count": 477,
   "metadata": {},
   "outputs": [],
   "source": [
    "indices = np.array([93, 138, 75, 113, 127, 107, 74, 71, 99, 100, 31, 113, 115, 44, 58, 123, 160, 51, 53, 71, 73, 55, 109, 36, 91, 106, 83, 117, 81, 125, 132], dtype=int)"
   ]
  },
  {
   "cell_type": "code",
   "execution_count": 474,
   "metadata": {},
   "outputs": [
    {
     "data": {
      "text/plain": [
       "array([[0., 0., 0.],\n",
       "       [0., 0., 0.],\n",
       "       [0., 0., 0.],\n",
       "       [0., 0., 0.],\n",
       "       [0., 0., 0.],\n",
       "       [0., 0., 0.],\n",
       "       [0., 0., 0.],\n",
       "       [0., 0., 0.],\n",
       "       [0., 0., 0.],\n",
       "       [0., 0., 0.],\n",
       "       [0., 0., 0.],\n",
       "       [0., 0., 0.],\n",
       "       [0., 0., 0.],\n",
       "       [0., 0., 0.],\n",
       "       [0., 0., 0.],\n",
       "       [0., 0., 0.],\n",
       "       [0., 0., 0.],\n",
       "       [0., 0., 0.],\n",
       "       [0., 0., 0.],\n",
       "       [0., 0., 0.],\n",
       "       [0., 0., 0.],\n",
       "       [0., 0., 0.],\n",
       "       [0., 0., 0.],\n",
       "       [0., 0., 0.],\n",
       "       [0., 0., 0.],\n",
       "       [0., 0., 0.],\n",
       "       [0., 0., 0.],\n",
       "       [0., 0., 0.],\n",
       "       [0., 0., 0.],\n",
       "       [0., 0., 0.],\n",
       "       [0., 0., 0.]])"
      ]
     },
     "execution_count": 474,
     "metadata": {},
     "output_type": "execute_result"
    }
   ],
   "source": [
    "result_array = np.zeros((31,3))\n",
    "result_array"
   ]
  },
  {
   "cell_type": "code",
   "execution_count": 479,
   "metadata": {},
   "outputs": [
    {
     "name": "stdout",
     "output_type": "stream",
     "text": [
      "[[0.62405127 0.46837616 0.46676108]\n",
      " [0.45346969 0.4827354  0.46692458]\n",
      " [0.6132136  0.43752983 0.44762152]\n",
      " [0.46546564 0.43169463 0.4535805 ]\n",
      " [0.59287864 0.53782809 0.52094418]\n",
      " [0.42698923 0.59874994 0.55149531]\n",
      " [0.43288428 0.39218187 0.41935813]\n",
      " [0.49858654 0.60377836 0.62612534]\n",
      " [0.63644862 0.45868096 0.45643118]\n",
      " [0.56221497 0.77333617 0.73779714]\n",
      " [0.42207018 0.41943067 0.4463819 ]\n",
      " [0.52377087 0.6495167  0.6786896 ]\n",
      " [0.46227413 0.35045686 0.37379101]\n",
      " [0.44331357 0.39468026 0.42527255]\n",
      " [0.45747414 0.54949278 0.50459599]\n",
      " [0.5289278  0.75499266 0.71839756]\n",
      " [0.66521847 0.86498195 0.85272646]\n",
      " [0.46648428 0.51091504 0.52961534]\n",
      " [0.44953328 0.46751055 0.4949823 ]\n",
      " [0.44616926 0.63701314 0.5917182 ]\n",
      " [0.41558635 0.58468205 0.53641111]\n",
      " [0.63402325 0.4557265  0.45585838]\n",
      " [0.4596929  0.66212469 0.61753905]\n",
      " [0.63198519 0.42135721 0.42702624]\n",
      " [0.44822663 0.37359977 0.39989072]\n",
      " [0.69301885 0.84919608 0.83651984]\n",
      " [0.62785989 0.85373837 0.83781475]\n",
      " [0.43742254 0.62787193 0.58234912]\n",
      " [0.65862453 0.66258907 0.64951575]\n",
      " [0.45037356 0.40291166 0.43294549]\n",
      " [0.51877815 0.53488475 0.528117  ]]\n"
     ]
    }
   ],
   "source": [
    "result_array = np.zeros((31,3))\n",
    "\n",
    "for i in range(31):\n",
    "    preds = y_pred[i]\n",
    "    index = indices[i]\n",
    "    result_array[i] = preds[index]\n",
    "\n",
    "print(result_array)"
   ]
  },
  {
   "cell_type": "code",
   "execution_count": null,
   "metadata": {},
   "outputs": [
    {
     "name": "stdout",
     "output_type": "stream",
     "text": [
      "[0.53013676 0.55569196 0.53418654]\n",
      "[0.5337453  0.5582071  0.53432643]\n",
      "[0.5420909  0.57354784 0.5539571 ]\n",
      "[0.5221847  0.5661213  0.54628444]\n",
      "[0.52148414 0.5557287  0.55210173]\n",
      "[0.53459436 0.5704828  0.5533294 ]\n",
      "[0.51613814 0.5283721  0.5207275 ]\n",
      "[0.49688783 0.47721103 0.47880504]\n",
      "[0.52961034 0.5488094  0.5299921 ]\n",
      "[0.53210354 0.55692476 0.5418285 ]\n",
      "[0.5371291  0.57791984 0.5615365 ]\n",
      "[0.5366516  0.5719235  0.55533177]\n",
      "[0.5270362  0.54664075 0.5387563 ]\n",
      "[0.5266099  0.54344106 0.5354642 ]\n",
      "[0.5303638 0.5552302 0.5349954]\n",
      "[0.5332781  0.55769724 0.52987057]\n",
      "[0.5206891  0.54889566 0.5232087 ]\n",
      "[0.5002634  0.49232733 0.49424678]\n",
      "[0.5237053  0.54902637 0.53993696]\n",
      "[0.519075  0.5678284 0.5390259]\n",
      "[0.5146698 0.5271403 0.5192232]\n",
      "[0.53266644 0.5475122  0.5304242 ]\n",
      "[0.52648085 0.57230884 0.54573524]\n",
      "[0.52206963 0.50888216 0.50373757]\n",
      "[0.52567625 0.5505913  0.5415738 ]\n",
      "[0.52475315 0.5361004  0.51808083]\n",
      "[0.53058904 0.5658232  0.55031896]\n",
      "[0.519643   0.55107087 0.52706593]\n",
      "[0.5382023  0.58185494 0.56147015]\n",
      "[0.49092096 0.4848165  0.48300946]\n",
      "[0.52419686 0.54414016 0.52125025]\n"
     ]
    }
   ],
   "source": [
    "\n",
    "for i in range(31):\n",
    "    preds = y_pred[i]\n",
    "    index = indices[i]\n",
    "    print(preds[index])"
   ]
  },
  {
   "cell_type": "code",
   "execution_count": 458,
   "metadata": {},
   "outputs": [],
   "source": [
    "result_pred = np.array([y_pred[i][indices] for i in range(31)])"
   ]
  },
  {
   "cell_type": "code",
   "execution_count": 462,
   "metadata": {},
   "outputs": [
    {
     "data": {
      "text/plain": [
       "(31, 6004, 3)"
      ]
     },
     "execution_count": 462,
     "metadata": {},
     "output_type": "execute_result"
    }
   ],
   "source": [
    "result_pred.shape"
   ]
  },
  {
   "cell_type": "code",
   "execution_count": 450,
   "metadata": {},
   "outputs": [
    {
     "data": {
      "text/plain": [
       "(31, 227, 3)"
      ]
     },
     "execution_count": 450,
     "metadata": {},
     "output_type": "execute_result"
    }
   ],
   "source": [
    "y_pred.shape"
   ]
  },
  {
   "cell_type": "code",
   "execution_count": 481,
   "metadata": {},
   "outputs": [
    {
     "name": "stdout",
     "output_type": "stream",
     "text": [
      "\u001b[1m1/1\u001b[0m \u001b[32m━━━━━━━━━━━━━━━━━━━━\u001b[0m\u001b[37m\u001b[0m \u001b[1m0s\u001b[0m 69ms/step - accuracy: 0.3926 - loss: 1.1311\n"
     ]
    },
    {
     "data": {
      "text/plain": [
       "(1.1311320066452026, 0.3926389217376709)"
      ]
     },
     "execution_count": 481,
     "metadata": {},
     "output_type": "execute_result"
    }
   ],
   "source": [
    "test_loss, test_acc = top_model.evaluate(X_test_scaled, y__test_encoded_repeated)\n",
    "test_loss, test_acc"
   ]
  },
  {
   "cell_type": "code",
   "execution_count": 311,
   "metadata": {},
   "outputs": [
    {
     "name": "stdout",
     "output_type": "stream",
     "text": [
      "{'C': 771, 'L': 2359, 'R': 2281}\n"
     ]
    }
   ],
   "source": [
    "unique, counts = np.unique(y_train, return_counts=True)\n",
    "result = dict(zip(unique, counts))\n",
    "\n",
    "print(result)"
   ]
  },
  {
   "cell_type": "code",
   "execution_count": 278,
   "metadata": {},
   "outputs": [
    {
     "name": "stdout",
     "output_type": "stream",
     "text": [
      "Class proportions: [0.16129032 0.41935484 0.41935484]\n",
      "Average accuracy of a random predictor: 0.3777\n"
     ]
    }
   ],
   "source": [
    "import numpy as np\n",
    "\n",
    "# Example class counts\n",
    "class_counts = np.array([5, 13, 13])  # Replace with actual class counts\n",
    "total_samples = class_counts.sum()\n",
    "\n",
    "# Compute class proportions\n",
    "class_proportions = class_counts / total_samples\n",
    "\n",
    "# Calculate average accuracy\n",
    "average_accuracy = np.sum(class_proportions**2)\n",
    "\n",
    "print(f\"Class proportions: {class_proportions}\")\n",
    "print(f\"Average accuracy of a random predictor: {average_accuracy:.4f}\")\n"
   ]
  },
  {
   "cell_type": "code",
   "execution_count": 285,
   "metadata": {},
   "outputs": [
    {
     "name": "stdout",
     "output_type": "stream",
     "text": [
      "Empirical accuracy of the random predictor: 0.2903\n",
      "Theoretical average accuracy: 0.3777\n"
     ]
    }
   ],
   "source": [
    "import numpy as np\n",
    "from sklearn.metrics import accuracy_score\n",
    "\n",
    "# Step 1: Define class proportions and generate synthetic data\n",
    "np.random.seed(29)  # For reproducibility\n",
    "\n",
    "# Class counts (unbalanced classes)\n",
    "class_counts = [5, 13, 13]  # Replace with actual counts\n",
    "total_samples = sum(class_counts)\n",
    "class_labels = [0, 1, 2]\n",
    "\n",
    "# Generate true labels based on class proportions\n",
    "true_labels = np.hstack([[label] * count for label, count in zip(class_labels, class_counts)])\n",
    "np.random.shuffle(true_labels)\n",
    "\n",
    "# Step 2: Generate random predictions based on class probabilities\n",
    "class_proportions = np.array(class_counts) / total_samples\n",
    "\n",
    "# Simulate random predictions\n",
    "random_predictions = np.random.choice(\n",
    "    class_labels, size=total_samples, p=class_proportions\n",
    ")\n",
    "\n",
    "# Step 3: Calculate accuracy\n",
    "accuracy = accuracy_score(true_labels, random_predictions)\n",
    "print(f\"Empirical accuracy of the random predictor: {accuracy:.4f}\")\n",
    "\n",
    "# Step 4: Calculate theoretical average accuracy\n",
    "theoretical_accuracy = np.sum(class_proportions**2)\n",
    "print(f\"Theoretical average accuracy: {theoretical_accuracy:.4f}\")\n"
   ]
  },
  {
   "cell_type": "code",
   "execution_count": 276,
   "metadata": {},
   "outputs": [
    {
     "data": {
      "text/plain": [
       "0.02686243356386162"
      ]
     },
     "execution_count": 276,
     "metadata": {},
     "output_type": "execute_result"
    }
   ],
   "source": [
    "np.product(counts/len(y_val))"
   ]
  },
  {
   "cell_type": "code",
   "execution_count": 136,
   "metadata": {},
   "outputs": [
    {
     "data": {
      "image/png": "[encoded data removed]",
      "text/plain": [
       "<Figure size 1200x600 with 2 Axes>"
      ]
     },
     "metadata": {},
     "output_type": "display_data"
    }
   ],
   "source": [
    "import matplotlib.pyplot as plt\n",
    "\n",
    "# Plot training & validation accuracy values\n",
    "plt.figure(figsize=(12, 6))\n",
    "plt.subplot(1, 2, 1)\n",
    "plt.plot(history.history['accuracy'], label='Train Accuracy')\n",
    "plt.plot(history.history['val_accuracy'], label='Validation Accuracy')\n",
    "plt.title('Model Accuracy')\n",
    "plt.xlabel('Epochs')\n",
    "plt.ylabel('Accuracy')\n",
    "plt.legend()\n",
    "\n",
    "# Plot training & validation loss values\n",
    "plt.subplot(1, 2, 2)\n",
    "plt.plot(history.history['loss'], label='Train Loss')\n",
    "plt.plot(history.history['val_loss'], label='Validation Loss')\n",
    "plt.title('Model Loss')\n",
    "plt.xlabel('Epochs')\n",
    "plt.ylabel('Loss')\n",
    "plt.legend()\n",
    "\n",
    "plt.tight_layout()\n",
    "plt.show()\n"
   ]
  },
  {
   "cell_type": "code",
   "execution_count": 35,
   "metadata": {},
   "outputs": [
    {
     "data": {
      "text/plain": [
       "(1, 219, 67)"
      ]
     },
     "execution_count": 35,
     "metadata": {},
     "output_type": "execute_result"
    }
   ],
   "source": [
    "np.array([data[0]]).shape"
   ]
  },
  {
   "cell_type": "code",
   "execution_count": 140,
   "metadata": {},
   "outputs": [
    {
     "data": {
      "text/plain": [
       "array([1])"
      ]
     },
     "execution_count": 140,
     "metadata": {},
     "output_type": "execute_result"
    }
   ],
   "source": [
    "label_encoder.transform(np.array([labels[0]]))"
   ]
  },
  {
   "cell_type": "code",
   "execution_count": null,
   "metadata": {},
   "outputs": [],
   "source": []
  },
  {
   "cell_type": "code",
   "execution_count": 299,
   "metadata": {},
   "outputs": [
    {
     "name": "stdout",
     "output_type": "stream",
     "text": [
      "\u001b[1m1/1\u001b[0m \u001b[32m━━━━━━━━━━━━━━━━━━━━\u001b[0m\u001b[37m\u001b[0m \u001b[1m0s\u001b[0m 101ms/step\n"
     ]
    }
   ],
   "source": [
    "y_pred = model.predict(X_test_scaled)"
   ]
  },
  {
   "cell_type": "code",
   "execution_count": 301,
   "metadata": {},
   "outputs": [
    {
     "data": {
      "text/plain": [
       "(31, 227, 3)"
      ]
     },
     "execution_count": 301,
     "metadata": {},
     "output_type": "execute_result"
    }
   ],
   "source": [
    "y_pred.shape"
   ]
  },
  {
   "cell_type": "code",
   "execution_count": 156,
   "metadata": {},
   "outputs": [
    {
     "data": {
      "text/plain": [
       "array([[0.21080802, 0.7191456 , 0.5950274 ],\n",
       "       [0.01444075, 0.9919905 , 0.10848094],\n",
       "       [0.8416812 , 0.28416497, 0.5215326 ],\n",
       "       ...,\n",
       "       [0.3071882 , 0.1873813 , 0.98200154],\n",
       "       [0.05081065, 0.2561307 , 0.9977978 ],\n",
       "       [0.96895623, 0.0820166 , 0.61298656]], dtype=float32)"
      ]
     },
     "execution_count": 156,
     "metadata": {},
     "output_type": "execute_result"
    }
   ],
   "source": [
    "y_pred[:,-1]"
   ]
  },
  {
   "cell_type": "code",
   "execution_count": 168,
   "metadata": {},
   "outputs": [
    {
     "data": {
      "text/plain": [
       "array([[0., 1., 0.],\n",
       "       [0., 1., 0.],\n",
       "       [0., 0., 1.],\n",
       "       ...,\n",
       "       [0., 0., 1.],\n",
       "       [0., 0., 1.],\n",
       "       [1., 0., 0.]])"
      ]
     },
     "execution_count": 168,
     "metadata": {},
     "output_type": "execute_result"
    }
   ],
   "source": [
    "y_test[:,-1]"
   ]
  },
  {
   "cell_type": "code",
   "execution_count": 302,
   "metadata": {},
   "outputs": [
    {
     "name": "stdout",
     "output_type": "stream",
     "text": [
      "[[0. 0. 1.]\n",
      " [0. 0. 1.]\n",
      " [0. 0. 1.]\n",
      " [0. 1. 0.]\n",
      " [0. 0. 1.]\n",
      " [0. 1. 0.]\n",
      " [0. 0. 1.]\n",
      " [0. 0. 1.]\n",
      " [0. 1. 0.]\n",
      " [0. 0. 1.]\n",
      " [0. 0. 1.]\n",
      " [0. 1. 0.]\n",
      " [0. 0. 1.]\n",
      " [0. 0. 1.]\n",
      " [0. 1. 0.]\n",
      " [0. 1. 0.]\n",
      " [1. 0. 0.]\n",
      " [0. 1. 0.]\n",
      " [0. 1. 0.]\n",
      " [0. 1. 0.]\n",
      " [0. 1. 0.]\n",
      " [0. 0. 1.]\n",
      " [0. 1. 0.]\n",
      " [0. 1. 0.]\n",
      " [0. 0. 1.]\n",
      " [0. 0. 1.]\n",
      " [1. 0. 0.]\n",
      " [0. 1. 0.]\n",
      " [0. 1. 0.]\n",
      " [0. 1. 0.]\n",
      " [0. 1. 0.]]\n"
     ]
    }
   ],
   "source": [
    "arr = y_pred[:,-1]\n",
    "\n",
    "# Create a new array with the same shape as arr, filled with zeros\n",
    "result = np.zeros_like(arr)\n",
    "\n",
    "# Find the indices of the maximum values in each row\n",
    "max_indices = np.argmax(arr, axis=1)\n",
    "\n",
    "# Replace the maximum values with 1\n",
    "rows = np.arange(arr.shape[0])  # Row indices\n",
    "result[rows, max_indices] = 1\n",
    "\n",
    "# Print the resulting array\n",
    "print(result)"
   ]
  },
  {
   "cell_type": "code",
   "execution_count": 304,
   "metadata": {},
   "outputs": [
    {
     "data": {
      "text/plain": [
       "((31,), (31,))"
      ]
     },
     "execution_count": 304,
     "metadata": {},
     "output_type": "execute_result"
    }
   ],
   "source": [
    "indices_y_pred = np.argmax(result, axis=1)\n",
    "indices_y_test = np.argmax(y_test_encoded, axis=1)\n",
    "\n",
    "indices_y_pred.shape, indices_y_test.shape"
   ]
  },
  {
   "cell_type": "code",
   "execution_count": 408,
   "metadata": {},
   "outputs": [
    {
     "name": "stdout",
     "output_type": "stream",
     "text": [
      "\u001b[1m1/1\u001b[0m \u001b[32m━━━━━━━━━━━━━━━━━━━━\u001b[0m\u001b[37m\u001b[0m \u001b[1m0s\u001b[0m 68ms/step - accuracy: 0.3369 - loss: 1.2795\n"
     ]
    }
   ],
   "source": [
    "test_loss, test_acc = model.evaluate(X_test_scaled, y__test_encoded_repeated)"
   ]
  },
  {
   "cell_type": "code",
   "execution_count": 409,
   "metadata": {},
   "outputs": [
    {
     "data": {
      "text/plain": [
       "(1.2795058488845825, 0.33693331480026245)"
      ]
     },
     "execution_count": 409,
     "metadata": {},
     "output_type": "execute_result"
    }
   ],
   "source": [
    "test_loss, test_acc"
   ]
  },
  {
   "cell_type": "code",
   "execution_count": 406,
   "metadata": {},
   "outputs": [
    {
     "data": {
      "text/plain": [
       "array([[0, 2, 3],\n",
       "       [0, 4, 9],\n",
       "       [0, 5, 8]], dtype=int64)"
      ]
     },
     "execution_count": 406,
     "metadata": {},
     "output_type": "execute_result"
    }
   ],
   "source": [
    "from sklearn.metrics import confusion_matrix, classification_report\n",
    "confusion_matrix(indices_y_test,indices_y_pred)"
   ]
  },
  {
   "cell_type": "code",
   "execution_count": 307,
   "metadata": {},
   "outputs": [
    {
     "data": {
      "text/plain": [
       "array(['C', 'R', 'R', 'L', 'R', 'R', 'C', 'R', 'R', 'L', 'L', 'L', 'R',\n",
       "       'L', 'L', 'L', 'L', 'L', 'R', 'R', 'R', 'L', 'C', 'R', 'L', 'R',\n",
       "       'L', 'R', 'C', 'C', 'L'], dtype='<U8')"
      ]
     },
     "execution_count": 307,
     "metadata": {},
     "output_type": "execute_result"
    }
   ],
   "source": [
    "y_test"
   ]
  },
  {
   "cell_type": "code",
   "execution_count": 308,
   "metadata": {},
   "outputs": [
    {
     "data": {
      "text/plain": [
       "array([[1., 0., 0.],\n",
       "       [0., 0., 1.],\n",
       "       [0., 0., 1.],\n",
       "       [0., 1., 0.],\n",
       "       [0., 0., 1.],\n",
       "       [0., 0., 1.],\n",
       "       [1., 0., 0.],\n",
       "       [0., 0., 1.],\n",
       "       [0., 0., 1.],\n",
       "       [0., 1., 0.],\n",
       "       [0., 1., 0.],\n",
       "       [0., 1., 0.],\n",
       "       [0., 0., 1.],\n",
       "       [0., 1., 0.],\n",
       "       [0., 1., 0.],\n",
       "       [0., 1., 0.],\n",
       "       [0., 1., 0.],\n",
       "       [0., 1., 0.],\n",
       "       [0., 0., 1.],\n",
       "       [0., 0., 1.],\n",
       "       [0., 0., 1.],\n",
       "       [0., 1., 0.],\n",
       "       [1., 0., 0.],\n",
       "       [0., 0., 1.],\n",
       "       [0., 1., 0.],\n",
       "       [0., 0., 1.],\n",
       "       [0., 1., 0.],\n",
       "       [0., 0., 1.],\n",
       "       [1., 0., 0.],\n",
       "       [1., 0., 0.],\n",
       "       [0., 1., 0.]])"
      ]
     },
     "execution_count": 308,
     "metadata": {},
     "output_type": "execute_result"
    }
   ],
   "source": [
    "y_test_encoded"
   ]
  },
  {
   "cell_type": "code",
   "execution_count": 306,
   "metadata": {},
   "outputs": [
    {
     "data": {
      "text/plain": [
       "0.3870967741935484"
      ]
     },
     "execution_count": 306,
     "metadata": {},
     "output_type": "execute_result"
    }
   ],
   "source": [
    "12/31\n"
   ]
  },
  {
   "cell_type": "code",
   "execution_count": 305,
   "metadata": {},
   "outputs": [
    {
     "data": {
      "text/plain": [
       "array([[0, 3, 2],\n",
       "       [2, 6, 5],\n",
       "       [0, 7, 6]], dtype=int64)"
      ]
     },
     "execution_count": 305,
     "metadata": {},
     "output_type": "execute_result"
    }
   ],
   "source": [
    "from sklearn.metrics import confusion_matrix, classification_report\n",
    "confusion_matrix(indices_y_test,indices_y_pred)"
   ]
  },
  {
   "cell_type": "code",
   "execution_count": null,
   "metadata": {},
   "outputs": [
    {
     "name": "stdout",
     "output_type": "stream",
     "text": [
      "Misclassified indices: 0.10679773408863712\n",
      "y_pred for misclassified samples: [[[0.32070208 0.60773194 0.6183162 ]\n",
      "  [0.33183488 0.5948708  0.6165115 ]\n",
      "  [0.34734902 0.57986206 0.61288637]\n",
      "  ...\n",
      "  [0.8420839  0.283627   0.52188706]\n",
      "  [0.8418829  0.28389633 0.52170914]\n",
      "  [1.         0.28416497 0.5215326 ]]\n",
      "\n",
      " [[0.3176614  0.60481244 0.62049055]\n",
      "  [0.32009396 0.5891276  0.62767446]\n",
      "  [0.3193242  0.5742134  0.64047456]\n",
      "  ...\n",
      "  [0.9266752  0.18500574 0.51314455]\n",
      "  [0.9266918  0.18507648 0.5127518 ]\n",
      "  [1.         0.18514608 0.5123615 ]]\n",
      "\n",
      " [[0.3135933  0.60994226 0.619167  ]\n",
      "  [0.3094316  0.6032766  0.62120783]\n",
      "  [0.3044201  0.5973509  0.6242488 ]\n",
      "  ...\n",
      "  [0.7672848  0.09902778 0.9110407 ]\n",
      "  [0.76722765 0.09912506 0.9109116 ]\n",
      "  [0.76716924 0.0992225  1.        ]]\n",
      "\n",
      " ...\n",
      "\n",
      " [[0.3191125  0.60548615 0.62043387]\n",
      "  [0.31863788 0.5939966  0.6290493 ]\n",
      "  [0.31148145 0.58631635 0.6422376 ]\n",
      "  ...\n",
      "  [0.19691382 0.91679865 0.11659962]\n",
      "  [0.19659954 0.9171566  0.11609162]\n",
      "  [0.19628605 1.         0.11559211]]\n",
      "\n",
      " [[0.32093716 0.6037383  0.6147806 ]\n",
      "  [0.33337647 0.5841337  0.6107427 ]\n",
      "  [0.3474691  0.5638609  0.6093676 ]\n",
      "  ...\n",
      "  [0.75616187 0.33631253 0.54720724]\n",
      "  [0.75519615 0.33738407 0.5463989 ]\n",
      "  [1.         0.33845216 0.54559684]]\n",
      "\n",
      " [[0.3201649  0.61218923 0.6140236 ]\n",
      "  [0.3307368  0.6038784  0.6076122 ]\n",
      "  [0.3426418  0.59449315 0.6004816 ]\n",
      "  ...\n",
      "  [0.8724105  0.2823541  0.4898263 ]\n",
      "  [0.87237    0.28273025 0.48925593]\n",
      "  [1.         0.2831048  0.48868898]]]\n",
      "y_test for misclassified samples: [[[0. 0. 1.]\n",
      "  [0. 0. 1.]\n",
      "  [0. 0. 1.]\n",
      "  ...\n",
      "  [0. 0. 1.]\n",
      "  [0. 0. 1.]\n",
      "  [0. 0. 1.]]\n",
      "\n",
      " [[0. 0. 1.]\n",
      "  [0. 0. 1.]\n",
      "  [0. 0. 1.]\n",
      "  ...\n",
      "  [0. 0. 1.]\n",
      "  [0. 0. 1.]\n",
      "  [0. 0. 1.]]\n",
      "\n",
      " [[1. 0. 0.]\n",
      "  [1. 0. 0.]\n",
      "  [1. 0. 0.]\n",
      "  ...\n",
      "  [1. 0. 0.]\n",
      "  [1. 0. 0.]\n",
      "  [1. 0. 0.]]\n",
      "\n",
      " ...\n",
      "\n",
      " [[0. 0. 1.]\n",
      "  [0. 0. 1.]\n",
      "  [0. 0. 1.]\n",
      "  ...\n",
      "  [0. 0. 1.]\n",
      "  [0. 0. 1.]\n",
      "  [0. 0. 1.]]\n",
      "\n",
      " [[0. 0. 1.]\n",
      "  [0. 0. 1.]\n",
      "  [0. 0. 1.]\n",
      "  ...\n",
      "  [0. 0. 1.]\n",
      "  [0. 0. 1.]\n",
      "  [0. 0. 1.]]\n",
      "\n",
      " [[0. 0. 1.]\n",
      "  [0. 0. 1.]\n",
      "  [0. 0. 1.]\n",
      "  ...\n",
      "  [0. 0. 1.]\n",
      "  [0. 0. 1.]\n",
      "  [0. 0. 1.]]]\n"
     ]
    }
   ],
   "source": [
    "misclassified_indices = np.where(~np.all(result == y_test[:,-1], axis=1))[0]\n",
    "\n",
    "# Print misclassified examples\n",
    "print(\"Misclassified indices:\", len(misclassified_indices)/6002)\n",
    "print(\"y_pred for misclassified samples:\", y_pred[misclassified_indices])\n",
    "print(\"y_test for misclassified samples:\", y_test[misclassified_indices])"
   ]
  },
  {
   "cell_type": "code",
   "execution_count": 208,
   "metadata": {},
   "outputs": [],
   "source": [
    "testing_data = np.load('FullTestset.npy')\n",
    "testing_labels = np.load(\"LabelsTestSet.npy\")"
   ]
  },
  {
   "cell_type": "code",
   "execution_count": 210,
   "metadata": {},
   "outputs": [
    {
     "data": {
      "text/plain": [
       "(18, 227, 67)"
      ]
     },
     "execution_count": 210,
     "metadata": {},
     "output_type": "execute_result"
    }
   ],
   "source": [
    "testing_data.shape"
   ]
  },
  {
   "cell_type": "code",
   "execution_count": 211,
   "metadata": {},
   "outputs": [],
   "source": [
    "testing_data_reshaped = testing_data.reshape(-1, landmarks)\n",
    "testing_data_scaled = scaler.transform(testing_data_reshaped)\n",
    "testing_data_scaled = testing_data_scaled.reshape(testing_data.shape)"
   ]
  },
  {
   "cell_type": "code",
   "execution_count": null,
   "metadata": {},
   "outputs": [
    {
     "data": {
      "text/plain": [
       "(18, 227, 67)"
      ]
     },
     "execution_count": 214,
     "metadata": {},
     "output_type": "execute_result"
    }
   ],
   "source": [
    "testing_data_scaled"
   ]
  },
  {
   "cell_type": "code",
   "execution_count": 215,
   "metadata": {},
   "outputs": [
    {
     "data": {
      "text/plain": [
       "(18, 3)"
      ]
     },
     "execution_count": 215,
     "metadata": {},
     "output_type": "execute_result"
    }
   ],
   "source": [
    "from sklearn.preprocessing import LabelEncoder\n",
    "from keras.utils import to_categorical\n",
    "label_encoder = LabelEncoder()\n",
    "encoded_labels_testing = label_encoder.fit_transform(testing_labels)\n",
    "\n",
    "y_encoded_testing = to_categorical(encoded_labels_testing, num_classes=3)\n",
    "y_encoded_testing.shape"
   ]
  },
  {
   "cell_type": "code",
   "execution_count": 216,
   "metadata": {},
   "outputs": [
    {
     "data": {
      "text/plain": [
       "(18, 227, 3)"
      ]
     },
     "execution_count": 216,
     "metadata": {},
     "output_type": "execute_result"
    }
   ],
   "source": [
    "y_encoded_repeated_repeated = np.repeat(y_encoded_testing[:, np.newaxis, :], 227, axis=1)  # Shape (samples, 219, 3)\n",
    "y_encoded_repeated_repeated.shape"
   ]
  },
  {
   "cell_type": "code",
   "execution_count": 222,
   "metadata": {},
   "outputs": [
    {
     "name": "stdout",
     "output_type": "stream",
     "text": [
      "\u001b[1m1/1\u001b[0m \u001b[32m━━━━━━━━━━━━━━━━━━━━\u001b[0m\u001b[37m\u001b[0m \u001b[1m0s\u001b[0m 96ms/step\n"
     ]
    }
   ],
   "source": [
    "y_pred_testing = model.predict(testing_data_scaled)"
   ]
  },
  {
   "cell_type": "code",
   "execution_count": 224,
   "metadata": {},
   "outputs": [
    {
     "data": {
      "text/plain": [
       "array([[0., 1., 0.],\n",
       "       [0., 1., 0.],\n",
       "       [1., 0., 0.],\n",
       "       [0., 0., 1.],\n",
       "       [0., 1., 0.],\n",
       "       [0., 0., 1.],\n",
       "       [0., 1., 0.],\n",
       "       [0., 1., 0.],\n",
       "       [0., 1., 0.],\n",
       "       [0., 1., 0.],\n",
       "       [1., 0., 0.],\n",
       "       [0., 1., 0.],\n",
       "       [0., 0., 1.],\n",
       "       [1., 0., 0.],\n",
       "       [1., 0., 0.],\n",
       "       [0., 0., 1.],\n",
       "       [1., 0., 0.],\n",
       "       [0., 0., 1.]])"
      ]
     },
     "execution_count": 224,
     "metadata": {},
     "output_type": "execute_result"
    }
   ],
   "source": [
    "y_encoded_repeated_repeated[:,-1]"
   ]
  },
  {
   "cell_type": "code",
   "execution_count": 225,
   "metadata": {},
   "outputs": [
    {
     "name": "stdout",
     "output_type": "stream",
     "text": [
      "[[0. 0. 1.]\n",
      " [0. 0. 1.]\n",
      " [0. 1. 0.]\n",
      " [1. 0. 0.]\n",
      " [0. 1. 0.]\n",
      " [1. 0. 0.]\n",
      " [0. 0. 1.]\n",
      " [0. 0. 1.]\n",
      " [0. 1. 0.]\n",
      " [0. 1. 0.]\n",
      " [0. 0. 1.]\n",
      " [0. 1. 0.]\n",
      " [0. 0. 1.]\n",
      " [0. 0. 1.]\n",
      " [0. 1. 0.]\n",
      " [0. 1. 0.]\n",
      " [0. 1. 0.]\n",
      " [0. 1. 0.]]\n"
     ]
    }
   ],
   "source": [
    "arr = y_pred_testing[:,-1]\n",
    "\n",
    "# Create a new array with the same shape as arr, filled with zeros\n",
    "result = np.zeros_like(arr)\n",
    "\n",
    "# Find the indices of the maximum values in each row\n",
    "max_indices = np.argmax(arr, axis=1)\n",
    "\n",
    "# Replace the maximum values with 1\n",
    "rows = np.arange(arr.shape[0])  # Row indices\n",
    "result[rows, max_indices] = 1\n",
    "\n",
    "# Print the resulting array\n",
    "print(result)"
   ]
  },
  {
   "cell_type": "code",
   "execution_count": 230,
   "metadata": {},
   "outputs": [
    {
     "data": {
      "text/plain": [
       "(array([1, 1, 0, ..., 2, 2, 0], dtype=int64),\n",
       " array([1, 1, 2, ..., 2, 2, 0], dtype=int64))"
      ]
     },
     "execution_count": 230,
     "metadata": {},
     "output_type": "execute_result"
    }
   ],
   "source": [
    "indices_y_pred_test = np.argmax(result, axis=1)\n",
    "indices_y_test_test = np.argmax(y_encoded_repeated_repeated[:,-1], axis=1)\n",
    "\n",
    "indices_y_pred, indices_y_test"
   ]
  },
  {
   "cell_type": "code",
   "execution_count": 232,
   "metadata": {},
   "outputs": [
    {
     "data": {
      "text/plain": [
       "(array([ 0,  1,  2,  3,  5,  6,  7, 10, 13, 14, 15, 16, 17], dtype=int64),)"
      ]
     },
     "execution_count": 232,
     "metadata": {},
     "output_type": "execute_result"
    }
   ],
   "source": [
    "np.where(indices_y_pred_test!=indices_y_test_test)"
   ]
  }
 ],
 "metadata": {
  "kernelspec": {
   "display_name": "Python 3",
   "language": "python",
   "name": "python3"
  },
  "language_info": {
   "codemirror_mode": {
    "name": "ipython",
    "version": 3
   },
   "file_extension": ".py",
   "mimetype": "text/x-python",
   "name": "python",
   "nbconvert_exporter": "python",
   "pygments_lexer": "ipython3",
   "version": "3.11.0"
  }
 },
 "nbformat": 4,
 "nbformat_minor": 2
}
